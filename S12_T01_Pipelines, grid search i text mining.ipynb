{
 "cells": [
  {
   "cell_type": "markdown",
   "id": "dcd6be5a",
   "metadata": {},
   "source": [
    "## Descripció"
   ]
  },
  {
   "cell_type": "markdown",
   "id": "81fbe001",
   "metadata": {},
   "source": [
    "Comencem a familiaritzar-nos amb Pipelines, grid search i text mining !!! Comencem amb uns quants exercicis bàsics\n"
   ]
  },
  {
   "cell_type": "markdown",
   "id": "317c79e2",
   "metadata": {},
   "source": [
    "## Nivell 1"
   ]
  },
  {
   "cell_type": "markdown",
   "id": "432690a4",
   "metadata": {},
   "source": [
    "**- Exercici 1:**\n",
    "Agafa el conjunt de dades que vulguis i realitza un pipeline i un gridsearch aplicant l'algorisme de Random Forest.\n"
   ]
  },
  {
   "cell_type": "code",
   "execution_count": 1,
   "id": "0299ceea",
   "metadata": {
    "ExecuteTime": {
     "end_time": "2022-04-27T09:48:04.211099Z",
     "start_time": "2022-04-27T09:47:58.190661Z"
    }
   },
   "outputs": [],
   "source": [
    "import pandas as pd \n",
    "import numpy as np\n",
    "import matplotlib.pyplot as plt\n",
    "import seaborn as sns\n",
    "from sklearn.svm import SVC\n",
    "from sklearn.preprocessing import StandardScaler\n",
    "from sklearn.pipeline import Pipeline\n",
    "from sklearn.model_selection import train_test_split \n",
    "from sklearn.ensemble import RandomForestClassifier\n",
    "from sklearn.model_selection import GridSearchCV\n",
    "from collections import Counter\n",
    "from imblearn.over_sampling import SMOTE\n",
    "#Exercici 2\n",
    "import nltk\n",
    "from nltk.tokenize import word_tokenize\n",
    "from nltk.probability import FreqDist\n",
    "import matplotlib.pyplot as plt\n",
    "#Exercici 3\n",
    "from nltk.corpus import stopwords\n",
    "from nltk.stem import PorterStemmer\n",
    "from nltk.tokenize import sent_tokenize\n",
    "#Exercici 4\n",
    "from nltk.sentiment import SentimentIntensityAnalyzer\n",
    "\n",
    "\n",
    "\n",
    "%matplotlib inline   "
   ]
  },
  {
   "cell_type": "markdown",
   "id": "43df00a7",
   "metadata": {},
   "source": [
    "Faig servir una base de dades que es fa servir de prova per entrar en una la **1a Hackathon de LaCaixa**:\n",
    "\n",
    "Los insectos nocturnos representan uno de los grupos más diversos de organismos, por lo que es de suma importancia estudiarlos.\n",
    "\n",
    "Es por ello que un grupo de prestigiosos entomólogos han construido un ecosistema aislado con múltiples especies para poder estudiarlos en mayor detalle. Para este estudio están diseñando un sistema de sensores para poder trackear de forma automática las dinámicas y hábitos de estos insectos.\n",
    "\n",
    "Este dataset contiene datos de las mediciones de los sensores, el tiempo de las mediciones y el tipo de insecto identificado.\n",
    "\n",
    "\n",
    "El dataset de clientes 'train.csv' contiene las siguientes variables:\n",
    "\n",
    "Hour: Hora a la que se ha hecho la medición.\n",
    "\n",
    "Minutes: Minutos en los que se ha realizado la medición.\n",
    "\n",
    "Sensor_alpha: Posición del insecto al sensor alpha.\n",
    "\n",
    "Sensor_beta: Posición del insecto al sensor beta.\n",
    "\n",
    "Sensor_gamma: Posición del insecto al sensor gamma.\n",
    "\n",
    "Sensor_alpha_plus: Posición del insecto al sensor alpha+.\n",
    "\n",
    "Sensor_beta_plus: Posición del insecto al sensor beta+.\n",
    "\n",
    "Sensor_gamma_plus: Posición del insecto al sensor gamma+.\n",
    "\n",
    "Insect: Categoría de insecto.\n",
    "\n",
    "    0 -> Lepidoptero \n",
    "\n",
    "    1 -> Himenoptera\n",
    "\n",
    "    2 -> Diptera\n"
   ]
  },
  {
   "cell_type": "code",
   "execution_count": 2,
   "id": "43a53c61",
   "metadata": {
    "ExecuteTime": {
     "end_time": "2022-04-27T09:48:04.288897Z",
     "start_time": "2022-04-27T09:48:04.215097Z"
    }
   },
   "outputs": [],
   "source": [
    "insect_df=pd.read_csv ('train.csv',index_col=0)"
   ]
  },
  {
   "cell_type": "code",
   "execution_count": 3,
   "id": "ef80b3cb",
   "metadata": {
    "ExecuteTime": {
     "end_time": "2022-04-27T09:48:04.381973Z",
     "start_time": "2022-04-27T09:48:04.291890Z"
    }
   },
   "outputs": [
    {
     "data": {
      "text/html": [
       "<div>\n",
       "<style scoped>\n",
       "    .dataframe tbody tr th:only-of-type {\n",
       "        vertical-align: middle;\n",
       "    }\n",
       "\n",
       "    .dataframe tbody tr th {\n",
       "        vertical-align: top;\n",
       "    }\n",
       "\n",
       "    .dataframe thead th {\n",
       "        text-align: right;\n",
       "    }\n",
       "</style>\n",
       "<table border=\"1\" class=\"dataframe\">\n",
       "  <thead>\n",
       "    <tr style=\"text-align: right;\">\n",
       "      <th></th>\n",
       "      <th>Hour</th>\n",
       "      <th>Minutes</th>\n",
       "      <th>Sensor_alpha</th>\n",
       "      <th>Sensor_beta</th>\n",
       "      <th>Sensor_gamma</th>\n",
       "      <th>Sensor_alpha_plus</th>\n",
       "      <th>Sensor_beta_plus</th>\n",
       "      <th>Sensor_gamma_plus</th>\n",
       "      <th>Insect</th>\n",
       "    </tr>\n",
       "  </thead>\n",
       "  <tbody>\n",
       "    <tr>\n",
       "      <th>count</th>\n",
       "      <td>7001.000000</td>\n",
       "      <td>7001.000000</td>\n",
       "      <td>7001.000000</td>\n",
       "      <td>7001.000000</td>\n",
       "      <td>7001.000000</td>\n",
       "      <td>7001.000000</td>\n",
       "      <td>7001.000000</td>\n",
       "      <td>7001.000000</td>\n",
       "      <td>7001.000000</td>\n",
       "    </tr>\n",
       "    <tr>\n",
       "      <th>mean</th>\n",
       "      <td>19.598914</td>\n",
       "      <td>29.405942</td>\n",
       "      <td>0.477171</td>\n",
       "      <td>-29.974117</td>\n",
       "      <td>-5.624690</td>\n",
       "      <td>7.188060</td>\n",
       "      <td>-0.757901</td>\n",
       "      <td>-0.554533</td>\n",
       "      <td>0.595772</td>\n",
       "    </tr>\n",
       "    <tr>\n",
       "      <th>std</th>\n",
       "      <td>3.507008</td>\n",
       "      <td>17.375830</td>\n",
       "      <td>99.294856</td>\n",
       "      <td>133.095125</td>\n",
       "      <td>115.871391</td>\n",
       "      <td>122.327980</td>\n",
       "      <td>100.039477</td>\n",
       "      <td>100.535951</td>\n",
       "      <td>0.661604</td>\n",
       "    </tr>\n",
       "    <tr>\n",
       "      <th>min</th>\n",
       "      <td>1.000000</td>\n",
       "      <td>0.000000</td>\n",
       "      <td>-404.898823</td>\n",
       "      <td>-656.272666</td>\n",
       "      <td>-448.478039</td>\n",
       "      <td>-437.205393</td>\n",
       "      <td>-387.567443</td>\n",
       "      <td>-374.961689</td>\n",
       "      <td>0.000000</td>\n",
       "    </tr>\n",
       "    <tr>\n",
       "      <th>25%</th>\n",
       "      <td>19.000000</td>\n",
       "      <td>14.000000</td>\n",
       "      <td>-68.573905</td>\n",
       "      <td>-116.060383</td>\n",
       "      <td>-83.508747</td>\n",
       "      <td>-79.496687</td>\n",
       "      <td>-68.061596</td>\n",
       "      <td>-69.652647</td>\n",
       "      <td>0.000000</td>\n",
       "    </tr>\n",
       "    <tr>\n",
       "      <th>50%</th>\n",
       "      <td>21.000000</td>\n",
       "      <td>29.000000</td>\n",
       "      <td>-0.287447</td>\n",
       "      <td>-36.171567</td>\n",
       "      <td>-1.217606</td>\n",
       "      <td>-1.133567</td>\n",
       "      <td>-0.444124</td>\n",
       "      <td>0.027128</td>\n",
       "      <td>0.000000</td>\n",
       "    </tr>\n",
       "    <tr>\n",
       "      <th>75%</th>\n",
       "      <td>21.000000</td>\n",
       "      <td>44.000000</td>\n",
       "      <td>66.480795</td>\n",
       "      <td>56.637778</td>\n",
       "      <td>76.870277</td>\n",
       "      <td>93.285286</td>\n",
       "      <td>66.181909</td>\n",
       "      <td>67.838524</td>\n",
       "      <td>1.000000</td>\n",
       "    </tr>\n",
       "    <tr>\n",
       "      <th>max</th>\n",
       "      <td>23.000000</td>\n",
       "      <td>59.000000</td>\n",
       "      <td>351.256221</td>\n",
       "      <td>518.395878</td>\n",
       "      <td>378.349287</td>\n",
       "      <td>462.556319</td>\n",
       "      <td>345.279240</td>\n",
       "      <td>363.682391</td>\n",
       "      <td>2.000000</td>\n",
       "    </tr>\n",
       "  </tbody>\n",
       "</table>\n",
       "</div>"
      ],
      "text/plain": [
       "              Hour      Minutes  Sensor_alpha  Sensor_beta  Sensor_gamma  \\\n",
       "count  7001.000000  7001.000000   7001.000000  7001.000000   7001.000000   \n",
       "mean     19.598914    29.405942      0.477171   -29.974117     -5.624690   \n",
       "std       3.507008    17.375830     99.294856   133.095125    115.871391   \n",
       "min       1.000000     0.000000   -404.898823  -656.272666   -448.478039   \n",
       "25%      19.000000    14.000000    -68.573905  -116.060383    -83.508747   \n",
       "50%      21.000000    29.000000     -0.287447   -36.171567     -1.217606   \n",
       "75%      21.000000    44.000000     66.480795    56.637778     76.870277   \n",
       "max      23.000000    59.000000    351.256221   518.395878    378.349287   \n",
       "\n",
       "       Sensor_alpha_plus  Sensor_beta_plus  Sensor_gamma_plus       Insect  \n",
       "count        7001.000000       7001.000000        7001.000000  7001.000000  \n",
       "mean            7.188060         -0.757901          -0.554533     0.595772  \n",
       "std           122.327980        100.039477         100.535951     0.661604  \n",
       "min          -437.205393       -387.567443        -374.961689     0.000000  \n",
       "25%           -79.496687        -68.061596         -69.652647     0.000000  \n",
       "50%            -1.133567         -0.444124           0.027128     0.000000  \n",
       "75%            93.285286         66.181909          67.838524     1.000000  \n",
       "max           462.556319        345.279240         363.682391     2.000000  "
      ]
     },
     "execution_count": 3,
     "metadata": {},
     "output_type": "execute_result"
    }
   ],
   "source": [
    "insect_df.describe()"
   ]
  },
  {
   "cell_type": "code",
   "execution_count": 4,
   "id": "b8730456",
   "metadata": {
    "ExecuteTime": {
     "end_time": "2022-04-27T09:48:04.490970Z",
     "start_time": "2022-04-27T09:48:04.388932Z"
    }
   },
   "outputs": [
    {
     "data": {
      "text/html": [
       "<div>\n",
       "<style scoped>\n",
       "    .dataframe tbody tr th:only-of-type {\n",
       "        vertical-align: middle;\n",
       "    }\n",
       "\n",
       "    .dataframe tbody tr th {\n",
       "        vertical-align: top;\n",
       "    }\n",
       "\n",
       "    .dataframe thead th {\n",
       "        text-align: right;\n",
       "    }\n",
       "</style>\n",
       "<table border=\"1\" class=\"dataframe\">\n",
       "  <thead>\n",
       "    <tr style=\"text-align: right;\">\n",
       "      <th></th>\n",
       "      <th>Minutes</th>\n",
       "      <th>Sensor_alpha</th>\n",
       "      <th>Sensor_beta</th>\n",
       "      <th>Sensor_gamma</th>\n",
       "      <th>Sensor_alpha_plus</th>\n",
       "      <th>Sensor_beta_plus</th>\n",
       "      <th>Sensor_gamma_plus</th>\n",
       "      <th>Insect</th>\n",
       "    </tr>\n",
       "  </thead>\n",
       "  <tbody>\n",
       "    <tr>\n",
       "      <th>count</th>\n",
       "      <td>7001.000000</td>\n",
       "      <td>7001.000000</td>\n",
       "      <td>7001.000000</td>\n",
       "      <td>7001.000000</td>\n",
       "      <td>7001.000000</td>\n",
       "      <td>7001.000000</td>\n",
       "      <td>7001.000000</td>\n",
       "      <td>7001.000000</td>\n",
       "    </tr>\n",
       "    <tr>\n",
       "      <th>mean</th>\n",
       "      <td>1205.340808</td>\n",
       "      <td>0.477171</td>\n",
       "      <td>-29.974117</td>\n",
       "      <td>-5.624690</td>\n",
       "      <td>7.188060</td>\n",
       "      <td>-0.757901</td>\n",
       "      <td>-0.554533</td>\n",
       "      <td>0.595772</td>\n",
       "    </tr>\n",
       "    <tr>\n",
       "      <th>std</th>\n",
       "      <td>210.956044</td>\n",
       "      <td>99.294856</td>\n",
       "      <td>133.095125</td>\n",
       "      <td>115.871391</td>\n",
       "      <td>122.327980</td>\n",
       "      <td>100.039477</td>\n",
       "      <td>100.535951</td>\n",
       "      <td>0.661604</td>\n",
       "    </tr>\n",
       "    <tr>\n",
       "      <th>min</th>\n",
       "      <td>61.000000</td>\n",
       "      <td>-404.898823</td>\n",
       "      <td>-656.272666</td>\n",
       "      <td>-448.478039</td>\n",
       "      <td>-437.205393</td>\n",
       "      <td>-387.567443</td>\n",
       "      <td>-374.961689</td>\n",
       "      <td>0.000000</td>\n",
       "    </tr>\n",
       "    <tr>\n",
       "      <th>25%</th>\n",
       "      <td>1177.000000</td>\n",
       "      <td>-68.573905</td>\n",
       "      <td>-116.060383</td>\n",
       "      <td>-83.508747</td>\n",
       "      <td>-79.496687</td>\n",
       "      <td>-68.061596</td>\n",
       "      <td>-69.652647</td>\n",
       "      <td>0.000000</td>\n",
       "    </tr>\n",
       "    <tr>\n",
       "      <th>50%</th>\n",
       "      <td>1272.000000</td>\n",
       "      <td>-0.287447</td>\n",
       "      <td>-36.171567</td>\n",
       "      <td>-1.217606</td>\n",
       "      <td>-1.133567</td>\n",
       "      <td>-0.444124</td>\n",
       "      <td>0.027128</td>\n",
       "      <td>0.000000</td>\n",
       "    </tr>\n",
       "    <tr>\n",
       "      <th>75%</th>\n",
       "      <td>1305.000000</td>\n",
       "      <td>66.480795</td>\n",
       "      <td>56.637778</td>\n",
       "      <td>76.870277</td>\n",
       "      <td>93.285286</td>\n",
       "      <td>66.181909</td>\n",
       "      <td>67.838524</td>\n",
       "      <td>1.000000</td>\n",
       "    </tr>\n",
       "    <tr>\n",
       "      <th>max</th>\n",
       "      <td>1439.000000</td>\n",
       "      <td>351.256221</td>\n",
       "      <td>518.395878</td>\n",
       "      <td>378.349287</td>\n",
       "      <td>462.556319</td>\n",
       "      <td>345.279240</td>\n",
       "      <td>363.682391</td>\n",
       "      <td>2.000000</td>\n",
       "    </tr>\n",
       "  </tbody>\n",
       "</table>\n",
       "</div>"
      ],
      "text/plain": [
       "           Minutes  Sensor_alpha  Sensor_beta  Sensor_gamma  \\\n",
       "count  7001.000000   7001.000000  7001.000000   7001.000000   \n",
       "mean   1205.340808      0.477171   -29.974117     -5.624690   \n",
       "std     210.956044     99.294856   133.095125    115.871391   \n",
       "min      61.000000   -404.898823  -656.272666   -448.478039   \n",
       "25%    1177.000000    -68.573905  -116.060383    -83.508747   \n",
       "50%    1272.000000     -0.287447   -36.171567     -1.217606   \n",
       "75%    1305.000000     66.480795    56.637778     76.870277   \n",
       "max    1439.000000    351.256221   518.395878    378.349287   \n",
       "\n",
       "       Sensor_alpha_plus  Sensor_beta_plus  Sensor_gamma_plus       Insect  \n",
       "count        7001.000000       7001.000000        7001.000000  7001.000000  \n",
       "mean            7.188060         -0.757901          -0.554533     0.595772  \n",
       "std           122.327980        100.039477         100.535951     0.661604  \n",
       "min          -437.205393       -387.567443        -374.961689     0.000000  \n",
       "25%           -79.496687        -68.061596         -69.652647     0.000000  \n",
       "50%            -1.133567         -0.444124           0.027128     0.000000  \n",
       "75%            93.285286         66.181909          67.838524     1.000000  \n",
       "max           462.556319        345.279240         363.682391     2.000000  "
      ]
     },
     "execution_count": 4,
     "metadata": {},
     "output_type": "execute_result"
    }
   ],
   "source": [
    "#Convertim la hora en només minuts per a generar una sola columna expresada en minuts i borrem la columna hora:\n",
    "insect_df['Minutes']=(insect_df['Hour']*60)+insect_df['Minutes']\n",
    "insect_df.drop('Hour',axis=1,inplace=True)\n",
    "insect_df.describe()"
   ]
  },
  {
   "cell_type": "markdown",
   "id": "b861fc94",
   "metadata": {},
   "source": [
    "Per a tenir una visualització de les diferents classes reduim la dimensionalitat dels paràmetres diferents a la classe de l'insecte a dues. "
   ]
  },
  {
   "cell_type": "code",
   "execution_count": 5,
   "id": "b3167b03",
   "metadata": {
    "ExecuteTime": {
     "end_time": "2022-04-27T09:48:04.537801Z",
     "start_time": "2022-04-27T09:48:04.494911Z"
    }
   },
   "outputs": [
    {
     "name": "stdout",
     "output_type": "stream",
     "text": [
      "<class 'pandas.core.frame.DataFrame'>\n",
      "Int64Index: 7001 entries, 0 to 7000\n",
      "Data columns (total 8 columns):\n",
      " #   Column             Non-Null Count  Dtype  \n",
      "---  ------             --------------  -----  \n",
      " 0   Minutes            7001 non-null   int64  \n",
      " 1   Sensor_alpha       7001 non-null   float64\n",
      " 2   Sensor_beta        7001 non-null   float64\n",
      " 3   Sensor_gamma       7001 non-null   float64\n",
      " 4   Sensor_alpha_plus  7001 non-null   float64\n",
      " 5   Sensor_beta_plus   7001 non-null   float64\n",
      " 6   Sensor_gamma_plus  7001 non-null   float64\n",
      " 7   Insect             7001 non-null   int64  \n",
      "dtypes: float64(6), int64(2)\n",
      "memory usage: 492.3 KB\n"
     ]
    }
   ],
   "source": [
    "insect_df.info()"
   ]
  },
  {
   "cell_type": "code",
   "execution_count": 6,
   "id": "4ce90ef6",
   "metadata": {
    "ExecuteTime": {
     "end_time": "2022-04-27T09:48:04.570708Z",
     "start_time": "2022-04-27T09:48:04.543780Z"
    }
   },
   "outputs": [],
   "source": [
    "# Split the dataframe between the label column and  columns which contains the info to label the insects:\n",
    "X=insect_df.copy()\n",
    "X.drop('Insect',axis=1,inplace=True)\n",
    "y=insect_df.Insect #label"
   ]
  },
  {
   "cell_type": "code",
   "execution_count": 7,
   "id": "00d98283",
   "metadata": {
    "ExecuteTime": {
     "end_time": "2022-04-27T09:48:05.021446Z",
     "start_time": "2022-04-27T09:48:04.575696Z"
    },
    "scrolled": true
   },
   "outputs": [
    {
     "data": {
      "text/plain": [
       "Text(0, 0.5, '# of instances')"
      ]
     },
     "execution_count": 7,
     "metadata": {},
     "output_type": "execute_result"
    },
    {
     "data": {
      "image/png": "[encoded data removed]",
      "text/plain": [
       "<Figure size 432x288 with 1 Axes>"
      ]
     },
     "metadata": {
      "needs_background": "light"
     },
     "output_type": "display_data"
    }
   ],
   "source": [
    "#Class distribution checking\n",
    "counter = Counter(y)\n",
    "dist_plot=sns.barplot(x=list(counter.keys()), y=list(counter.values()))\n",
    "dist_plot.set_title('Distribution of instances per label')\n",
    "dist_plot.set_xlabel('Label')\n",
    "dist_plot.set_ylabel('# of instances')"
   ]
  },
  {
   "cell_type": "markdown",
   "id": "85565595",
   "metadata": {},
   "source": [
    "Classes are unbalanced, to improve prediction on the minoritary classes the tool SMOTE is used to equalize the number of instances for each class/label:\n"
   ]
  },
  {
   "cell_type": "code",
   "execution_count": 8,
   "id": "0509b98f",
   "metadata": {
    "ExecuteTime": {
     "end_time": "2022-04-27T09:48:05.207876Z",
     "start_time": "2022-04-27T09:48:05.025435Z"
    }
   },
   "outputs": [],
   "source": [
    "oversample = SMOTE()\n",
    "X, y = oversample.fit_resample(X, y)"
   ]
  },
  {
   "cell_type": "code",
   "execution_count": 9,
   "id": "ba649aaf",
   "metadata": {
    "ExecuteTime": {
     "end_time": "2022-04-27T09:48:05.473170Z",
     "start_time": "2022-04-27T09:48:05.211867Z"
    }
   },
   "outputs": [
    {
     "data": {
      "text/plain": [
       "Text(0, 0.5, '# of instances')"
      ]
     },
     "execution_count": 9,
     "metadata": {},
     "output_type": "execute_result"
    },
    {
     "data": {
      "image/png": "[encoded data removed]",
      "text/plain": [
       "<Figure size 432x288 with 1 Axes>"
      ]
     },
     "metadata": {
      "needs_background": "light"
     },
     "output_type": "display_data"
    }
   ],
   "source": [
    "#Balanced Class distribution\n",
    "dist_plot=sns.barplot(x=y.value_counts().index, y=y.value_counts())\n",
    "dist_plot.set_title('Distribution of instances per label')\n",
    "dist_plot.set_xlabel('Label')\n",
    "dist_plot.set_ylabel('# of instances')"
   ]
  },
  {
   "cell_type": "code",
   "execution_count": 10,
   "id": "5c1462ab",
   "metadata": {
    "ExecuteTime": {
     "end_time": "2022-04-27T09:48:05.505139Z",
     "start_time": "2022-04-27T09:48:05.478156Z"
    }
   },
   "outputs": [],
   "source": [
    "X_train, X_test, y_train, y_test = train_test_split(X, y, test_size=0.3,  stratify=y)"
   ]
  },
  {
   "cell_type": "code",
   "execution_count": 11,
   "id": "17fc41dd",
   "metadata": {
    "ExecuteTime": {
     "end_time": "2022-04-27T09:48:05.521097Z",
     "start_time": "2022-04-27T09:48:05.510127Z"
    }
   },
   "outputs": [],
   "source": [
    "# Using Pipeline and GridSearchCV to obtimize the Random Forest Classifier Model\n",
    "steps = [('scaler', StandardScaler()), ('clf', RandomForestClassifier())]\n",
    "pipeline = Pipeline(steps) # define the pipeline object."
   ]
  },
  {
   "cell_type": "code",
   "execution_count": 12,
   "id": "f1500a92",
   "metadata": {
    "ExecuteTime": {
     "end_time": "2022-04-27T09:48:05.550935Z",
     "start_time": "2022-04-27T09:48:05.527082Z"
    }
   },
   "outputs": [],
   "source": [
    "parameters = {\n",
    "    'clf__bootstrap': [True],\n",
    "    'clf__max_depth': [80, 90, 100, 110],\n",
    "    'clf__max_features': [2, 3],\n",
    "    'clf__min_samples_leaf': [3, 4, 5],\n",
    "    'clf__min_samples_split': [8, 10, 12],\n",
    "    'clf__n_estimators': [50, 100, 300]}"
   ]
  },
  {
   "cell_type": "code",
   "execution_count": 13,
   "id": "56446284",
   "metadata": {
    "ExecuteTime": {
     "end_time": "2022-04-27T10:15:38.270792Z",
     "start_time": "2022-04-27T09:48:05.556920Z"
    }
   },
   "outputs": [
    {
     "name": "stdout",
     "output_type": "stream",
     "text": [
      "Fitting 3 folds for each of 216 candidates, totalling 648 fits\n",
      "[CV] clf__bootstrap=True, clf__max_depth=80, clf__max_features=2, clf__min_samples_leaf=3, clf__min_samples_split=8, clf__n_estimators=50 \n"
     ]
    },
    {
     "name": "stderr",
     "output_type": "stream",
     "text": [
      "[Parallel(n_jobs=1)]: Using backend SequentialBackend with 1 concurrent workers.\n"
     ]
    },
    {
     "name": "stdout",
     "output_type": "stream",
     "text": [
      "[CV]  clf__bootstrap=True, clf__max_depth=80, clf__max_features=2, clf__min_samples_leaf=3, clf__min_samples_split=8, clf__n_estimators=50, score=0.868, total=   0.7s\n",
      "[CV] clf__bootstrap=True, clf__max_depth=80, clf__max_features=2, clf__min_samples_leaf=3, clf__min_samples_split=8, clf__n_estimators=50 \n"
     ]
    },
    {
     "name": "stderr",
     "output_type": "stream",
     "text": [
      "[Parallel(n_jobs=1)]: Done   1 out of   1 | elapsed:    0.6s remaining:    0.0s\n"
     ]
    },
    {
     "name": "stdout",
     "output_type": "stream",
     "text": [
      "[CV]  clf__bootstrap=True, clf__max_depth=80, clf__max_features=2, clf__min_samples_leaf=3, clf__min_samples_split=8, clf__n_estimators=50, score=0.883, total=   0.6s\n",
      "[CV] clf__bootstrap=True, clf__max_depth=80, clf__max_features=2, clf__min_samples_leaf=3, clf__min_samples_split=8, clf__n_estimators=50 \n"
     ]
    },
    {
     "name": "stderr",
     "output_type": "stream",
     "text": [
      "[Parallel(n_jobs=1)]: Done   2 out of   2 | elapsed:    1.2s remaining:    0.0s\n"
     ]
    },
    {
     "name": "stdout",
     "output_type": "stream",
     "text": [
      "[CV]  clf__bootstrap=True, clf__max_depth=80, clf__max_features=2, clf__min_samples_leaf=3, clf__min_samples_split=8, clf__n_estimators=50, score=0.886, total=   0.8s\n",
      "[CV] clf__bootstrap=True, clf__max_depth=80, clf__max_features=2, clf__min_samples_leaf=3, clf__min_samples_split=8, clf__n_estimators=100 \n"
     ]
    },
    {
     "name": "stderr",
     "output_type": "stream",
     "text": [
      "[Parallel(n_jobs=1)]: Done   3 out of   3 | elapsed:    2.1s remaining:    0.0s\n"
     ]
    },
    {
     "name": "stdout",
     "output_type": "stream",
     "text": [
      "[CV]  clf__bootstrap=True, clf__max_depth=80, clf__max_features=2, clf__min_samples_leaf=3, clf__min_samples_split=8, clf__n_estimators=100, score=0.869, total=   1.3s\n",
      "[CV] clf__bootstrap=True, clf__max_depth=80, clf__max_features=2, clf__min_samples_leaf=3, clf__min_samples_split=8, clf__n_estimators=100 \n",
      "[CV]  clf__bootstrap=True, clf__max_depth=80, clf__max_features=2, clf__min_samples_leaf=3, clf__min_samples_split=8, clf__n_estimators=100, score=0.878, total=   1.2s\n",
      "[CV] clf__bootstrap=True, clf__max_depth=80, clf__max_features=2, clf__min_samples_leaf=3, clf__min_samples_split=8, clf__n_estimators=100 \n",
      "[CV]  clf__bootstrap=True, clf__max_depth=80, clf__max_features=2, clf__min_samples_leaf=3, clf__min_samples_split=8, clf__n_estimators=100, score=0.887, total=   1.1s\n",
      "[CV] clf__bootstrap=True, clf__max_depth=80, clf__max_features=2, clf__min_samples_leaf=3, clf__min_samples_split=8, clf__n_estimators=300 \n",
      "[CV]  clf__bootstrap=True, clf__max_depth=80, clf__max_features=2, clf__min_samples_leaf=3, clf__min_samples_split=8, clf__n_estimators=300, score=0.870, total=   3.4s\n",
      "[CV] clf__bootstrap=True, clf__max_depth=80, clf__max_features=2, clf__min_samples_leaf=3, clf__min_samples_split=8, clf__n_estimators=300 \n",
      "[CV]  clf__bootstrap=True, clf__max_depth=80, clf__max_features=2, clf__min_samples_leaf=3, clf__min_samples_split=8, clf__n_estimators=300, score=0.882, total=   3.5s\n",
      "[CV] clf__bootstrap=True, clf__max_depth=80, clf__max_features=2, clf__min_samples_leaf=3, clf__min_samples_split=8, clf__n_estimators=300 \n",
      "[CV]  clf__bootstrap=True, clf__max_depth=80, clf__max_features=2, clf__min_samples_leaf=3, clf__min_samples_split=8, clf__n_estimators=300, score=0.891, total=   3.4s\n",
      "[CV] clf__bootstrap=True, clf__max_depth=80, clf__max_features=2, clf__min_samples_leaf=3, clf__min_samples_split=10, clf__n_estimators=50 \n",
      "[CV]  clf__bootstrap=True, clf__max_depth=80, clf__max_features=2, clf__min_samples_leaf=3, clf__min_samples_split=10, clf__n_estimators=50, score=0.868, total=   0.5s\n",
      "[CV] clf__bootstrap=True, clf__max_depth=80, clf__max_features=2, clf__min_samples_leaf=3, clf__min_samples_split=10, clf__n_estimators=50 \n",
      "[CV]  clf__bootstrap=True, clf__max_depth=80, clf__max_features=2, clf__min_samples_leaf=3, clf__min_samples_split=10, clf__n_estimators=50, score=0.874, total=   0.7s\n",
      "[CV] clf__bootstrap=True, clf__max_depth=80, clf__max_features=2, clf__min_samples_leaf=3, clf__min_samples_split=10, clf__n_estimators=50 \n",
      "[CV]  clf__bootstrap=True, clf__max_depth=80, clf__max_features=2, clf__min_samples_leaf=3, clf__min_samples_split=10, clf__n_estimators=50, score=0.890, total=   0.7s\n",
      "[CV] clf__bootstrap=True, clf__max_depth=80, clf__max_features=2, clf__min_samples_leaf=3, clf__min_samples_split=10, clf__n_estimators=100 \n",
      "[CV]  clf__bootstrap=True, clf__max_depth=80, clf__max_features=2, clf__min_samples_leaf=3, clf__min_samples_split=10, clf__n_estimators=100, score=0.869, total=   1.2s\n",
      "[CV] clf__bootstrap=True, clf__max_depth=80, clf__max_features=2, clf__min_samples_leaf=3, clf__min_samples_split=10, clf__n_estimators=100 \n",
      "[CV]  clf__bootstrap=True, clf__max_depth=80, clf__max_features=2, clf__min_samples_leaf=3, clf__min_samples_split=10, clf__n_estimators=100, score=0.875, total=   1.1s\n",
      "[CV] clf__bootstrap=True, clf__max_depth=80, clf__max_features=2, clf__min_samples_leaf=3, clf__min_samples_split=10, clf__n_estimators=100 \n",
      "[CV]  clf__bootstrap=True, clf__max_depth=80, clf__max_features=2, clf__min_samples_leaf=3, clf__min_samples_split=10, clf__n_estimators=100, score=0.886, total=   1.1s\n",
      "[CV] clf__bootstrap=True, clf__max_depth=80, clf__max_features=2, clf__min_samples_leaf=3, clf__min_samples_split=10, clf__n_estimators=300 \n",
      "[CV]  clf__bootstrap=True, clf__max_depth=80, clf__max_features=2, clf__min_samples_leaf=3, clf__min_samples_split=10, clf__n_estimators=300, score=0.868, total=   3.3s\n",
      "[CV] clf__bootstrap=True, clf__max_depth=80, clf__max_features=2, clf__min_samples_leaf=3, clf__min_samples_split=10, clf__n_estimators=300 \n",
      "[CV]  clf__bootstrap=True, clf__max_depth=80, clf__max_features=2, clf__min_samples_leaf=3, clf__min_samples_split=10, clf__n_estimators=300, score=0.879, total=   3.3s\n",
      "[CV] clf__bootstrap=True, clf__max_depth=80, clf__max_features=2, clf__min_samples_leaf=3, clf__min_samples_split=10, clf__n_estimators=300 \n",
      "[CV]  clf__bootstrap=True, clf__max_depth=80, clf__max_features=2, clf__min_samples_leaf=3, clf__min_samples_split=10, clf__n_estimators=300, score=0.886, total=   3.3s\n",
      "[CV] clf__bootstrap=True, clf__max_depth=80, clf__max_features=2, clf__min_samples_leaf=3, clf__min_samples_split=12, clf__n_estimators=50 \n",
      "[CV]  clf__bootstrap=True, clf__max_depth=80, clf__max_features=2, clf__min_samples_leaf=3, clf__min_samples_split=12, clf__n_estimators=50, score=0.862, total=   0.6s\n",
      "[CV] clf__bootstrap=True, clf__max_depth=80, clf__max_features=2, clf__min_samples_leaf=3, clf__min_samples_split=12, clf__n_estimators=50 \n",
      "[CV]  clf__bootstrap=True, clf__max_depth=80, clf__max_features=2, clf__min_samples_leaf=3, clf__min_samples_split=12, clf__n_estimators=50, score=0.874, total=   0.6s\n",
      "[CV] clf__bootstrap=True, clf__max_depth=80, clf__max_features=2, clf__min_samples_leaf=3, clf__min_samples_split=12, clf__n_estimators=50 \n",
      "[CV]  clf__bootstrap=True, clf__max_depth=80, clf__max_features=2, clf__min_samples_leaf=3, clf__min_samples_split=12, clf__n_estimators=50, score=0.886, total=   0.6s\n",
      "[CV] clf__bootstrap=True, clf__max_depth=80, clf__max_features=2, clf__min_samples_leaf=3, clf__min_samples_split=12, clf__n_estimators=100 \n",
      "[CV]  clf__bootstrap=True, clf__max_depth=80, clf__max_features=2, clf__min_samples_leaf=3, clf__min_samples_split=12, clf__n_estimators=100, score=0.868, total=   1.4s\n",
      "[CV] clf__bootstrap=True, clf__max_depth=80, clf__max_features=2, clf__min_samples_leaf=3, clf__min_samples_split=12, clf__n_estimators=100 \n",
      "[CV]  clf__bootstrap=True, clf__max_depth=80, clf__max_features=2, clf__min_samples_leaf=3, clf__min_samples_split=12, clf__n_estimators=100, score=0.870, total=   1.1s\n",
      "[CV] clf__bootstrap=True, clf__max_depth=80, clf__max_features=2, clf__min_samples_leaf=3, clf__min_samples_split=12, clf__n_estimators=100 \n",
      "[CV]  clf__bootstrap=True, clf__max_depth=80, clf__max_features=2, clf__min_samples_leaf=3, clf__min_samples_split=12, clf__n_estimators=100, score=0.889, total=   1.1s\n",
      "[CV] clf__bootstrap=True, clf__max_depth=80, clf__max_features=2, clf__min_samples_leaf=3, clf__min_samples_split=12, clf__n_estimators=300 \n",
      "[CV]  clf__bootstrap=True, clf__max_depth=80, clf__max_features=2, clf__min_samples_leaf=3, clf__min_samples_split=12, clf__n_estimators=300, score=0.869, total=   3.3s\n",
      "[CV] clf__bootstrap=True, clf__max_depth=80, clf__max_features=2, clf__min_samples_leaf=3, clf__min_samples_split=12, clf__n_estimators=300 \n",
      "[CV]  clf__bootstrap=True, clf__max_depth=80, clf__max_features=2, clf__min_samples_leaf=3, clf__min_samples_split=12, clf__n_estimators=300, score=0.876, total=   3.3s\n",
      "[CV] clf__bootstrap=True, clf__max_depth=80, clf__max_features=2, clf__min_samples_leaf=3, clf__min_samples_split=12, clf__n_estimators=300 \n",
      "[CV]  clf__bootstrap=True, clf__max_depth=80, clf__max_features=2, clf__min_samples_leaf=3, clf__min_samples_split=12, clf__n_estimators=300, score=0.885, total=   3.3s\n",
      "[CV] clf__bootstrap=True, clf__max_depth=80, clf__max_features=2, clf__min_samples_leaf=4, clf__min_samples_split=8, clf__n_estimators=50 \n",
      "[CV]  clf__bootstrap=True, clf__max_depth=80, clf__max_features=2, clf__min_samples_leaf=4, clf__min_samples_split=8, clf__n_estimators=50, score=0.873, total=   0.6s\n",
      "[CV] clf__bootstrap=True, clf__max_depth=80, clf__max_features=2, clf__min_samples_leaf=4, clf__min_samples_split=8, clf__n_estimators=50 \n",
      "[CV]  clf__bootstrap=True, clf__max_depth=80, clf__max_features=2, clf__min_samples_leaf=4, clf__min_samples_split=8, clf__n_estimators=50, score=0.872, total=   0.5s\n",
      "[CV] clf__bootstrap=True, clf__max_depth=80, clf__max_features=2, clf__min_samples_leaf=4, clf__min_samples_split=8, clf__n_estimators=50 \n",
      "[CV]  clf__bootstrap=True, clf__max_depth=80, clf__max_features=2, clf__min_samples_leaf=4, clf__min_samples_split=8, clf__n_estimators=50, score=0.883, total=   0.6s\n",
      "[CV] clf__bootstrap=True, clf__max_depth=80, clf__max_features=2, clf__min_samples_leaf=4, clf__min_samples_split=8, clf__n_estimators=100 \n"
     ]
    },
    {
     "name": "stdout",
     "output_type": "stream",
     "text": [
      "[CV]  clf__bootstrap=True, clf__max_depth=80, clf__max_features=2, clf__min_samples_leaf=4, clf__min_samples_split=8, clf__n_estimators=100, score=0.862, total=   1.2s\n",
      "[CV] clf__bootstrap=True, clf__max_depth=80, clf__max_features=2, clf__min_samples_leaf=4, clf__min_samples_split=8, clf__n_estimators=100 \n",
      "[CV]  clf__bootstrap=True, clf__max_depth=80, clf__max_features=2, clf__min_samples_leaf=4, clf__min_samples_split=8, clf__n_estimators=100, score=0.877, total=   1.3s\n",
      "[CV] clf__bootstrap=True, clf__max_depth=80, clf__max_features=2, clf__min_samples_leaf=4, clf__min_samples_split=8, clf__n_estimators=100 \n",
      "[CV]  clf__bootstrap=True, clf__max_depth=80, clf__max_features=2, clf__min_samples_leaf=4, clf__min_samples_split=8, clf__n_estimators=100, score=0.884, total=   1.1s\n",
      "[CV] clf__bootstrap=True, clf__max_depth=80, clf__max_features=2, clf__min_samples_leaf=4, clf__min_samples_split=8, clf__n_estimators=300 \n",
      "[CV]  clf__bootstrap=True, clf__max_depth=80, clf__max_features=2, clf__min_samples_leaf=4, clf__min_samples_split=8, clf__n_estimators=300, score=0.868, total=   3.3s\n",
      "[CV] clf__bootstrap=True, clf__max_depth=80, clf__max_features=2, clf__min_samples_leaf=4, clf__min_samples_split=8, clf__n_estimators=300 \n",
      "[CV]  clf__bootstrap=True, clf__max_depth=80, clf__max_features=2, clf__min_samples_leaf=4, clf__min_samples_split=8, clf__n_estimators=300, score=0.877, total=   3.3s\n",
      "[CV] clf__bootstrap=True, clf__max_depth=80, clf__max_features=2, clf__min_samples_leaf=4, clf__min_samples_split=8, clf__n_estimators=300 \n",
      "[CV]  clf__bootstrap=True, clf__max_depth=80, clf__max_features=2, clf__min_samples_leaf=4, clf__min_samples_split=8, clf__n_estimators=300, score=0.885, total=   3.3s\n",
      "[CV] clf__bootstrap=True, clf__max_depth=80, clf__max_features=2, clf__min_samples_leaf=4, clf__min_samples_split=10, clf__n_estimators=50 \n",
      "[CV]  clf__bootstrap=True, clf__max_depth=80, clf__max_features=2, clf__min_samples_leaf=4, clf__min_samples_split=10, clf__n_estimators=50, score=0.862, total=   0.6s\n",
      "[CV] clf__bootstrap=True, clf__max_depth=80, clf__max_features=2, clf__min_samples_leaf=4, clf__min_samples_split=10, clf__n_estimators=50 \n",
      "[CV]  clf__bootstrap=True, clf__max_depth=80, clf__max_features=2, clf__min_samples_leaf=4, clf__min_samples_split=10, clf__n_estimators=50, score=0.874, total=   0.5s\n",
      "[CV] clf__bootstrap=True, clf__max_depth=80, clf__max_features=2, clf__min_samples_leaf=4, clf__min_samples_split=10, clf__n_estimators=50 \n",
      "[CV]  clf__bootstrap=True, clf__max_depth=80, clf__max_features=2, clf__min_samples_leaf=4, clf__min_samples_split=10, clf__n_estimators=50, score=0.885, total=   0.6s\n",
      "[CV] clf__bootstrap=True, clf__max_depth=80, clf__max_features=2, clf__min_samples_leaf=4, clf__min_samples_split=10, clf__n_estimators=100 \n",
      "[CV]  clf__bootstrap=True, clf__max_depth=80, clf__max_features=2, clf__min_samples_leaf=4, clf__min_samples_split=10, clf__n_estimators=100, score=0.869, total=   1.1s\n",
      "[CV] clf__bootstrap=True, clf__max_depth=80, clf__max_features=2, clf__min_samples_leaf=4, clf__min_samples_split=10, clf__n_estimators=100 \n",
      "[CV]  clf__bootstrap=True, clf__max_depth=80, clf__max_features=2, clf__min_samples_leaf=4, clf__min_samples_split=10, clf__n_estimators=100, score=0.873, total=   1.4s\n",
      "[CV] clf__bootstrap=True, clf__max_depth=80, clf__max_features=2, clf__min_samples_leaf=4, clf__min_samples_split=10, clf__n_estimators=100 \n",
      "[CV]  clf__bootstrap=True, clf__max_depth=80, clf__max_features=2, clf__min_samples_leaf=4, clf__min_samples_split=10, clf__n_estimators=100, score=0.884, total=   1.2s\n",
      "[CV] clf__bootstrap=True, clf__max_depth=80, clf__max_features=2, clf__min_samples_leaf=4, clf__min_samples_split=10, clf__n_estimators=300 \n",
      "[CV]  clf__bootstrap=True, clf__max_depth=80, clf__max_features=2, clf__min_samples_leaf=4, clf__min_samples_split=10, clf__n_estimators=300, score=0.867, total=   3.3s\n",
      "[CV] clf__bootstrap=True, clf__max_depth=80, clf__max_features=2, clf__min_samples_leaf=4, clf__min_samples_split=10, clf__n_estimators=300 \n",
      "[CV]  clf__bootstrap=True, clf__max_depth=80, clf__max_features=2, clf__min_samples_leaf=4, clf__min_samples_split=10, clf__n_estimators=300, score=0.874, total=   3.3s\n",
      "[CV] clf__bootstrap=True, clf__max_depth=80, clf__max_features=2, clf__min_samples_leaf=4, clf__min_samples_split=10, clf__n_estimators=300 \n",
      "[CV]  clf__bootstrap=True, clf__max_depth=80, clf__max_features=2, clf__min_samples_leaf=4, clf__min_samples_split=10, clf__n_estimators=300, score=0.882, total=   3.3s\n",
      "[CV] clf__bootstrap=True, clf__max_depth=80, clf__max_features=2, clf__min_samples_leaf=4, clf__min_samples_split=12, clf__n_estimators=50 \n",
      "[CV]  clf__bootstrap=True, clf__max_depth=80, clf__max_features=2, clf__min_samples_leaf=4, clf__min_samples_split=12, clf__n_estimators=50, score=0.866, total=   0.5s\n",
      "[CV] clf__bootstrap=True, clf__max_depth=80, clf__max_features=2, clf__min_samples_leaf=4, clf__min_samples_split=12, clf__n_estimators=50 \n",
      "[CV]  clf__bootstrap=True, clf__max_depth=80, clf__max_features=2, clf__min_samples_leaf=4, clf__min_samples_split=12, clf__n_estimators=50, score=0.877, total=   0.6s\n",
      "[CV] clf__bootstrap=True, clf__max_depth=80, clf__max_features=2, clf__min_samples_leaf=4, clf__min_samples_split=12, clf__n_estimators=50 \n",
      "[CV]  clf__bootstrap=True, clf__max_depth=80, clf__max_features=2, clf__min_samples_leaf=4, clf__min_samples_split=12, clf__n_estimators=50, score=0.880, total=   0.6s\n",
      "[CV] clf__bootstrap=True, clf__max_depth=80, clf__max_features=2, clf__min_samples_leaf=4, clf__min_samples_split=12, clf__n_estimators=100 \n",
      "[CV]  clf__bootstrap=True, clf__max_depth=80, clf__max_features=2, clf__min_samples_leaf=4, clf__min_samples_split=12, clf__n_estimators=100, score=0.866, total=   1.2s\n",
      "[CV] clf__bootstrap=True, clf__max_depth=80, clf__max_features=2, clf__min_samples_leaf=4, clf__min_samples_split=12, clf__n_estimators=100 \n",
      "[CV]  clf__bootstrap=True, clf__max_depth=80, clf__max_features=2, clf__min_samples_leaf=4, clf__min_samples_split=12, clf__n_estimators=100, score=0.875, total=   1.2s\n",
      "[CV] clf__bootstrap=True, clf__max_depth=80, clf__max_features=2, clf__min_samples_leaf=4, clf__min_samples_split=12, clf__n_estimators=100 \n",
      "[CV]  clf__bootstrap=True, clf__max_depth=80, clf__max_features=2, clf__min_samples_leaf=4, clf__min_samples_split=12, clf__n_estimators=100, score=0.884, total=   1.4s\n",
      "[CV] clf__bootstrap=True, clf__max_depth=80, clf__max_features=2, clf__min_samples_leaf=4, clf__min_samples_split=12, clf__n_estimators=300 \n",
      "[CV]  clf__bootstrap=True, clf__max_depth=80, clf__max_features=2, clf__min_samples_leaf=4, clf__min_samples_split=12, clf__n_estimators=300, score=0.866, total=   3.2s\n",
      "[CV] clf__bootstrap=True, clf__max_depth=80, clf__max_features=2, clf__min_samples_leaf=4, clf__min_samples_split=12, clf__n_estimators=300 \n",
      "[CV]  clf__bootstrap=True, clf__max_depth=80, clf__max_features=2, clf__min_samples_leaf=4, clf__min_samples_split=12, clf__n_estimators=300, score=0.876, total=   3.2s\n",
      "[CV] clf__bootstrap=True, clf__max_depth=80, clf__max_features=2, clf__min_samples_leaf=4, clf__min_samples_split=12, clf__n_estimators=300 \n",
      "[CV]  clf__bootstrap=True, clf__max_depth=80, clf__max_features=2, clf__min_samples_leaf=4, clf__min_samples_split=12, clf__n_estimators=300, score=0.882, total=   3.1s\n",
      "[CV] clf__bootstrap=True, clf__max_depth=80, clf__max_features=2, clf__min_samples_leaf=5, clf__min_samples_split=8, clf__n_estimators=50 \n",
      "[CV]  clf__bootstrap=True, clf__max_depth=80, clf__max_features=2, clf__min_samples_leaf=5, clf__min_samples_split=8, clf__n_estimators=50, score=0.863, total=   0.6s\n",
      "[CV] clf__bootstrap=True, clf__max_depth=80, clf__max_features=2, clf__min_samples_leaf=5, clf__min_samples_split=8, clf__n_estimators=50 \n",
      "[CV]  clf__bootstrap=True, clf__max_depth=80, clf__max_features=2, clf__min_samples_leaf=5, clf__min_samples_split=8, clf__n_estimators=50, score=0.873, total=   0.5s\n",
      "[CV] clf__bootstrap=True, clf__max_depth=80, clf__max_features=2, clf__min_samples_leaf=5, clf__min_samples_split=8, clf__n_estimators=50 \n",
      "[CV]  clf__bootstrap=True, clf__max_depth=80, clf__max_features=2, clf__min_samples_leaf=5, clf__min_samples_split=8, clf__n_estimators=50, score=0.877, total=   0.6s\n",
      "[CV] clf__bootstrap=True, clf__max_depth=80, clf__max_features=2, clf__min_samples_leaf=5, clf__min_samples_split=8, clf__n_estimators=100 \n"
     ]
    },
    {
     "name": "stdout",
     "output_type": "stream",
     "text": [
      "[CV]  clf__bootstrap=True, clf__max_depth=80, clf__max_features=2, clf__min_samples_leaf=5, clf__min_samples_split=8, clf__n_estimators=100, score=0.863, total=   1.0s\n",
      "[CV] clf__bootstrap=True, clf__max_depth=80, clf__max_features=2, clf__min_samples_leaf=5, clf__min_samples_split=8, clf__n_estimators=100 \n",
      "[CV]  clf__bootstrap=True, clf__max_depth=80, clf__max_features=2, clf__min_samples_leaf=5, clf__min_samples_split=8, clf__n_estimators=100, score=0.871, total=   1.1s\n",
      "[CV] clf__bootstrap=True, clf__max_depth=80, clf__max_features=2, clf__min_samples_leaf=5, clf__min_samples_split=8, clf__n_estimators=100 \n",
      "[CV]  clf__bootstrap=True, clf__max_depth=80, clf__max_features=2, clf__min_samples_leaf=5, clf__min_samples_split=8, clf__n_estimators=100, score=0.884, total=   1.1s\n",
      "[CV] clf__bootstrap=True, clf__max_depth=80, clf__max_features=2, clf__min_samples_leaf=5, clf__min_samples_split=8, clf__n_estimators=300 \n",
      "[CV]  clf__bootstrap=True, clf__max_depth=80, clf__max_features=2, clf__min_samples_leaf=5, clf__min_samples_split=8, clf__n_estimators=300, score=0.864, total=   3.7s\n",
      "[CV] clf__bootstrap=True, clf__max_depth=80, clf__max_features=2, clf__min_samples_leaf=5, clf__min_samples_split=8, clf__n_estimators=300 \n",
      "[CV]  clf__bootstrap=True, clf__max_depth=80, clf__max_features=2, clf__min_samples_leaf=5, clf__min_samples_split=8, clf__n_estimators=300, score=0.875, total=   3.2s\n",
      "[CV] clf__bootstrap=True, clf__max_depth=80, clf__max_features=2, clf__min_samples_leaf=5, clf__min_samples_split=8, clf__n_estimators=300 \n",
      "[CV]  clf__bootstrap=True, clf__max_depth=80, clf__max_features=2, clf__min_samples_leaf=5, clf__min_samples_split=8, clf__n_estimators=300, score=0.882, total=   3.3s\n",
      "[CV] clf__bootstrap=True, clf__max_depth=80, clf__max_features=2, clf__min_samples_leaf=5, clf__min_samples_split=10, clf__n_estimators=50 \n",
      "[CV]  clf__bootstrap=True, clf__max_depth=80, clf__max_features=2, clf__min_samples_leaf=5, clf__min_samples_split=10, clf__n_estimators=50, score=0.864, total=   0.5s\n",
      "[CV] clf__bootstrap=True, clf__max_depth=80, clf__max_features=2, clf__min_samples_leaf=5, clf__min_samples_split=10, clf__n_estimators=50 \n",
      "[CV]  clf__bootstrap=True, clf__max_depth=80, clf__max_features=2, clf__min_samples_leaf=5, clf__min_samples_split=10, clf__n_estimators=50, score=0.867, total=   0.6s\n",
      "[CV] clf__bootstrap=True, clf__max_depth=80, clf__max_features=2, clf__min_samples_leaf=5, clf__min_samples_split=10, clf__n_estimators=50 \n",
      "[CV]  clf__bootstrap=True, clf__max_depth=80, clf__max_features=2, clf__min_samples_leaf=5, clf__min_samples_split=10, clf__n_estimators=50, score=0.888, total=   0.5s\n",
      "[CV] clf__bootstrap=True, clf__max_depth=80, clf__max_features=2, clf__min_samples_leaf=5, clf__min_samples_split=10, clf__n_estimators=100 \n",
      "[CV]  clf__bootstrap=True, clf__max_depth=80, clf__max_features=2, clf__min_samples_leaf=5, clf__min_samples_split=10, clf__n_estimators=100, score=0.866, total=   1.1s\n",
      "[CV] clf__bootstrap=True, clf__max_depth=80, clf__max_features=2, clf__min_samples_leaf=5, clf__min_samples_split=10, clf__n_estimators=100 \n",
      "[CV]  clf__bootstrap=True, clf__max_depth=80, clf__max_features=2, clf__min_samples_leaf=5, clf__min_samples_split=10, clf__n_estimators=100, score=0.873, total=   1.1s\n",
      "[CV] clf__bootstrap=True, clf__max_depth=80, clf__max_features=2, clf__min_samples_leaf=5, clf__min_samples_split=10, clf__n_estimators=100 \n",
      "[CV]  clf__bootstrap=True, clf__max_depth=80, clf__max_features=2, clf__min_samples_leaf=5, clf__min_samples_split=10, clf__n_estimators=100, score=0.882, total=   1.2s\n",
      "[CV] clf__bootstrap=True, clf__max_depth=80, clf__max_features=2, clf__min_samples_leaf=5, clf__min_samples_split=10, clf__n_estimators=300 \n",
      "[CV]  clf__bootstrap=True, clf__max_depth=80, clf__max_features=2, clf__min_samples_leaf=5, clf__min_samples_split=10, clf__n_estimators=300, score=0.862, total=   3.7s\n",
      "[CV] clf__bootstrap=True, clf__max_depth=80, clf__max_features=2, clf__min_samples_leaf=5, clf__min_samples_split=10, clf__n_estimators=300 \n",
      "[CV]  clf__bootstrap=True, clf__max_depth=80, clf__max_features=2, clf__min_samples_leaf=5, clf__min_samples_split=10, clf__n_estimators=300, score=0.874, total=   3.2s\n",
      "[CV] clf__bootstrap=True, clf__max_depth=80, clf__max_features=2, clf__min_samples_leaf=5, clf__min_samples_split=10, clf__n_estimators=300 \n",
      "[CV]  clf__bootstrap=True, clf__max_depth=80, clf__max_features=2, clf__min_samples_leaf=5, clf__min_samples_split=10, clf__n_estimators=300, score=0.881, total=   3.3s\n",
      "[CV] clf__bootstrap=True, clf__max_depth=80, clf__max_features=2, clf__min_samples_leaf=5, clf__min_samples_split=12, clf__n_estimators=50 \n",
      "[CV]  clf__bootstrap=True, clf__max_depth=80, clf__max_features=2, clf__min_samples_leaf=5, clf__min_samples_split=12, clf__n_estimators=50, score=0.860, total=   0.5s\n",
      "[CV] clf__bootstrap=True, clf__max_depth=80, clf__max_features=2, clf__min_samples_leaf=5, clf__min_samples_split=12, clf__n_estimators=50 \n",
      "[CV]  clf__bootstrap=True, clf__max_depth=80, clf__max_features=2, clf__min_samples_leaf=5, clf__min_samples_split=12, clf__n_estimators=50, score=0.871, total=   0.6s\n",
      "[CV] clf__bootstrap=True, clf__max_depth=80, clf__max_features=2, clf__min_samples_leaf=5, clf__min_samples_split=12, clf__n_estimators=50 \n",
      "[CV]  clf__bootstrap=True, clf__max_depth=80, clf__max_features=2, clf__min_samples_leaf=5, clf__min_samples_split=12, clf__n_estimators=50, score=0.877, total=   0.5s\n",
      "[CV] clf__bootstrap=True, clf__max_depth=80, clf__max_features=2, clf__min_samples_leaf=5, clf__min_samples_split=12, clf__n_estimators=100 \n",
      "[CV]  clf__bootstrap=True, clf__max_depth=80, clf__max_features=2, clf__min_samples_leaf=5, clf__min_samples_split=12, clf__n_estimators=100, score=0.862, total=   1.1s\n",
      "[CV] clf__bootstrap=True, clf__max_depth=80, clf__max_features=2, clf__min_samples_leaf=5, clf__min_samples_split=12, clf__n_estimators=100 \n",
      "[CV]  clf__bootstrap=True, clf__max_depth=80, clf__max_features=2, clf__min_samples_leaf=5, clf__min_samples_split=12, clf__n_estimators=100, score=0.873, total=   1.1s\n",
      "[CV] clf__bootstrap=True, clf__max_depth=80, clf__max_features=2, clf__min_samples_leaf=5, clf__min_samples_split=12, clf__n_estimators=100 \n",
      "[CV]  clf__bootstrap=True, clf__max_depth=80, clf__max_features=2, clf__min_samples_leaf=5, clf__min_samples_split=12, clf__n_estimators=100, score=0.884, total=   1.1s\n",
      "[CV] clf__bootstrap=True, clf__max_depth=80, clf__max_features=2, clf__min_samples_leaf=5, clf__min_samples_split=12, clf__n_estimators=300 \n",
      "[CV]  clf__bootstrap=True, clf__max_depth=80, clf__max_features=2, clf__min_samples_leaf=5, clf__min_samples_split=12, clf__n_estimators=300, score=0.865, total=   3.6s\n",
      "[CV] clf__bootstrap=True, clf__max_depth=80, clf__max_features=2, clf__min_samples_leaf=5, clf__min_samples_split=12, clf__n_estimators=300 \n",
      "[CV]  clf__bootstrap=True, clf__max_depth=80, clf__max_features=2, clf__min_samples_leaf=5, clf__min_samples_split=12, clf__n_estimators=300, score=0.870, total=   3.2s\n",
      "[CV] clf__bootstrap=True, clf__max_depth=80, clf__max_features=2, clf__min_samples_leaf=5, clf__min_samples_split=12, clf__n_estimators=300 \n",
      "[CV]  clf__bootstrap=True, clf__max_depth=80, clf__max_features=2, clf__min_samples_leaf=5, clf__min_samples_split=12, clf__n_estimators=300, score=0.881, total=   3.2s\n",
      "[CV] clf__bootstrap=True, clf__max_depth=80, clf__max_features=3, clf__min_samples_leaf=3, clf__min_samples_split=8, clf__n_estimators=50 \n",
      "[CV]  clf__bootstrap=True, clf__max_depth=80, clf__max_features=3, clf__min_samples_leaf=3, clf__min_samples_split=8, clf__n_estimators=50, score=0.870, total=   0.7s\n",
      "[CV] clf__bootstrap=True, clf__max_depth=80, clf__max_features=3, clf__min_samples_leaf=3, clf__min_samples_split=8, clf__n_estimators=50 \n",
      "[CV]  clf__bootstrap=True, clf__max_depth=80, clf__max_features=3, clf__min_samples_leaf=3, clf__min_samples_split=8, clf__n_estimators=50, score=0.877, total=   0.7s\n",
      "[CV] clf__bootstrap=True, clf__max_depth=80, clf__max_features=3, clf__min_samples_leaf=3, clf__min_samples_split=8, clf__n_estimators=50 \n",
      "[CV]  clf__bootstrap=True, clf__max_depth=80, clf__max_features=3, clf__min_samples_leaf=3, clf__min_samples_split=8, clf__n_estimators=50, score=0.888, total=   0.7s\n",
      "[CV] clf__bootstrap=True, clf__max_depth=80, clf__max_features=3, clf__min_samples_leaf=3, clf__min_samples_split=8, clf__n_estimators=100 \n"
     ]
    },
    {
     "name": "stdout",
     "output_type": "stream",
     "text": [
      "[CV]  clf__bootstrap=True, clf__max_depth=80, clf__max_features=3, clf__min_samples_leaf=3, clf__min_samples_split=8, clf__n_estimators=100, score=0.873, total=   1.4s\n",
      "[CV] clf__bootstrap=True, clf__max_depth=80, clf__max_features=3, clf__min_samples_leaf=3, clf__min_samples_split=8, clf__n_estimators=100 \n",
      "[CV]  clf__bootstrap=True, clf__max_depth=80, clf__max_features=3, clf__min_samples_leaf=3, clf__min_samples_split=8, clf__n_estimators=100, score=0.881, total=   1.4s\n",
      "[CV] clf__bootstrap=True, clf__max_depth=80, clf__max_features=3, clf__min_samples_leaf=3, clf__min_samples_split=8, clf__n_estimators=100 \n",
      "[CV]  clf__bootstrap=True, clf__max_depth=80, clf__max_features=3, clf__min_samples_leaf=3, clf__min_samples_split=8, clf__n_estimators=100, score=0.894, total=   1.4s\n",
      "[CV] clf__bootstrap=True, clf__max_depth=80, clf__max_features=3, clf__min_samples_leaf=3, clf__min_samples_split=8, clf__n_estimators=300 \n",
      "[CV]  clf__bootstrap=True, clf__max_depth=80, clf__max_features=3, clf__min_samples_leaf=3, clf__min_samples_split=8, clf__n_estimators=300, score=0.878, total=   4.5s\n",
      "[CV] clf__bootstrap=True, clf__max_depth=80, clf__max_features=3, clf__min_samples_leaf=3, clf__min_samples_split=8, clf__n_estimators=300 \n",
      "[CV]  clf__bootstrap=True, clf__max_depth=80, clf__max_features=3, clf__min_samples_leaf=3, clf__min_samples_split=8, clf__n_estimators=300, score=0.879, total=   4.2s\n",
      "[CV] clf__bootstrap=True, clf__max_depth=80, clf__max_features=3, clf__min_samples_leaf=3, clf__min_samples_split=8, clf__n_estimators=300 \n",
      "[CV]  clf__bootstrap=True, clf__max_depth=80, clf__max_features=3, clf__min_samples_leaf=3, clf__min_samples_split=8, clf__n_estimators=300, score=0.893, total=   4.2s\n",
      "[CV] clf__bootstrap=True, clf__max_depth=80, clf__max_features=3, clf__min_samples_leaf=3, clf__min_samples_split=10, clf__n_estimators=50 \n",
      "[CV]  clf__bootstrap=True, clf__max_depth=80, clf__max_features=3, clf__min_samples_leaf=3, clf__min_samples_split=10, clf__n_estimators=50, score=0.875, total=   0.7s\n",
      "[CV] clf__bootstrap=True, clf__max_depth=80, clf__max_features=3, clf__min_samples_leaf=3, clf__min_samples_split=10, clf__n_estimators=50 \n",
      "[CV]  clf__bootstrap=True, clf__max_depth=80, clf__max_features=3, clf__min_samples_leaf=3, clf__min_samples_split=10, clf__n_estimators=50, score=0.880, total=   0.7s\n",
      "[CV] clf__bootstrap=True, clf__max_depth=80, clf__max_features=3, clf__min_samples_leaf=3, clf__min_samples_split=10, clf__n_estimators=50 \n",
      "[CV]  clf__bootstrap=True, clf__max_depth=80, clf__max_features=3, clf__min_samples_leaf=3, clf__min_samples_split=10, clf__n_estimators=50, score=0.890, total=   0.7s\n",
      "[CV] clf__bootstrap=True, clf__max_depth=80, clf__max_features=3, clf__min_samples_leaf=3, clf__min_samples_split=10, clf__n_estimators=100 \n",
      "[CV]  clf__bootstrap=True, clf__max_depth=80, clf__max_features=3, clf__min_samples_leaf=3, clf__min_samples_split=10, clf__n_estimators=100, score=0.874, total=   1.4s\n",
      "[CV] clf__bootstrap=True, clf__max_depth=80, clf__max_features=3, clf__min_samples_leaf=3, clf__min_samples_split=10, clf__n_estimators=100 \n",
      "[CV]  clf__bootstrap=True, clf__max_depth=80, clf__max_features=3, clf__min_samples_leaf=3, clf__min_samples_split=10, clf__n_estimators=100, score=0.878, total=   1.5s\n",
      "[CV] clf__bootstrap=True, clf__max_depth=80, clf__max_features=3, clf__min_samples_leaf=3, clf__min_samples_split=10, clf__n_estimators=100 \n",
      "[CV]  clf__bootstrap=True, clf__max_depth=80, clf__max_features=3, clf__min_samples_leaf=3, clf__min_samples_split=10, clf__n_estimators=100, score=0.892, total=   1.7s\n",
      "[CV] clf__bootstrap=True, clf__max_depth=80, clf__max_features=3, clf__min_samples_leaf=3, clf__min_samples_split=10, clf__n_estimators=300 \n",
      "[CV]  clf__bootstrap=True, clf__max_depth=80, clf__max_features=3, clf__min_samples_leaf=3, clf__min_samples_split=10, clf__n_estimators=300, score=0.876, total=   4.1s\n",
      "[CV] clf__bootstrap=True, clf__max_depth=80, clf__max_features=3, clf__min_samples_leaf=3, clf__min_samples_split=10, clf__n_estimators=300 \n",
      "[CV]  clf__bootstrap=True, clf__max_depth=80, clf__max_features=3, clf__min_samples_leaf=3, clf__min_samples_split=10, clf__n_estimators=300, score=0.882, total=   4.2s\n",
      "[CV] clf__bootstrap=True, clf__max_depth=80, clf__max_features=3, clf__min_samples_leaf=3, clf__min_samples_split=10, clf__n_estimators=300 \n",
      "[CV]  clf__bootstrap=True, clf__max_depth=80, clf__max_features=3, clf__min_samples_leaf=3, clf__min_samples_split=10, clf__n_estimators=300, score=0.892, total=   4.1s\n",
      "[CV] clf__bootstrap=True, clf__max_depth=80, clf__max_features=3, clf__min_samples_leaf=3, clf__min_samples_split=12, clf__n_estimators=50 \n",
      "[CV]  clf__bootstrap=True, clf__max_depth=80, clf__max_features=3, clf__min_samples_leaf=3, clf__min_samples_split=12, clf__n_estimators=50, score=0.869, total=   0.7s\n",
      "[CV] clf__bootstrap=True, clf__max_depth=80, clf__max_features=3, clf__min_samples_leaf=3, clf__min_samples_split=12, clf__n_estimators=50 \n",
      "[CV]  clf__bootstrap=True, clf__max_depth=80, clf__max_features=3, clf__min_samples_leaf=3, clf__min_samples_split=12, clf__n_estimators=50, score=0.880, total=   0.7s\n",
      "[CV] clf__bootstrap=True, clf__max_depth=80, clf__max_features=3, clf__min_samples_leaf=3, clf__min_samples_split=12, clf__n_estimators=50 \n",
      "[CV]  clf__bootstrap=True, clf__max_depth=80, clf__max_features=3, clf__min_samples_leaf=3, clf__min_samples_split=12, clf__n_estimators=50, score=0.887, total=   0.8s\n",
      "[CV] clf__bootstrap=True, clf__max_depth=80, clf__max_features=3, clf__min_samples_leaf=3, clf__min_samples_split=12, clf__n_estimators=100 \n",
      "[CV]  clf__bootstrap=True, clf__max_depth=80, clf__max_features=3, clf__min_samples_leaf=3, clf__min_samples_split=12, clf__n_estimators=100, score=0.871, total=   1.6s\n",
      "[CV] clf__bootstrap=True, clf__max_depth=80, clf__max_features=3, clf__min_samples_leaf=3, clf__min_samples_split=12, clf__n_estimators=100 \n",
      "[CV]  clf__bootstrap=True, clf__max_depth=80, clf__max_features=3, clf__min_samples_leaf=3, clf__min_samples_split=12, clf__n_estimators=100, score=0.879, total=   1.3s\n",
      "[CV] clf__bootstrap=True, clf__max_depth=80, clf__max_features=3, clf__min_samples_leaf=3, clf__min_samples_split=12, clf__n_estimators=100 \n",
      "[CV]  clf__bootstrap=True, clf__max_depth=80, clf__max_features=3, clf__min_samples_leaf=3, clf__min_samples_split=12, clf__n_estimators=100, score=0.889, total=   1.4s\n",
      "[CV] clf__bootstrap=True, clf__max_depth=80, clf__max_features=3, clf__min_samples_leaf=3, clf__min_samples_split=12, clf__n_estimators=300 \n",
      "[CV]  clf__bootstrap=True, clf__max_depth=80, clf__max_features=3, clf__min_samples_leaf=3, clf__min_samples_split=12, clf__n_estimators=300, score=0.873, total=   4.0s\n",
      "[CV] clf__bootstrap=True, clf__max_depth=80, clf__max_features=3, clf__min_samples_leaf=3, clf__min_samples_split=12, clf__n_estimators=300 \n",
      "[CV]  clf__bootstrap=True, clf__max_depth=80, clf__max_features=3, clf__min_samples_leaf=3, clf__min_samples_split=12, clf__n_estimators=300, score=0.879, total=   4.0s\n",
      "[CV] clf__bootstrap=True, clf__max_depth=80, clf__max_features=3, clf__min_samples_leaf=3, clf__min_samples_split=12, clf__n_estimators=300 \n",
      "[CV]  clf__bootstrap=True, clf__max_depth=80, clf__max_features=3, clf__min_samples_leaf=3, clf__min_samples_split=12, clf__n_estimators=300, score=0.890, total=   4.5s\n",
      "[CV] clf__bootstrap=True, clf__max_depth=80, clf__max_features=3, clf__min_samples_leaf=4, clf__min_samples_split=8, clf__n_estimators=50 \n",
      "[CV]  clf__bootstrap=True, clf__max_depth=80, clf__max_features=3, clf__min_samples_leaf=4, clf__min_samples_split=8, clf__n_estimators=50, score=0.873, total=   0.7s\n",
      "[CV] clf__bootstrap=True, clf__max_depth=80, clf__max_features=3, clf__min_samples_leaf=4, clf__min_samples_split=8, clf__n_estimators=50 \n",
      "[CV]  clf__bootstrap=True, clf__max_depth=80, clf__max_features=3, clf__min_samples_leaf=4, clf__min_samples_split=8, clf__n_estimators=50, score=0.873, total=   0.7s\n",
      "[CV] clf__bootstrap=True, clf__max_depth=80, clf__max_features=3, clf__min_samples_leaf=4, clf__min_samples_split=8, clf__n_estimators=50 \n",
      "[CV]  clf__bootstrap=True, clf__max_depth=80, clf__max_features=3, clf__min_samples_leaf=4, clf__min_samples_split=8, clf__n_estimators=50, score=0.886, total=   0.7s\n",
      "[CV] clf__bootstrap=True, clf__max_depth=80, clf__max_features=3, clf__min_samples_leaf=4, clf__min_samples_split=8, clf__n_estimators=100 \n"
     ]
    },
    {
     "name": "stdout",
     "output_type": "stream",
     "text": [
      "[CV]  clf__bootstrap=True, clf__max_depth=80, clf__max_features=3, clf__min_samples_leaf=4, clf__min_samples_split=8, clf__n_estimators=100, score=0.872, total=   1.4s\n",
      "[CV] clf__bootstrap=True, clf__max_depth=80, clf__max_features=3, clf__min_samples_leaf=4, clf__min_samples_split=8, clf__n_estimators=100 \n",
      "[CV]  clf__bootstrap=True, clf__max_depth=80, clf__max_features=3, clf__min_samples_leaf=4, clf__min_samples_split=8, clf__n_estimators=100, score=0.882, total=   1.4s\n",
      "[CV] clf__bootstrap=True, clf__max_depth=80, clf__max_features=3, clf__min_samples_leaf=4, clf__min_samples_split=8, clf__n_estimators=100 \n",
      "[CV]  clf__bootstrap=True, clf__max_depth=80, clf__max_features=3, clf__min_samples_leaf=4, clf__min_samples_split=8, clf__n_estimators=100, score=0.895, total=   1.4s\n",
      "[CV] clf__bootstrap=True, clf__max_depth=80, clf__max_features=3, clf__min_samples_leaf=4, clf__min_samples_split=8, clf__n_estimators=300 \n",
      "[CV]  clf__bootstrap=True, clf__max_depth=80, clf__max_features=3, clf__min_samples_leaf=4, clf__min_samples_split=8, clf__n_estimators=300, score=0.873, total=   4.1s\n",
      "[CV] clf__bootstrap=True, clf__max_depth=80, clf__max_features=3, clf__min_samples_leaf=4, clf__min_samples_split=8, clf__n_estimators=300 \n",
      "[CV]  clf__bootstrap=True, clf__max_depth=80, clf__max_features=3, clf__min_samples_leaf=4, clf__min_samples_split=8, clf__n_estimators=300, score=0.885, total=   4.1s\n",
      "[CV] clf__bootstrap=True, clf__max_depth=80, clf__max_features=3, clf__min_samples_leaf=4, clf__min_samples_split=8, clf__n_estimators=300 \n",
      "[CV]  clf__bootstrap=True, clf__max_depth=80, clf__max_features=3, clf__min_samples_leaf=4, clf__min_samples_split=8, clf__n_estimators=300, score=0.886, total=   4.5s\n",
      "[CV] clf__bootstrap=True, clf__max_depth=80, clf__max_features=3, clf__min_samples_leaf=4, clf__min_samples_split=10, clf__n_estimators=50 \n",
      "[CV]  clf__bootstrap=True, clf__max_depth=80, clf__max_features=3, clf__min_samples_leaf=4, clf__min_samples_split=10, clf__n_estimators=50, score=0.870, total=   0.7s\n",
      "[CV] clf__bootstrap=True, clf__max_depth=80, clf__max_features=3, clf__min_samples_leaf=4, clf__min_samples_split=10, clf__n_estimators=50 \n",
      "[CV]  clf__bootstrap=True, clf__max_depth=80, clf__max_features=3, clf__min_samples_leaf=4, clf__min_samples_split=10, clf__n_estimators=50, score=0.876, total=   0.7s\n",
      "[CV] clf__bootstrap=True, clf__max_depth=80, clf__max_features=3, clf__min_samples_leaf=4, clf__min_samples_split=10, clf__n_estimators=50 \n",
      "[CV]  clf__bootstrap=True, clf__max_depth=80, clf__max_features=3, clf__min_samples_leaf=4, clf__min_samples_split=10, clf__n_estimators=50, score=0.889, total=   0.7s\n",
      "[CV] clf__bootstrap=True, clf__max_depth=80, clf__max_features=3, clf__min_samples_leaf=4, clf__min_samples_split=10, clf__n_estimators=100 \n",
      "[CV]  clf__bootstrap=True, clf__max_depth=80, clf__max_features=3, clf__min_samples_leaf=4, clf__min_samples_split=10, clf__n_estimators=100, score=0.869, total=   1.4s\n",
      "[CV] clf__bootstrap=True, clf__max_depth=80, clf__max_features=3, clf__min_samples_leaf=4, clf__min_samples_split=10, clf__n_estimators=100 \n",
      "[CV]  clf__bootstrap=True, clf__max_depth=80, clf__max_features=3, clf__min_samples_leaf=4, clf__min_samples_split=10, clf__n_estimators=100, score=0.878, total=   1.4s\n",
      "[CV] clf__bootstrap=True, clf__max_depth=80, clf__max_features=3, clf__min_samples_leaf=4, clf__min_samples_split=10, clf__n_estimators=100 \n",
      "[CV]  clf__bootstrap=True, clf__max_depth=80, clf__max_features=3, clf__min_samples_leaf=4, clf__min_samples_split=10, clf__n_estimators=100, score=0.893, total=   1.4s\n",
      "[CV] clf__bootstrap=True, clf__max_depth=80, clf__max_features=3, clf__min_samples_leaf=4, clf__min_samples_split=10, clf__n_estimators=300 \n",
      "[CV]  clf__bootstrap=True, clf__max_depth=80, clf__max_features=3, clf__min_samples_leaf=4, clf__min_samples_split=10, clf__n_estimators=300, score=0.870, total=   4.1s\n",
      "[CV] clf__bootstrap=True, clf__max_depth=80, clf__max_features=3, clf__min_samples_leaf=4, clf__min_samples_split=10, clf__n_estimators=300 \n",
      "[CV]  clf__bootstrap=True, clf__max_depth=80, clf__max_features=3, clf__min_samples_leaf=4, clf__min_samples_split=10, clf__n_estimators=300, score=0.880, total=   4.4s\n",
      "[CV] clf__bootstrap=True, clf__max_depth=80, clf__max_features=3, clf__min_samples_leaf=4, clf__min_samples_split=10, clf__n_estimators=300 \n",
      "[CV]  clf__bootstrap=True, clf__max_depth=80, clf__max_features=3, clf__min_samples_leaf=4, clf__min_samples_split=10, clf__n_estimators=300, score=0.890, total=   4.1s\n",
      "[CV] clf__bootstrap=True, clf__max_depth=80, clf__max_features=3, clf__min_samples_leaf=4, clf__min_samples_split=12, clf__n_estimators=50 \n",
      "[CV]  clf__bootstrap=True, clf__max_depth=80, clf__max_features=3, clf__min_samples_leaf=4, clf__min_samples_split=12, clf__n_estimators=50, score=0.863, total=   0.7s\n",
      "[CV] clf__bootstrap=True, clf__max_depth=80, clf__max_features=3, clf__min_samples_leaf=4, clf__min_samples_split=12, clf__n_estimators=50 \n",
      "[CV]  clf__bootstrap=True, clf__max_depth=80, clf__max_features=3, clf__min_samples_leaf=4, clf__min_samples_split=12, clf__n_estimators=50, score=0.869, total=   0.7s\n",
      "[CV] clf__bootstrap=True, clf__max_depth=80, clf__max_features=3, clf__min_samples_leaf=4, clf__min_samples_split=12, clf__n_estimators=50 \n",
      "[CV]  clf__bootstrap=True, clf__max_depth=80, clf__max_features=3, clf__min_samples_leaf=4, clf__min_samples_split=12, clf__n_estimators=50, score=0.885, total=   0.7s\n",
      "[CV] clf__bootstrap=True, clf__max_depth=80, clf__max_features=3, clf__min_samples_leaf=4, clf__min_samples_split=12, clf__n_estimators=100 \n",
      "[CV]  clf__bootstrap=True, clf__max_depth=80, clf__max_features=3, clf__min_samples_leaf=4, clf__min_samples_split=12, clf__n_estimators=100, score=0.866, total=   1.3s\n",
      "[CV] clf__bootstrap=True, clf__max_depth=80, clf__max_features=3, clf__min_samples_leaf=4, clf__min_samples_split=12, clf__n_estimators=100 \n",
      "[CV]  clf__bootstrap=True, clf__max_depth=80, clf__max_features=3, clf__min_samples_leaf=4, clf__min_samples_split=12, clf__n_estimators=100, score=0.877, total=   1.4s\n",
      "[CV] clf__bootstrap=True, clf__max_depth=80, clf__max_features=3, clf__min_samples_leaf=4, clf__min_samples_split=12, clf__n_estimators=100 \n",
      "[CV]  clf__bootstrap=True, clf__max_depth=80, clf__max_features=3, clf__min_samples_leaf=4, clf__min_samples_split=12, clf__n_estimators=100, score=0.884, total=   1.4s\n",
      "[CV] clf__bootstrap=True, clf__max_depth=80, clf__max_features=3, clf__min_samples_leaf=4, clf__min_samples_split=12, clf__n_estimators=300 \n",
      "[CV]  clf__bootstrap=True, clf__max_depth=80, clf__max_features=3, clf__min_samples_leaf=4, clf__min_samples_split=12, clf__n_estimators=300, score=0.870, total=   4.4s\n",
      "[CV] clf__bootstrap=True, clf__max_depth=80, clf__max_features=3, clf__min_samples_leaf=4, clf__min_samples_split=12, clf__n_estimators=300 \n",
      "[CV]  clf__bootstrap=True, clf__max_depth=80, clf__max_features=3, clf__min_samples_leaf=4, clf__min_samples_split=12, clf__n_estimators=300, score=0.877, total=   4.0s\n",
      "[CV] clf__bootstrap=True, clf__max_depth=80, clf__max_features=3, clf__min_samples_leaf=4, clf__min_samples_split=12, clf__n_estimators=300 \n",
      "[CV]  clf__bootstrap=True, clf__max_depth=80, clf__max_features=3, clf__min_samples_leaf=4, clf__min_samples_split=12, clf__n_estimators=300, score=0.885, total=   4.0s\n",
      "[CV] clf__bootstrap=True, clf__max_depth=80, clf__max_features=3, clf__min_samples_leaf=5, clf__min_samples_split=8, clf__n_estimators=50 \n",
      "[CV]  clf__bootstrap=True, clf__max_depth=80, clf__max_features=3, clf__min_samples_leaf=5, clf__min_samples_split=8, clf__n_estimators=50, score=0.867, total=   0.9s\n",
      "[CV] clf__bootstrap=True, clf__max_depth=80, clf__max_features=3, clf__min_samples_leaf=5, clf__min_samples_split=8, clf__n_estimators=50 \n",
      "[CV]  clf__bootstrap=True, clf__max_depth=80, clf__max_features=3, clf__min_samples_leaf=5, clf__min_samples_split=8, clf__n_estimators=50, score=0.877, total=   0.8s\n",
      "[CV] clf__bootstrap=True, clf__max_depth=80, clf__max_features=3, clf__min_samples_leaf=5, clf__min_samples_split=8, clf__n_estimators=50 \n",
      "[CV]  clf__bootstrap=True, clf__max_depth=80, clf__max_features=3, clf__min_samples_leaf=5, clf__min_samples_split=8, clf__n_estimators=50, score=0.885, total=   0.9s\n",
      "[CV] clf__bootstrap=True, clf__max_depth=80, clf__max_features=3, clf__min_samples_leaf=5, clf__min_samples_split=8, clf__n_estimators=100 \n"
     ]
    },
    {
     "name": "stdout",
     "output_type": "stream",
     "text": [
      "[CV]  clf__bootstrap=True, clf__max_depth=80, clf__max_features=3, clf__min_samples_leaf=5, clf__min_samples_split=8, clf__n_estimators=100, score=0.865, total=   1.5s\n",
      "[CV] clf__bootstrap=True, clf__max_depth=80, clf__max_features=3, clf__min_samples_leaf=5, clf__min_samples_split=8, clf__n_estimators=100 \n",
      "[CV]  clf__bootstrap=True, clf__max_depth=80, clf__max_features=3, clf__min_samples_leaf=5, clf__min_samples_split=8, clf__n_estimators=100, score=0.876, total=   1.3s\n",
      "[CV] clf__bootstrap=True, clf__max_depth=80, clf__max_features=3, clf__min_samples_leaf=5, clf__min_samples_split=8, clf__n_estimators=100 \n",
      "[CV]  clf__bootstrap=True, clf__max_depth=80, clf__max_features=3, clf__min_samples_leaf=5, clf__min_samples_split=8, clf__n_estimators=100, score=0.881, total=   1.5s\n",
      "[CV] clf__bootstrap=True, clf__max_depth=80, clf__max_features=3, clf__min_samples_leaf=5, clf__min_samples_split=8, clf__n_estimators=300 \n",
      "[CV]  clf__bootstrap=True, clf__max_depth=80, clf__max_features=3, clf__min_samples_leaf=5, clf__min_samples_split=8, clf__n_estimators=300, score=0.871, total=   4.2s\n",
      "[CV] clf__bootstrap=True, clf__max_depth=80, clf__max_features=3, clf__min_samples_leaf=5, clf__min_samples_split=8, clf__n_estimators=300 \n",
      "[CV]  clf__bootstrap=True, clf__max_depth=80, clf__max_features=3, clf__min_samples_leaf=5, clf__min_samples_split=8, clf__n_estimators=300, score=0.876, total=   4.0s\n",
      "[CV] clf__bootstrap=True, clf__max_depth=80, clf__max_features=3, clf__min_samples_leaf=5, clf__min_samples_split=8, clf__n_estimators=300 \n",
      "[CV]  clf__bootstrap=True, clf__max_depth=80, clf__max_features=3, clf__min_samples_leaf=5, clf__min_samples_split=8, clf__n_estimators=300, score=0.889, total=   4.2s\n",
      "[CV] clf__bootstrap=True, clf__max_depth=80, clf__max_features=3, clf__min_samples_leaf=5, clf__min_samples_split=10, clf__n_estimators=50 \n",
      "[CV]  clf__bootstrap=True, clf__max_depth=80, clf__max_features=3, clf__min_samples_leaf=5, clf__min_samples_split=10, clf__n_estimators=50, score=0.871, total=   0.7s\n",
      "[CV] clf__bootstrap=True, clf__max_depth=80, clf__max_features=3, clf__min_samples_leaf=5, clf__min_samples_split=10, clf__n_estimators=50 \n",
      "[CV]  clf__bootstrap=True, clf__max_depth=80, clf__max_features=3, clf__min_samples_leaf=5, clf__min_samples_split=10, clf__n_estimators=50, score=0.881, total=   0.7s\n",
      "[CV] clf__bootstrap=True, clf__max_depth=80, clf__max_features=3, clf__min_samples_leaf=5, clf__min_samples_split=10, clf__n_estimators=50 \n",
      "[CV]  clf__bootstrap=True, clf__max_depth=80, clf__max_features=3, clf__min_samples_leaf=5, clf__min_samples_split=10, clf__n_estimators=50, score=0.884, total=   0.7s\n",
      "[CV] clf__bootstrap=True, clf__max_depth=80, clf__max_features=3, clf__min_samples_leaf=5, clf__min_samples_split=10, clf__n_estimators=100 \n",
      "[CV]  clf__bootstrap=True, clf__max_depth=80, clf__max_features=3, clf__min_samples_leaf=5, clf__min_samples_split=10, clf__n_estimators=100, score=0.868, total=   1.5s\n",
      "[CV] clf__bootstrap=True, clf__max_depth=80, clf__max_features=3, clf__min_samples_leaf=5, clf__min_samples_split=10, clf__n_estimators=100 \n",
      "[CV]  clf__bootstrap=True, clf__max_depth=80, clf__max_features=3, clf__min_samples_leaf=5, clf__min_samples_split=10, clf__n_estimators=100, score=0.878, total=   1.6s\n",
      "[CV] clf__bootstrap=True, clf__max_depth=80, clf__max_features=3, clf__min_samples_leaf=5, clf__min_samples_split=10, clf__n_estimators=100 \n",
      "[CV]  clf__bootstrap=True, clf__max_depth=80, clf__max_features=3, clf__min_samples_leaf=5, clf__min_samples_split=10, clf__n_estimators=100, score=0.888, total=   1.3s\n",
      "[CV] clf__bootstrap=True, clf__max_depth=80, clf__max_features=3, clf__min_samples_leaf=5, clf__min_samples_split=10, clf__n_estimators=300 \n",
      "[CV]  clf__bootstrap=True, clf__max_depth=80, clf__max_features=3, clf__min_samples_leaf=5, clf__min_samples_split=10, clf__n_estimators=300, score=0.870, total=   4.0s\n",
      "[CV] clf__bootstrap=True, clf__max_depth=80, clf__max_features=3, clf__min_samples_leaf=5, clf__min_samples_split=10, clf__n_estimators=300 \n",
      "[CV]  clf__bootstrap=True, clf__max_depth=80, clf__max_features=3, clf__min_samples_leaf=5, clf__min_samples_split=10, clf__n_estimators=300, score=0.876, total=   4.0s\n",
      "[CV] clf__bootstrap=True, clf__max_depth=80, clf__max_features=3, clf__min_samples_leaf=5, clf__min_samples_split=10, clf__n_estimators=300 \n",
      "[CV]  clf__bootstrap=True, clf__max_depth=80, clf__max_features=3, clf__min_samples_leaf=5, clf__min_samples_split=10, clf__n_estimators=300, score=0.884, total=   4.2s\n",
      "[CV] clf__bootstrap=True, clf__max_depth=80, clf__max_features=3, clf__min_samples_leaf=5, clf__min_samples_split=12, clf__n_estimators=50 \n",
      "[CV]  clf__bootstrap=True, clf__max_depth=80, clf__max_features=3, clf__min_samples_leaf=5, clf__min_samples_split=12, clf__n_estimators=50, score=0.866, total=   0.9s\n",
      "[CV] clf__bootstrap=True, clf__max_depth=80, clf__max_features=3, clf__min_samples_leaf=5, clf__min_samples_split=12, clf__n_estimators=50 \n",
      "[CV]  clf__bootstrap=True, clf__max_depth=80, clf__max_features=3, clf__min_samples_leaf=5, clf__min_samples_split=12, clf__n_estimators=50, score=0.870, total=   0.9s\n",
      "[CV] clf__bootstrap=True, clf__max_depth=80, clf__max_features=3, clf__min_samples_leaf=5, clf__min_samples_split=12, clf__n_estimators=50 \n",
      "[CV]  clf__bootstrap=True, clf__max_depth=80, clf__max_features=3, clf__min_samples_leaf=5, clf__min_samples_split=12, clf__n_estimators=50, score=0.880, total=   0.7s\n",
      "[CV] clf__bootstrap=True, clf__max_depth=80, clf__max_features=3, clf__min_samples_leaf=5, clf__min_samples_split=12, clf__n_estimators=100 \n",
      "[CV]  clf__bootstrap=True, clf__max_depth=80, clf__max_features=3, clf__min_samples_leaf=5, clf__min_samples_split=12, clf__n_estimators=100, score=0.864, total=   1.5s\n",
      "[CV] clf__bootstrap=True, clf__max_depth=80, clf__max_features=3, clf__min_samples_leaf=5, clf__min_samples_split=12, clf__n_estimators=100 \n",
      "[CV]  clf__bootstrap=True, clf__max_depth=80, clf__max_features=3, clf__min_samples_leaf=5, clf__min_samples_split=12, clf__n_estimators=100, score=0.870, total=   1.8s\n",
      "[CV] clf__bootstrap=True, clf__max_depth=80, clf__max_features=3, clf__min_samples_leaf=5, clf__min_samples_split=12, clf__n_estimators=100 \n",
      "[CV]  clf__bootstrap=True, clf__max_depth=80, clf__max_features=3, clf__min_samples_leaf=5, clf__min_samples_split=12, clf__n_estimators=100, score=0.884, total=   1.6s\n",
      "[CV] clf__bootstrap=True, clf__max_depth=80, clf__max_features=3, clf__min_samples_leaf=5, clf__min_samples_split=12, clf__n_estimators=300 \n",
      "[CV]  clf__bootstrap=True, clf__max_depth=80, clf__max_features=3, clf__min_samples_leaf=5, clf__min_samples_split=12, clf__n_estimators=300, score=0.867, total=   4.0s\n",
      "[CV] clf__bootstrap=True, clf__max_depth=80, clf__max_features=3, clf__min_samples_leaf=5, clf__min_samples_split=12, clf__n_estimators=300 \n",
      "[CV]  clf__bootstrap=True, clf__max_depth=80, clf__max_features=3, clf__min_samples_leaf=5, clf__min_samples_split=12, clf__n_estimators=300, score=0.877, total=   4.2s\n",
      "[CV] clf__bootstrap=True, clf__max_depth=80, clf__max_features=3, clf__min_samples_leaf=5, clf__min_samples_split=12, clf__n_estimators=300 \n",
      "[CV]  clf__bootstrap=True, clf__max_depth=80, clf__max_features=3, clf__min_samples_leaf=5, clf__min_samples_split=12, clf__n_estimators=300, score=0.885, total=   4.3s\n",
      "[CV] clf__bootstrap=True, clf__max_depth=90, clf__max_features=2, clf__min_samples_leaf=3, clf__min_samples_split=8, clf__n_estimators=50 \n",
      "[CV]  clf__bootstrap=True, clf__max_depth=90, clf__max_features=2, clf__min_samples_leaf=3, clf__min_samples_split=8, clf__n_estimators=50, score=0.871, total=   0.6s\n",
      "[CV] clf__bootstrap=True, clf__max_depth=90, clf__max_features=2, clf__min_samples_leaf=3, clf__min_samples_split=8, clf__n_estimators=50 \n",
      "[CV]  clf__bootstrap=True, clf__max_depth=90, clf__max_features=2, clf__min_samples_leaf=3, clf__min_samples_split=8, clf__n_estimators=50, score=0.877, total=   0.5s\n",
      "[CV] clf__bootstrap=True, clf__max_depth=90, clf__max_features=2, clf__min_samples_leaf=3, clf__min_samples_split=8, clf__n_estimators=50 \n",
      "[CV]  clf__bootstrap=True, clf__max_depth=90, clf__max_features=2, clf__min_samples_leaf=3, clf__min_samples_split=8, clf__n_estimators=50, score=0.885, total=   0.6s\n",
      "[CV] clf__bootstrap=True, clf__max_depth=90, clf__max_features=2, clf__min_samples_leaf=3, clf__min_samples_split=8, clf__n_estimators=100 \n"
     ]
    },
    {
     "name": "stdout",
     "output_type": "stream",
     "text": [
      "[CV]  clf__bootstrap=True, clf__max_depth=90, clf__max_features=2, clf__min_samples_leaf=3, clf__min_samples_split=8, clf__n_estimators=100, score=0.870, total=   1.1s\n",
      "[CV] clf__bootstrap=True, clf__max_depth=90, clf__max_features=2, clf__min_samples_leaf=3, clf__min_samples_split=8, clf__n_estimators=100 \n",
      "[CV]  clf__bootstrap=True, clf__max_depth=90, clf__max_features=2, clf__min_samples_leaf=3, clf__min_samples_split=8, clf__n_estimators=100, score=0.877, total=   1.1s\n",
      "[CV] clf__bootstrap=True, clf__max_depth=90, clf__max_features=2, clf__min_samples_leaf=3, clf__min_samples_split=8, clf__n_estimators=100 \n",
      "[CV]  clf__bootstrap=True, clf__max_depth=90, clf__max_features=2, clf__min_samples_leaf=3, clf__min_samples_split=8, clf__n_estimators=100, score=0.890, total=   1.1s\n",
      "[CV] clf__bootstrap=True, clf__max_depth=90, clf__max_features=2, clf__min_samples_leaf=3, clf__min_samples_split=8, clf__n_estimators=300 \n",
      "[CV]  clf__bootstrap=True, clf__max_depth=90, clf__max_features=2, clf__min_samples_leaf=3, clf__min_samples_split=8, clf__n_estimators=300, score=0.873, total=   3.3s\n",
      "[CV] clf__bootstrap=True, clf__max_depth=90, clf__max_features=2, clf__min_samples_leaf=3, clf__min_samples_split=8, clf__n_estimators=300 \n",
      "[CV]  clf__bootstrap=True, clf__max_depth=90, clf__max_features=2, clf__min_samples_leaf=3, clf__min_samples_split=8, clf__n_estimators=300, score=0.879, total=   3.3s\n",
      "[CV] clf__bootstrap=True, clf__max_depth=90, clf__max_features=2, clf__min_samples_leaf=3, clf__min_samples_split=8, clf__n_estimators=300 \n",
      "[CV]  clf__bootstrap=True, clf__max_depth=90, clf__max_features=2, clf__min_samples_leaf=3, clf__min_samples_split=8, clf__n_estimators=300, score=0.890, total=   3.7s\n",
      "[CV] clf__bootstrap=True, clf__max_depth=90, clf__max_features=2, clf__min_samples_leaf=3, clf__min_samples_split=10, clf__n_estimators=50 \n",
      "[CV]  clf__bootstrap=True, clf__max_depth=90, clf__max_features=2, clf__min_samples_leaf=3, clf__min_samples_split=10, clf__n_estimators=50, score=0.868, total=   0.6s\n",
      "[CV] clf__bootstrap=True, clf__max_depth=90, clf__max_features=2, clf__min_samples_leaf=3, clf__min_samples_split=10, clf__n_estimators=50 \n",
      "[CV]  clf__bootstrap=True, clf__max_depth=90, clf__max_features=2, clf__min_samples_leaf=3, clf__min_samples_split=10, clf__n_estimators=50, score=0.871, total=   0.5s\n",
      "[CV] clf__bootstrap=True, clf__max_depth=90, clf__max_features=2, clf__min_samples_leaf=3, clf__min_samples_split=10, clf__n_estimators=50 \n",
      "[CV]  clf__bootstrap=True, clf__max_depth=90, clf__max_features=2, clf__min_samples_leaf=3, clf__min_samples_split=10, clf__n_estimators=50, score=0.890, total=   0.6s\n",
      "[CV] clf__bootstrap=True, clf__max_depth=90, clf__max_features=2, clf__min_samples_leaf=3, clf__min_samples_split=10, clf__n_estimators=100 \n",
      "[CV]  clf__bootstrap=True, clf__max_depth=90, clf__max_features=2, clf__min_samples_leaf=3, clf__min_samples_split=10, clf__n_estimators=100, score=0.869, total=   1.1s\n",
      "[CV] clf__bootstrap=True, clf__max_depth=90, clf__max_features=2, clf__min_samples_leaf=3, clf__min_samples_split=10, clf__n_estimators=100 \n",
      "[CV]  clf__bootstrap=True, clf__max_depth=90, clf__max_features=2, clf__min_samples_leaf=3, clf__min_samples_split=10, clf__n_estimators=100, score=0.879, total=   1.1s\n",
      "[CV] clf__bootstrap=True, clf__max_depth=90, clf__max_features=2, clf__min_samples_leaf=3, clf__min_samples_split=10, clf__n_estimators=100 \n",
      "[CV]  clf__bootstrap=True, clf__max_depth=90, clf__max_features=2, clf__min_samples_leaf=3, clf__min_samples_split=10, clf__n_estimators=100, score=0.886, total=   1.1s\n",
      "[CV] clf__bootstrap=True, clf__max_depth=90, clf__max_features=2, clf__min_samples_leaf=3, clf__min_samples_split=10, clf__n_estimators=300 \n",
      "[CV]  clf__bootstrap=True, clf__max_depth=90, clf__max_features=2, clf__min_samples_leaf=3, clf__min_samples_split=10, clf__n_estimators=300, score=0.870, total=   3.3s\n",
      "[CV] clf__bootstrap=True, clf__max_depth=90, clf__max_features=2, clf__min_samples_leaf=3, clf__min_samples_split=10, clf__n_estimators=300 \n",
      "[CV]  clf__bootstrap=True, clf__max_depth=90, clf__max_features=2, clf__min_samples_leaf=3, clf__min_samples_split=10, clf__n_estimators=300, score=0.878, total=   3.3s\n",
      "[CV] clf__bootstrap=True, clf__max_depth=90, clf__max_features=2, clf__min_samples_leaf=3, clf__min_samples_split=10, clf__n_estimators=300 \n",
      "[CV]  clf__bootstrap=True, clf__max_depth=90, clf__max_features=2, clf__min_samples_leaf=3, clf__min_samples_split=10, clf__n_estimators=300, score=0.889, total=   3.6s\n",
      "[CV] clf__bootstrap=True, clf__max_depth=90, clf__max_features=2, clf__min_samples_leaf=3, clf__min_samples_split=12, clf__n_estimators=50 \n",
      "[CV]  clf__bootstrap=True, clf__max_depth=90, clf__max_features=2, clf__min_samples_leaf=3, clf__min_samples_split=12, clf__n_estimators=50, score=0.863, total=   0.6s\n",
      "[CV] clf__bootstrap=True, clf__max_depth=90, clf__max_features=2, clf__min_samples_leaf=3, clf__min_samples_split=12, clf__n_estimators=50 \n",
      "[CV]  clf__bootstrap=True, clf__max_depth=90, clf__max_features=2, clf__min_samples_leaf=3, clf__min_samples_split=12, clf__n_estimators=50, score=0.876, total=   0.5s\n",
      "[CV] clf__bootstrap=True, clf__max_depth=90, clf__max_features=2, clf__min_samples_leaf=3, clf__min_samples_split=12, clf__n_estimators=50 \n",
      "[CV]  clf__bootstrap=True, clf__max_depth=90, clf__max_features=2, clf__min_samples_leaf=3, clf__min_samples_split=12, clf__n_estimators=50, score=0.883, total=   0.6s\n",
      "[CV] clf__bootstrap=True, clf__max_depth=90, clf__max_features=2, clf__min_samples_leaf=3, clf__min_samples_split=12, clf__n_estimators=100 \n",
      "[CV]  clf__bootstrap=True, clf__max_depth=90, clf__max_features=2, clf__min_samples_leaf=3, clf__min_samples_split=12, clf__n_estimators=100, score=0.866, total=   1.1s\n",
      "[CV] clf__bootstrap=True, clf__max_depth=90, clf__max_features=2, clf__min_samples_leaf=3, clf__min_samples_split=12, clf__n_estimators=100 \n",
      "[CV]  clf__bootstrap=True, clf__max_depth=90, clf__max_features=2, clf__min_samples_leaf=3, clf__min_samples_split=12, clf__n_estimators=100, score=0.875, total=   1.1s\n",
      "[CV] clf__bootstrap=True, clf__max_depth=90, clf__max_features=2, clf__min_samples_leaf=3, clf__min_samples_split=12, clf__n_estimators=100 \n",
      "[CV]  clf__bootstrap=True, clf__max_depth=90, clf__max_features=2, clf__min_samples_leaf=3, clf__min_samples_split=12, clf__n_estimators=100, score=0.889, total=   1.1s\n",
      "[CV] clf__bootstrap=True, clf__max_depth=90, clf__max_features=2, clf__min_samples_leaf=3, clf__min_samples_split=12, clf__n_estimators=300 \n",
      "[CV]  clf__bootstrap=True, clf__max_depth=90, clf__max_features=2, clf__min_samples_leaf=3, clf__min_samples_split=12, clf__n_estimators=300, score=0.870, total=   3.2s\n",
      "[CV] clf__bootstrap=True, clf__max_depth=90, clf__max_features=2, clf__min_samples_leaf=3, clf__min_samples_split=12, clf__n_estimators=300 \n",
      "[CV]  clf__bootstrap=True, clf__max_depth=90, clf__max_features=2, clf__min_samples_leaf=3, clf__min_samples_split=12, clf__n_estimators=300, score=0.877, total=   3.2s\n",
      "[CV] clf__bootstrap=True, clf__max_depth=90, clf__max_features=2, clf__min_samples_leaf=3, clf__min_samples_split=12, clf__n_estimators=300 \n",
      "[CV]  clf__bootstrap=True, clf__max_depth=90, clf__max_features=2, clf__min_samples_leaf=3, clf__min_samples_split=12, clf__n_estimators=300, score=0.883, total=   3.6s\n",
      "[CV] clf__bootstrap=True, clf__max_depth=90, clf__max_features=2, clf__min_samples_leaf=4, clf__min_samples_split=8, clf__n_estimators=50 \n",
      "[CV]  clf__bootstrap=True, clf__max_depth=90, clf__max_features=2, clf__min_samples_leaf=4, clf__min_samples_split=8, clf__n_estimators=50, score=0.866, total=   0.6s\n",
      "[CV] clf__bootstrap=True, clf__max_depth=90, clf__max_features=2, clf__min_samples_leaf=4, clf__min_samples_split=8, clf__n_estimators=50 \n",
      "[CV]  clf__bootstrap=True, clf__max_depth=90, clf__max_features=2, clf__min_samples_leaf=4, clf__min_samples_split=8, clf__n_estimators=50, score=0.880, total=   0.5s\n",
      "[CV] clf__bootstrap=True, clf__max_depth=90, clf__max_features=2, clf__min_samples_leaf=4, clf__min_samples_split=8, clf__n_estimators=50 \n",
      "[CV]  clf__bootstrap=True, clf__max_depth=90, clf__max_features=2, clf__min_samples_leaf=4, clf__min_samples_split=8, clf__n_estimators=50, score=0.883, total=   0.6s\n",
      "[CV] clf__bootstrap=True, clf__max_depth=90, clf__max_features=2, clf__min_samples_leaf=4, clf__min_samples_split=8, clf__n_estimators=100 \n"
     ]
    },
    {
     "name": "stdout",
     "output_type": "stream",
     "text": [
      "[CV]  clf__bootstrap=True, clf__max_depth=90, clf__max_features=2, clf__min_samples_leaf=4, clf__min_samples_split=8, clf__n_estimators=100, score=0.870, total=   1.1s\n",
      "[CV] clf__bootstrap=True, clf__max_depth=90, clf__max_features=2, clf__min_samples_leaf=4, clf__min_samples_split=8, clf__n_estimators=100 \n",
      "[CV]  clf__bootstrap=True, clf__max_depth=90, clf__max_features=2, clf__min_samples_leaf=4, clf__min_samples_split=8, clf__n_estimators=100, score=0.873, total=   1.1s\n",
      "[CV] clf__bootstrap=True, clf__max_depth=90, clf__max_features=2, clf__min_samples_leaf=4, clf__min_samples_split=8, clf__n_estimators=100 \n",
      "[CV]  clf__bootstrap=True, clf__max_depth=90, clf__max_features=2, clf__min_samples_leaf=4, clf__min_samples_split=8, clf__n_estimators=100, score=0.883, total=   1.1s\n",
      "[CV] clf__bootstrap=True, clf__max_depth=90, clf__max_features=2, clf__min_samples_leaf=4, clf__min_samples_split=8, clf__n_estimators=300 \n",
      "[CV]  clf__bootstrap=True, clf__max_depth=90, clf__max_features=2, clf__min_samples_leaf=4, clf__min_samples_split=8, clf__n_estimators=300, score=0.866, total=   3.3s\n",
      "[CV] clf__bootstrap=True, clf__max_depth=90, clf__max_features=2, clf__min_samples_leaf=4, clf__min_samples_split=8, clf__n_estimators=300 \n",
      "[CV]  clf__bootstrap=True, clf__max_depth=90, clf__max_features=2, clf__min_samples_leaf=4, clf__min_samples_split=8, clf__n_estimators=300, score=0.877, total=   3.3s\n",
      "[CV] clf__bootstrap=True, clf__max_depth=90, clf__max_features=2, clf__min_samples_leaf=4, clf__min_samples_split=8, clf__n_estimators=300 \n",
      "[CV]  clf__bootstrap=True, clf__max_depth=90, clf__max_features=2, clf__min_samples_leaf=4, clf__min_samples_split=8, clf__n_estimators=300, score=0.886, total=   3.3s\n",
      "[CV] clf__bootstrap=True, clf__max_depth=90, clf__max_features=2, clf__min_samples_leaf=4, clf__min_samples_split=10, clf__n_estimators=50 \n",
      "[CV]  clf__bootstrap=True, clf__max_depth=90, clf__max_features=2, clf__min_samples_leaf=4, clf__min_samples_split=10, clf__n_estimators=50, score=0.864, total=   0.7s\n",
      "[CV] clf__bootstrap=True, clf__max_depth=90, clf__max_features=2, clf__min_samples_leaf=4, clf__min_samples_split=10, clf__n_estimators=50 \n",
      "[CV]  clf__bootstrap=True, clf__max_depth=90, clf__max_features=2, clf__min_samples_leaf=4, clf__min_samples_split=10, clf__n_estimators=50, score=0.869, total=   0.7s\n",
      "[CV] clf__bootstrap=True, clf__max_depth=90, clf__max_features=2, clf__min_samples_leaf=4, clf__min_samples_split=10, clf__n_estimators=50 \n",
      "[CV]  clf__bootstrap=True, clf__max_depth=90, clf__max_features=2, clf__min_samples_leaf=4, clf__min_samples_split=10, clf__n_estimators=50, score=0.881, total=   0.6s\n",
      "[CV] clf__bootstrap=True, clf__max_depth=90, clf__max_features=2, clf__min_samples_leaf=4, clf__min_samples_split=10, clf__n_estimators=100 \n",
      "[CV]  clf__bootstrap=True, clf__max_depth=90, clf__max_features=2, clf__min_samples_leaf=4, clf__min_samples_split=10, clf__n_estimators=100, score=0.870, total=   1.1s\n",
      "[CV] clf__bootstrap=True, clf__max_depth=90, clf__max_features=2, clf__min_samples_leaf=4, clf__min_samples_split=10, clf__n_estimators=100 \n",
      "[CV]  clf__bootstrap=True, clf__max_depth=90, clf__max_features=2, clf__min_samples_leaf=4, clf__min_samples_split=10, clf__n_estimators=100, score=0.875, total=   1.1s\n",
      "[CV] clf__bootstrap=True, clf__max_depth=90, clf__max_features=2, clf__min_samples_leaf=4, clf__min_samples_split=10, clf__n_estimators=100 \n",
      "[CV]  clf__bootstrap=True, clf__max_depth=90, clf__max_features=2, clf__min_samples_leaf=4, clf__min_samples_split=10, clf__n_estimators=100, score=0.885, total=   1.1s\n",
      "[CV] clf__bootstrap=True, clf__max_depth=90, clf__max_features=2, clf__min_samples_leaf=4, clf__min_samples_split=10, clf__n_estimators=300 \n",
      "[CV]  clf__bootstrap=True, clf__max_depth=90, clf__max_features=2, clf__min_samples_leaf=4, clf__min_samples_split=10, clf__n_estimators=300, score=0.870, total=   3.2s\n",
      "[CV] clf__bootstrap=True, clf__max_depth=90, clf__max_features=2, clf__min_samples_leaf=4, clf__min_samples_split=10, clf__n_estimators=300 \n",
      "[CV]  clf__bootstrap=True, clf__max_depth=90, clf__max_features=2, clf__min_samples_leaf=4, clf__min_samples_split=10, clf__n_estimators=300, score=0.879, total=   3.4s\n",
      "[CV] clf__bootstrap=True, clf__max_depth=90, clf__max_features=2, clf__min_samples_leaf=4, clf__min_samples_split=10, clf__n_estimators=300 \n",
      "[CV]  clf__bootstrap=True, clf__max_depth=90, clf__max_features=2, clf__min_samples_leaf=4, clf__min_samples_split=10, clf__n_estimators=300, score=0.886, total=   3.3s\n",
      "[CV] clf__bootstrap=True, clf__max_depth=90, clf__max_features=2, clf__min_samples_leaf=4, clf__min_samples_split=12, clf__n_estimators=50 \n",
      "[CV]  clf__bootstrap=True, clf__max_depth=90, clf__max_features=2, clf__min_samples_leaf=4, clf__min_samples_split=12, clf__n_estimators=50, score=0.865, total=   0.5s\n",
      "[CV] clf__bootstrap=True, clf__max_depth=90, clf__max_features=2, clf__min_samples_leaf=4, clf__min_samples_split=12, clf__n_estimators=50 \n",
      "[CV]  clf__bootstrap=True, clf__max_depth=90, clf__max_features=2, clf__min_samples_leaf=4, clf__min_samples_split=12, clf__n_estimators=50, score=0.873, total=   0.7s\n",
      "[CV] clf__bootstrap=True, clf__max_depth=90, clf__max_features=2, clf__min_samples_leaf=4, clf__min_samples_split=12, clf__n_estimators=50 \n",
      "[CV]  clf__bootstrap=True, clf__max_depth=90, clf__max_features=2, clf__min_samples_leaf=4, clf__min_samples_split=12, clf__n_estimators=50, score=0.884, total=   0.8s\n",
      "[CV] clf__bootstrap=True, clf__max_depth=90, clf__max_features=2, clf__min_samples_leaf=4, clf__min_samples_split=12, clf__n_estimators=100 \n",
      "[CV]  clf__bootstrap=True, clf__max_depth=90, clf__max_features=2, clf__min_samples_leaf=4, clf__min_samples_split=12, clf__n_estimators=100, score=0.865, total=   1.2s\n",
      "[CV] clf__bootstrap=True, clf__max_depth=90, clf__max_features=2, clf__min_samples_leaf=4, clf__min_samples_split=12, clf__n_estimators=100 \n",
      "[CV]  clf__bootstrap=True, clf__max_depth=90, clf__max_features=2, clf__min_samples_leaf=4, clf__min_samples_split=12, clf__n_estimators=100, score=0.877, total=   1.1s\n",
      "[CV] clf__bootstrap=True, clf__max_depth=90, clf__max_features=2, clf__min_samples_leaf=4, clf__min_samples_split=12, clf__n_estimators=100 \n",
      "[CV]  clf__bootstrap=True, clf__max_depth=90, clf__max_features=2, clf__min_samples_leaf=4, clf__min_samples_split=12, clf__n_estimators=100, score=0.888, total=   1.1s\n",
      "[CV] clf__bootstrap=True, clf__max_depth=90, clf__max_features=2, clf__min_samples_leaf=4, clf__min_samples_split=12, clf__n_estimators=300 \n",
      "[CV]  clf__bootstrap=True, clf__max_depth=90, clf__max_features=2, clf__min_samples_leaf=4, clf__min_samples_split=12, clf__n_estimators=300, score=0.866, total=   3.2s\n",
      "[CV] clf__bootstrap=True, clf__max_depth=90, clf__max_features=2, clf__min_samples_leaf=4, clf__min_samples_split=12, clf__n_estimators=300 \n",
      "[CV]  clf__bootstrap=True, clf__max_depth=90, clf__max_features=2, clf__min_samples_leaf=4, clf__min_samples_split=12, clf__n_estimators=300, score=0.877, total=   3.2s\n",
      "[CV] clf__bootstrap=True, clf__max_depth=90, clf__max_features=2, clf__min_samples_leaf=4, clf__min_samples_split=12, clf__n_estimators=300 \n",
      "[CV]  clf__bootstrap=True, clf__max_depth=90, clf__max_features=2, clf__min_samples_leaf=4, clf__min_samples_split=12, clf__n_estimators=300, score=0.882, total=   3.2s\n",
      "[CV] clf__bootstrap=True, clf__max_depth=90, clf__max_features=2, clf__min_samples_leaf=5, clf__min_samples_split=8, clf__n_estimators=50 \n",
      "[CV]  clf__bootstrap=True, clf__max_depth=90, clf__max_features=2, clf__min_samples_leaf=5, clf__min_samples_split=8, clf__n_estimators=50, score=0.864, total=   0.6s\n",
      "[CV] clf__bootstrap=True, clf__max_depth=90, clf__max_features=2, clf__min_samples_leaf=5, clf__min_samples_split=8, clf__n_estimators=50 \n",
      "[CV]  clf__bootstrap=True, clf__max_depth=90, clf__max_features=2, clf__min_samples_leaf=5, clf__min_samples_split=8, clf__n_estimators=50, score=0.869, total=   0.5s\n",
      "[CV] clf__bootstrap=True, clf__max_depth=90, clf__max_features=2, clf__min_samples_leaf=5, clf__min_samples_split=8, clf__n_estimators=50 \n",
      "[CV]  clf__bootstrap=True, clf__max_depth=90, clf__max_features=2, clf__min_samples_leaf=5, clf__min_samples_split=8, clf__n_estimators=50, score=0.891, total=   0.6s\n",
      "[CV] clf__bootstrap=True, clf__max_depth=90, clf__max_features=2, clf__min_samples_leaf=5, clf__min_samples_split=8, clf__n_estimators=100 \n"
     ]
    },
    {
     "name": "stdout",
     "output_type": "stream",
     "text": [
      "[CV]  clf__bootstrap=True, clf__max_depth=90, clf__max_features=2, clf__min_samples_leaf=5, clf__min_samples_split=8, clf__n_estimators=100, score=0.862, total=   1.4s\n",
      "[CV] clf__bootstrap=True, clf__max_depth=90, clf__max_features=2, clf__min_samples_leaf=5, clf__min_samples_split=8, clf__n_estimators=100 \n",
      "[CV]  clf__bootstrap=True, clf__max_depth=90, clf__max_features=2, clf__min_samples_leaf=5, clf__min_samples_split=8, clf__n_estimators=100, score=0.870, total=   1.3s\n",
      "[CV] clf__bootstrap=True, clf__max_depth=90, clf__max_features=2, clf__min_samples_leaf=5, clf__min_samples_split=8, clf__n_estimators=100 \n",
      "[CV]  clf__bootstrap=True, clf__max_depth=90, clf__max_features=2, clf__min_samples_leaf=5, clf__min_samples_split=8, clf__n_estimators=100, score=0.881, total=   1.2s\n",
      "[CV] clf__bootstrap=True, clf__max_depth=90, clf__max_features=2, clf__min_samples_leaf=5, clf__min_samples_split=8, clf__n_estimators=300 \n",
      "[CV]  clf__bootstrap=True, clf__max_depth=90, clf__max_features=2, clf__min_samples_leaf=5, clf__min_samples_split=8, clf__n_estimators=300, score=0.866, total=   3.8s\n",
      "[CV] clf__bootstrap=True, clf__max_depth=90, clf__max_features=2, clf__min_samples_leaf=5, clf__min_samples_split=8, clf__n_estimators=300 \n",
      "[CV]  clf__bootstrap=True, clf__max_depth=90, clf__max_features=2, clf__min_samples_leaf=5, clf__min_samples_split=8, clf__n_estimators=300, score=0.873, total=   4.6s\n",
      "[CV] clf__bootstrap=True, clf__max_depth=90, clf__max_features=2, clf__min_samples_leaf=5, clf__min_samples_split=8, clf__n_estimators=300 \n",
      "[CV]  clf__bootstrap=True, clf__max_depth=90, clf__max_features=2, clf__min_samples_leaf=5, clf__min_samples_split=8, clf__n_estimators=300, score=0.884, total=   3.6s\n",
      "[CV] clf__bootstrap=True, clf__max_depth=90, clf__max_features=2, clf__min_samples_leaf=5, clf__min_samples_split=10, clf__n_estimators=50 \n",
      "[CV]  clf__bootstrap=True, clf__max_depth=90, clf__max_features=2, clf__min_samples_leaf=5, clf__min_samples_split=10, clf__n_estimators=50, score=0.861, total=   0.7s\n",
      "[CV] clf__bootstrap=True, clf__max_depth=90, clf__max_features=2, clf__min_samples_leaf=5, clf__min_samples_split=10, clf__n_estimators=50 \n",
      "[CV]  clf__bootstrap=True, clf__max_depth=90, clf__max_features=2, clf__min_samples_leaf=5, clf__min_samples_split=10, clf__n_estimators=50, score=0.868, total=   0.8s\n",
      "[CV] clf__bootstrap=True, clf__max_depth=90, clf__max_features=2, clf__min_samples_leaf=5, clf__min_samples_split=10, clf__n_estimators=50 \n",
      "[CV]  clf__bootstrap=True, clf__max_depth=90, clf__max_features=2, clf__min_samples_leaf=5, clf__min_samples_split=10, clf__n_estimators=50, score=0.878, total=   0.7s\n",
      "[CV] clf__bootstrap=True, clf__max_depth=90, clf__max_features=2, clf__min_samples_leaf=5, clf__min_samples_split=10, clf__n_estimators=100 \n",
      "[CV]  clf__bootstrap=True, clf__max_depth=90, clf__max_features=2, clf__min_samples_leaf=5, clf__min_samples_split=10, clf__n_estimators=100, score=0.864, total=   1.2s\n",
      "[CV] clf__bootstrap=True, clf__max_depth=90, clf__max_features=2, clf__min_samples_leaf=5, clf__min_samples_split=10, clf__n_estimators=100 \n",
      "[CV]  clf__bootstrap=True, clf__max_depth=90, clf__max_features=2, clf__min_samples_leaf=5, clf__min_samples_split=10, clf__n_estimators=100, score=0.870, total=   1.2s\n",
      "[CV] clf__bootstrap=True, clf__max_depth=90, clf__max_features=2, clf__min_samples_leaf=5, clf__min_samples_split=10, clf__n_estimators=100 \n",
      "[CV]  clf__bootstrap=True, clf__max_depth=90, clf__max_features=2, clf__min_samples_leaf=5, clf__min_samples_split=10, clf__n_estimators=100, score=0.882, total=   1.2s\n",
      "[CV] clf__bootstrap=True, clf__max_depth=90, clf__max_features=2, clf__min_samples_leaf=5, clf__min_samples_split=10, clf__n_estimators=300 \n",
      "[CV]  clf__bootstrap=True, clf__max_depth=90, clf__max_features=2, clf__min_samples_leaf=5, clf__min_samples_split=10, clf__n_estimators=300, score=0.867, total=   3.6s\n",
      "[CV] clf__bootstrap=True, clf__max_depth=90, clf__max_features=2, clf__min_samples_leaf=5, clf__min_samples_split=10, clf__n_estimators=300 \n",
      "[CV]  clf__bootstrap=True, clf__max_depth=90, clf__max_features=2, clf__min_samples_leaf=5, clf__min_samples_split=10, clf__n_estimators=300, score=0.874, total=   3.4s\n",
      "[CV] clf__bootstrap=True, clf__max_depth=90, clf__max_features=2, clf__min_samples_leaf=5, clf__min_samples_split=10, clf__n_estimators=300 \n",
      "[CV]  clf__bootstrap=True, clf__max_depth=90, clf__max_features=2, clf__min_samples_leaf=5, clf__min_samples_split=10, clf__n_estimators=300, score=0.882, total=   3.4s\n",
      "[CV] clf__bootstrap=True, clf__max_depth=90, clf__max_features=2, clf__min_samples_leaf=5, clf__min_samples_split=12, clf__n_estimators=50 \n",
      "[CV]  clf__bootstrap=True, clf__max_depth=90, clf__max_features=2, clf__min_samples_leaf=5, clf__min_samples_split=12, clf__n_estimators=50, score=0.864, total=   0.9s\n",
      "[CV] clf__bootstrap=True, clf__max_depth=90, clf__max_features=2, clf__min_samples_leaf=5, clf__min_samples_split=12, clf__n_estimators=50 \n",
      "[CV]  clf__bootstrap=True, clf__max_depth=90, clf__max_features=2, clf__min_samples_leaf=5, clf__min_samples_split=12, clf__n_estimators=50, score=0.871, total=   0.8s\n",
      "[CV] clf__bootstrap=True, clf__max_depth=90, clf__max_features=2, clf__min_samples_leaf=5, clf__min_samples_split=12, clf__n_estimators=50 \n",
      "[CV]  clf__bootstrap=True, clf__max_depth=90, clf__max_features=2, clf__min_samples_leaf=5, clf__min_samples_split=12, clf__n_estimators=50, score=0.877, total=   0.6s\n",
      "[CV] clf__bootstrap=True, clf__max_depth=90, clf__max_features=2, clf__min_samples_leaf=5, clf__min_samples_split=12, clf__n_estimators=100 \n",
      "[CV]  clf__bootstrap=True, clf__max_depth=90, clf__max_features=2, clf__min_samples_leaf=5, clf__min_samples_split=12, clf__n_estimators=100, score=0.863, total=   1.2s\n",
      "[CV] clf__bootstrap=True, clf__max_depth=90, clf__max_features=2, clf__min_samples_leaf=5, clf__min_samples_split=12, clf__n_estimators=100 \n",
      "[CV]  clf__bootstrap=True, clf__max_depth=90, clf__max_features=2, clf__min_samples_leaf=5, clf__min_samples_split=12, clf__n_estimators=100, score=0.870, total=   1.1s\n",
      "[CV] clf__bootstrap=True, clf__max_depth=90, clf__max_features=2, clf__min_samples_leaf=5, clf__min_samples_split=12, clf__n_estimators=100 \n",
      "[CV]  clf__bootstrap=True, clf__max_depth=90, clf__max_features=2, clf__min_samples_leaf=5, clf__min_samples_split=12, clf__n_estimators=100, score=0.880, total=   1.1s\n",
      "[CV] clf__bootstrap=True, clf__max_depth=90, clf__max_features=2, clf__min_samples_leaf=5, clf__min_samples_split=12, clf__n_estimators=300 \n",
      "[CV]  clf__bootstrap=True, clf__max_depth=90, clf__max_features=2, clf__min_samples_leaf=5, clf__min_samples_split=12, clf__n_estimators=300, score=0.862, total=   3.2s\n",
      "[CV] clf__bootstrap=True, clf__max_depth=90, clf__max_features=2, clf__min_samples_leaf=5, clf__min_samples_split=12, clf__n_estimators=300 \n",
      "[CV]  clf__bootstrap=True, clf__max_depth=90, clf__max_features=2, clf__min_samples_leaf=5, clf__min_samples_split=12, clf__n_estimators=300, score=0.871, total=   3.2s\n",
      "[CV] clf__bootstrap=True, clf__max_depth=90, clf__max_features=2, clf__min_samples_leaf=5, clf__min_samples_split=12, clf__n_estimators=300 \n",
      "[CV]  clf__bootstrap=True, clf__max_depth=90, clf__max_features=2, clf__min_samples_leaf=5, clf__min_samples_split=12, clf__n_estimators=300, score=0.881, total=   3.2s\n",
      "[CV] clf__bootstrap=True, clf__max_depth=90, clf__max_features=3, clf__min_samples_leaf=3, clf__min_samples_split=8, clf__n_estimators=50 \n",
      "[CV]  clf__bootstrap=True, clf__max_depth=90, clf__max_features=3, clf__min_samples_leaf=3, clf__min_samples_split=8, clf__n_estimators=50, score=0.870, total=   0.7s\n",
      "[CV] clf__bootstrap=True, clf__max_depth=90, clf__max_features=3, clf__min_samples_leaf=3, clf__min_samples_split=8, clf__n_estimators=50 \n",
      "[CV]  clf__bootstrap=True, clf__max_depth=90, clf__max_features=3, clf__min_samples_leaf=3, clf__min_samples_split=8, clf__n_estimators=50, score=0.883, total=   0.9s\n",
      "[CV] clf__bootstrap=True, clf__max_depth=90, clf__max_features=3, clf__min_samples_leaf=3, clf__min_samples_split=8, clf__n_estimators=50 \n",
      "[CV]  clf__bootstrap=True, clf__max_depth=90, clf__max_features=3, clf__min_samples_leaf=3, clf__min_samples_split=8, clf__n_estimators=50, score=0.892, total=   0.9s\n",
      "[CV] clf__bootstrap=True, clf__max_depth=90, clf__max_features=3, clf__min_samples_leaf=3, clf__min_samples_split=8, clf__n_estimators=100 \n"
     ]
    },
    {
     "name": "stdout",
     "output_type": "stream",
     "text": [
      "[CV]  clf__bootstrap=True, clf__max_depth=90, clf__max_features=3, clf__min_samples_leaf=3, clf__min_samples_split=8, clf__n_estimators=100, score=0.874, total=   1.4s\n",
      "[CV] clf__bootstrap=True, clf__max_depth=90, clf__max_features=3, clf__min_samples_leaf=3, clf__min_samples_split=8, clf__n_estimators=100 \n",
      "[CV]  clf__bootstrap=True, clf__max_depth=90, clf__max_features=3, clf__min_samples_leaf=3, clf__min_samples_split=8, clf__n_estimators=100, score=0.880, total=   1.4s\n",
      "[CV] clf__bootstrap=True, clf__max_depth=90, clf__max_features=3, clf__min_samples_leaf=3, clf__min_samples_split=8, clf__n_estimators=100 \n",
      "[CV]  clf__bootstrap=True, clf__max_depth=90, clf__max_features=3, clf__min_samples_leaf=3, clf__min_samples_split=8, clf__n_estimators=100, score=0.892, total=   1.4s\n",
      "[CV] clf__bootstrap=True, clf__max_depth=90, clf__max_features=3, clf__min_samples_leaf=3, clf__min_samples_split=8, clf__n_estimators=300 \n",
      "[CV]  clf__bootstrap=True, clf__max_depth=90, clf__max_features=3, clf__min_samples_leaf=3, clf__min_samples_split=8, clf__n_estimators=300, score=0.876, total=   4.2s\n",
      "[CV] clf__bootstrap=True, clf__max_depth=90, clf__max_features=3, clf__min_samples_leaf=3, clf__min_samples_split=8, clf__n_estimators=300 \n",
      "[CV]  clf__bootstrap=True, clf__max_depth=90, clf__max_features=3, clf__min_samples_leaf=3, clf__min_samples_split=8, clf__n_estimators=300, score=0.881, total=   4.2s\n",
      "[CV] clf__bootstrap=True, clf__max_depth=90, clf__max_features=3, clf__min_samples_leaf=3, clf__min_samples_split=8, clf__n_estimators=300 \n",
      "[CV]  clf__bootstrap=True, clf__max_depth=90, clf__max_features=3, clf__min_samples_leaf=3, clf__min_samples_split=8, clf__n_estimators=300, score=0.894, total=   4.6s\n",
      "[CV] clf__bootstrap=True, clf__max_depth=90, clf__max_features=3, clf__min_samples_leaf=3, clf__min_samples_split=10, clf__n_estimators=50 \n",
      "[CV]  clf__bootstrap=True, clf__max_depth=90, clf__max_features=3, clf__min_samples_leaf=3, clf__min_samples_split=10, clf__n_estimators=50, score=0.876, total=   0.7s\n",
      "[CV] clf__bootstrap=True, clf__max_depth=90, clf__max_features=3, clf__min_samples_leaf=3, clf__min_samples_split=10, clf__n_estimators=50 \n",
      "[CV]  clf__bootstrap=True, clf__max_depth=90, clf__max_features=3, clf__min_samples_leaf=3, clf__min_samples_split=10, clf__n_estimators=50, score=0.883, total=   0.7s\n",
      "[CV] clf__bootstrap=True, clf__max_depth=90, clf__max_features=3, clf__min_samples_leaf=3, clf__min_samples_split=10, clf__n_estimators=50 \n",
      "[CV]  clf__bootstrap=True, clf__max_depth=90, clf__max_features=3, clf__min_samples_leaf=3, clf__min_samples_split=10, clf__n_estimators=50, score=0.892, total=   0.8s\n",
      "[CV] clf__bootstrap=True, clf__max_depth=90, clf__max_features=3, clf__min_samples_leaf=3, clf__min_samples_split=10, clf__n_estimators=100 \n",
      "[CV]  clf__bootstrap=True, clf__max_depth=90, clf__max_features=3, clf__min_samples_leaf=3, clf__min_samples_split=10, clf__n_estimators=100, score=0.874, total=   1.4s\n",
      "[CV] clf__bootstrap=True, clf__max_depth=90, clf__max_features=3, clf__min_samples_leaf=3, clf__min_samples_split=10, clf__n_estimators=100 \n",
      "[CV]  clf__bootstrap=True, clf__max_depth=90, clf__max_features=3, clf__min_samples_leaf=3, clf__min_samples_split=10, clf__n_estimators=100, score=0.877, total=   1.4s\n",
      "[CV] clf__bootstrap=True, clf__max_depth=90, clf__max_features=3, clf__min_samples_leaf=3, clf__min_samples_split=10, clf__n_estimators=100 \n",
      "[CV]  clf__bootstrap=True, clf__max_depth=90, clf__max_features=3, clf__min_samples_leaf=3, clf__min_samples_split=10, clf__n_estimators=100, score=0.890, total=   1.4s\n",
      "[CV] clf__bootstrap=True, clf__max_depth=90, clf__max_features=3, clf__min_samples_leaf=3, clf__min_samples_split=10, clf__n_estimators=300 \n",
      "[CV]  clf__bootstrap=True, clf__max_depth=90, clf__max_features=3, clf__min_samples_leaf=3, clf__min_samples_split=10, clf__n_estimators=300, score=0.872, total=   4.1s\n",
      "[CV] clf__bootstrap=True, clf__max_depth=90, clf__max_features=3, clf__min_samples_leaf=3, clf__min_samples_split=10, clf__n_estimators=300 \n",
      "[CV]  clf__bootstrap=True, clf__max_depth=90, clf__max_features=3, clf__min_samples_leaf=3, clf__min_samples_split=10, clf__n_estimators=300, score=0.882, total=   4.7s\n",
      "[CV] clf__bootstrap=True, clf__max_depth=90, clf__max_features=3, clf__min_samples_leaf=3, clf__min_samples_split=10, clf__n_estimators=300 \n",
      "[CV]  clf__bootstrap=True, clf__max_depth=90, clf__max_features=3, clf__min_samples_leaf=3, clf__min_samples_split=10, clf__n_estimators=300, score=0.893, total=   4.3s\n",
      "[CV] clf__bootstrap=True, clf__max_depth=90, clf__max_features=3, clf__min_samples_leaf=3, clf__min_samples_split=12, clf__n_estimators=50 \n",
      "[CV]  clf__bootstrap=True, clf__max_depth=90, clf__max_features=3, clf__min_samples_leaf=3, clf__min_samples_split=12, clf__n_estimators=50, score=0.873, total=   0.7s\n",
      "[CV] clf__bootstrap=True, clf__max_depth=90, clf__max_features=3, clf__min_samples_leaf=3, clf__min_samples_split=12, clf__n_estimators=50 \n",
      "[CV]  clf__bootstrap=True, clf__max_depth=90, clf__max_features=3, clf__min_samples_leaf=3, clf__min_samples_split=12, clf__n_estimators=50, score=0.878, total=   0.8s\n",
      "[CV] clf__bootstrap=True, clf__max_depth=90, clf__max_features=3, clf__min_samples_leaf=3, clf__min_samples_split=12, clf__n_estimators=50 \n",
      "[CV]  clf__bootstrap=True, clf__max_depth=90, clf__max_features=3, clf__min_samples_leaf=3, clf__min_samples_split=12, clf__n_estimators=50, score=0.888, total=   0.7s\n",
      "[CV] clf__bootstrap=True, clf__max_depth=90, clf__max_features=3, clf__min_samples_leaf=3, clf__min_samples_split=12, clf__n_estimators=100 \n",
      "[CV]  clf__bootstrap=True, clf__max_depth=90, clf__max_features=3, clf__min_samples_leaf=3, clf__min_samples_split=12, clf__n_estimators=100, score=0.873, total=   1.4s\n",
      "[CV] clf__bootstrap=True, clf__max_depth=90, clf__max_features=3, clf__min_samples_leaf=3, clf__min_samples_split=12, clf__n_estimators=100 \n",
      "[CV]  clf__bootstrap=True, clf__max_depth=90, clf__max_features=3, clf__min_samples_leaf=3, clf__min_samples_split=12, clf__n_estimators=100, score=0.878, total=   1.4s\n",
      "[CV] clf__bootstrap=True, clf__max_depth=90, clf__max_features=3, clf__min_samples_leaf=3, clf__min_samples_split=12, clf__n_estimators=100 \n",
      "[CV]  clf__bootstrap=True, clf__max_depth=90, clf__max_features=3, clf__min_samples_leaf=3, clf__min_samples_split=12, clf__n_estimators=100, score=0.888, total=   1.4s\n",
      "[CV] clf__bootstrap=True, clf__max_depth=90, clf__max_features=3, clf__min_samples_leaf=3, clf__min_samples_split=12, clf__n_estimators=300 \n",
      "[CV]  clf__bootstrap=True, clf__max_depth=90, clf__max_features=3, clf__min_samples_leaf=3, clf__min_samples_split=12, clf__n_estimators=300, score=0.875, total=   4.5s\n",
      "[CV] clf__bootstrap=True, clf__max_depth=90, clf__max_features=3, clf__min_samples_leaf=3, clf__min_samples_split=12, clf__n_estimators=300 \n",
      "[CV]  clf__bootstrap=True, clf__max_depth=90, clf__max_features=3, clf__min_samples_leaf=3, clf__min_samples_split=12, clf__n_estimators=300, score=0.881, total=   4.2s\n",
      "[CV] clf__bootstrap=True, clf__max_depth=90, clf__max_features=3, clf__min_samples_leaf=3, clf__min_samples_split=12, clf__n_estimators=300 \n",
      "[CV]  clf__bootstrap=True, clf__max_depth=90, clf__max_features=3, clf__min_samples_leaf=3, clf__min_samples_split=12, clf__n_estimators=300, score=0.889, total=   4.4s\n",
      "[CV] clf__bootstrap=True, clf__max_depth=90, clf__max_features=3, clf__min_samples_leaf=4, clf__min_samples_split=8, clf__n_estimators=50 \n",
      "[CV]  clf__bootstrap=True, clf__max_depth=90, clf__max_features=3, clf__min_samples_leaf=4, clf__min_samples_split=8, clf__n_estimators=50, score=0.867, total=   0.8s\n",
      "[CV] clf__bootstrap=True, clf__max_depth=90, clf__max_features=3, clf__min_samples_leaf=4, clf__min_samples_split=8, clf__n_estimators=50 \n",
      "[CV]  clf__bootstrap=True, clf__max_depth=90, clf__max_features=3, clf__min_samples_leaf=4, clf__min_samples_split=8, clf__n_estimators=50, score=0.879, total=   0.8s\n",
      "[CV] clf__bootstrap=True, clf__max_depth=90, clf__max_features=3, clf__min_samples_leaf=4, clf__min_samples_split=8, clf__n_estimators=50 \n",
      "[CV]  clf__bootstrap=True, clf__max_depth=90, clf__max_features=3, clf__min_samples_leaf=4, clf__min_samples_split=8, clf__n_estimators=50, score=0.890, total=   0.8s\n",
      "[CV] clf__bootstrap=True, clf__max_depth=90, clf__max_features=3, clf__min_samples_leaf=4, clf__min_samples_split=8, clf__n_estimators=100 \n"
     ]
    },
    {
     "name": "stdout",
     "output_type": "stream",
     "text": [
      "[CV]  clf__bootstrap=True, clf__max_depth=90, clf__max_features=3, clf__min_samples_leaf=4, clf__min_samples_split=8, clf__n_estimators=100, score=0.872, total=   1.4s\n",
      "[CV] clf__bootstrap=True, clf__max_depth=90, clf__max_features=3, clf__min_samples_leaf=4, clf__min_samples_split=8, clf__n_estimators=100 \n",
      "[CV]  clf__bootstrap=True, clf__max_depth=90, clf__max_features=3, clf__min_samples_leaf=4, clf__min_samples_split=8, clf__n_estimators=100, score=0.880, total=   1.4s\n",
      "[CV] clf__bootstrap=True, clf__max_depth=90, clf__max_features=3, clf__min_samples_leaf=4, clf__min_samples_split=8, clf__n_estimators=100 \n",
      "[CV]  clf__bootstrap=True, clf__max_depth=90, clf__max_features=3, clf__min_samples_leaf=4, clf__min_samples_split=8, clf__n_estimators=100, score=0.895, total=   1.7s\n",
      "[CV] clf__bootstrap=True, clf__max_depth=90, clf__max_features=3, clf__min_samples_leaf=4, clf__min_samples_split=8, clf__n_estimators=300 \n",
      "[CV]  clf__bootstrap=True, clf__max_depth=90, clf__max_features=3, clf__min_samples_leaf=4, clf__min_samples_split=8, clf__n_estimators=300, score=0.875, total=   4.4s\n",
      "[CV] clf__bootstrap=True, clf__max_depth=90, clf__max_features=3, clf__min_samples_leaf=4, clf__min_samples_split=8, clf__n_estimators=300 \n",
      "[CV]  clf__bootstrap=True, clf__max_depth=90, clf__max_features=3, clf__min_samples_leaf=4, clf__min_samples_split=8, clf__n_estimators=300, score=0.878, total=   4.5s\n",
      "[CV] clf__bootstrap=True, clf__max_depth=90, clf__max_features=3, clf__min_samples_leaf=4, clf__min_samples_split=8, clf__n_estimators=300 \n",
      "[CV]  clf__bootstrap=True, clf__max_depth=90, clf__max_features=3, clf__min_samples_leaf=4, clf__min_samples_split=8, clf__n_estimators=300, score=0.888, total=   4.3s\n",
      "[CV] clf__bootstrap=True, clf__max_depth=90, clf__max_features=3, clf__min_samples_leaf=4, clf__min_samples_split=10, clf__n_estimators=50 \n",
      "[CV]  clf__bootstrap=True, clf__max_depth=90, clf__max_features=3, clf__min_samples_leaf=4, clf__min_samples_split=10, clf__n_estimators=50, score=0.862, total=   0.7s\n",
      "[CV] clf__bootstrap=True, clf__max_depth=90, clf__max_features=3, clf__min_samples_leaf=4, clf__min_samples_split=10, clf__n_estimators=50 \n",
      "[CV]  clf__bootstrap=True, clf__max_depth=90, clf__max_features=3, clf__min_samples_leaf=4, clf__min_samples_split=10, clf__n_estimators=50, score=0.880, total=   0.7s\n",
      "[CV] clf__bootstrap=True, clf__max_depth=90, clf__max_features=3, clf__min_samples_leaf=4, clf__min_samples_split=10, clf__n_estimators=50 \n",
      "[CV]  clf__bootstrap=True, clf__max_depth=90, clf__max_features=3, clf__min_samples_leaf=4, clf__min_samples_split=10, clf__n_estimators=50, score=0.888, total=   0.8s\n",
      "[CV] clf__bootstrap=True, clf__max_depth=90, clf__max_features=3, clf__min_samples_leaf=4, clf__min_samples_split=10, clf__n_estimators=100 \n",
      "[CV]  clf__bootstrap=True, clf__max_depth=90, clf__max_features=3, clf__min_samples_leaf=4, clf__min_samples_split=10, clf__n_estimators=100, score=0.870, total=   1.7s\n",
      "[CV] clf__bootstrap=True, clf__max_depth=90, clf__max_features=3, clf__min_samples_leaf=4, clf__min_samples_split=10, clf__n_estimators=100 \n",
      "[CV]  clf__bootstrap=True, clf__max_depth=90, clf__max_features=3, clf__min_samples_leaf=4, clf__min_samples_split=10, clf__n_estimators=100, score=0.880, total=   1.4s\n",
      "[CV] clf__bootstrap=True, clf__max_depth=90, clf__max_features=3, clf__min_samples_leaf=4, clf__min_samples_split=10, clf__n_estimators=100 \n",
      "[CV]  clf__bootstrap=True, clf__max_depth=90, clf__max_features=3, clf__min_samples_leaf=4, clf__min_samples_split=10, clf__n_estimators=100, score=0.887, total=   1.4s\n",
      "[CV] clf__bootstrap=True, clf__max_depth=90, clf__max_features=3, clf__min_samples_leaf=4, clf__min_samples_split=10, clf__n_estimators=300 \n",
      "[CV]  clf__bootstrap=True, clf__max_depth=90, clf__max_features=3, clf__min_samples_leaf=4, clf__min_samples_split=10, clf__n_estimators=300, score=0.873, total=   4.2s\n",
      "[CV] clf__bootstrap=True, clf__max_depth=90, clf__max_features=3, clf__min_samples_leaf=4, clf__min_samples_split=10, clf__n_estimators=300 \n",
      "[CV]  clf__bootstrap=True, clf__max_depth=90, clf__max_features=3, clf__min_samples_leaf=4, clf__min_samples_split=10, clf__n_estimators=300, score=0.878, total=   4.3s\n",
      "[CV] clf__bootstrap=True, clf__max_depth=90, clf__max_features=3, clf__min_samples_leaf=4, clf__min_samples_split=10, clf__n_estimators=300 \n",
      "[CV]  clf__bootstrap=True, clf__max_depth=90, clf__max_features=3, clf__min_samples_leaf=4, clf__min_samples_split=10, clf__n_estimators=300, score=0.888, total=   4.8s\n",
      "[CV] clf__bootstrap=True, clf__max_depth=90, clf__max_features=3, clf__min_samples_leaf=4, clf__min_samples_split=12, clf__n_estimators=50 \n",
      "[CV]  clf__bootstrap=True, clf__max_depth=90, clf__max_features=3, clf__min_samples_leaf=4, clf__min_samples_split=12, clf__n_estimators=50, score=0.869, total=   0.7s\n",
      "[CV] clf__bootstrap=True, clf__max_depth=90, clf__max_features=3, clf__min_samples_leaf=4, clf__min_samples_split=12, clf__n_estimators=50 \n",
      "[CV]  clf__bootstrap=True, clf__max_depth=90, clf__max_features=3, clf__min_samples_leaf=4, clf__min_samples_split=12, clf__n_estimators=50, score=0.870, total=   0.7s\n",
      "[CV] clf__bootstrap=True, clf__max_depth=90, clf__max_features=3, clf__min_samples_leaf=4, clf__min_samples_split=12, clf__n_estimators=50 \n",
      "[CV]  clf__bootstrap=True, clf__max_depth=90, clf__max_features=3, clf__min_samples_leaf=4, clf__min_samples_split=12, clf__n_estimators=50, score=0.885, total=   0.7s\n",
      "[CV] clf__bootstrap=True, clf__max_depth=90, clf__max_features=3, clf__min_samples_leaf=4, clf__min_samples_split=12, clf__n_estimators=100 \n",
      "[CV]  clf__bootstrap=True, clf__max_depth=90, clf__max_features=3, clf__min_samples_leaf=4, clf__min_samples_split=12, clf__n_estimators=100, score=0.869, total=   1.5s\n",
      "[CV] clf__bootstrap=True, clf__max_depth=90, clf__max_features=3, clf__min_samples_leaf=4, clf__min_samples_split=12, clf__n_estimators=100 \n",
      "[CV]  clf__bootstrap=True, clf__max_depth=90, clf__max_features=3, clf__min_samples_leaf=4, clf__min_samples_split=12, clf__n_estimators=100, score=0.874, total=   1.3s\n",
      "[CV] clf__bootstrap=True, clf__max_depth=90, clf__max_features=3, clf__min_samples_leaf=4, clf__min_samples_split=12, clf__n_estimators=100 \n",
      "[CV]  clf__bootstrap=True, clf__max_depth=90, clf__max_features=3, clf__min_samples_leaf=4, clf__min_samples_split=12, clf__n_estimators=100, score=0.888, total=   1.4s\n",
      "[CV] clf__bootstrap=True, clf__max_depth=90, clf__max_features=3, clf__min_samples_leaf=4, clf__min_samples_split=12, clf__n_estimators=300 \n",
      "[CV]  clf__bootstrap=True, clf__max_depth=90, clf__max_features=3, clf__min_samples_leaf=4, clf__min_samples_split=12, clf__n_estimators=300, score=0.870, total=   4.1s\n",
      "[CV] clf__bootstrap=True, clf__max_depth=90, clf__max_features=3, clf__min_samples_leaf=4, clf__min_samples_split=12, clf__n_estimators=300 \n",
      "[CV]  clf__bootstrap=True, clf__max_depth=90, clf__max_features=3, clf__min_samples_leaf=4, clf__min_samples_split=12, clf__n_estimators=300, score=0.879, total=   4.4s\n",
      "[CV] clf__bootstrap=True, clf__max_depth=90, clf__max_features=3, clf__min_samples_leaf=4, clf__min_samples_split=12, clf__n_estimators=300 \n",
      "[CV]  clf__bootstrap=True, clf__max_depth=90, clf__max_features=3, clf__min_samples_leaf=4, clf__min_samples_split=12, clf__n_estimators=300, score=0.888, total=   5.2s\n",
      "[CV] clf__bootstrap=True, clf__max_depth=90, clf__max_features=3, clf__min_samples_leaf=5, clf__min_samples_split=8, clf__n_estimators=50 \n",
      "[CV]  clf__bootstrap=True, clf__max_depth=90, clf__max_features=3, clf__min_samples_leaf=5, clf__min_samples_split=8, clf__n_estimators=50, score=0.867, total=   1.0s\n",
      "[CV] clf__bootstrap=True, clf__max_depth=90, clf__max_features=3, clf__min_samples_leaf=5, clf__min_samples_split=8, clf__n_estimators=50 \n",
      "[CV]  clf__bootstrap=True, clf__max_depth=90, clf__max_features=3, clf__min_samples_leaf=5, clf__min_samples_split=8, clf__n_estimators=50, score=0.875, total=   1.1s\n",
      "[CV] clf__bootstrap=True, clf__max_depth=90, clf__max_features=3, clf__min_samples_leaf=5, clf__min_samples_split=8, clf__n_estimators=50 \n",
      "[CV]  clf__bootstrap=True, clf__max_depth=90, clf__max_features=3, clf__min_samples_leaf=5, clf__min_samples_split=8, clf__n_estimators=50, score=0.888, total=   0.8s\n",
      "[CV] clf__bootstrap=True, clf__max_depth=90, clf__max_features=3, clf__min_samples_leaf=5, clf__min_samples_split=8, clf__n_estimators=100 \n"
     ]
    },
    {
     "name": "stdout",
     "output_type": "stream",
     "text": [
      "[CV]  clf__bootstrap=True, clf__max_depth=90, clf__max_features=3, clf__min_samples_leaf=5, clf__min_samples_split=8, clf__n_estimators=100, score=0.869, total=   1.6s\n",
      "[CV] clf__bootstrap=True, clf__max_depth=90, clf__max_features=3, clf__min_samples_leaf=5, clf__min_samples_split=8, clf__n_estimators=100 \n",
      "[CV]  clf__bootstrap=True, clf__max_depth=90, clf__max_features=3, clf__min_samples_leaf=5, clf__min_samples_split=8, clf__n_estimators=100, score=0.877, total=   1.4s\n",
      "[CV] clf__bootstrap=True, clf__max_depth=90, clf__max_features=3, clf__min_samples_leaf=5, clf__min_samples_split=8, clf__n_estimators=100 \n",
      "[CV]  clf__bootstrap=True, clf__max_depth=90, clf__max_features=3, clf__min_samples_leaf=5, clf__min_samples_split=8, clf__n_estimators=100, score=0.886, total=   1.6s\n",
      "[CV] clf__bootstrap=True, clf__max_depth=90, clf__max_features=3, clf__min_samples_leaf=5, clf__min_samples_split=8, clf__n_estimators=300 \n",
      "[CV]  clf__bootstrap=True, clf__max_depth=90, clf__max_features=3, clf__min_samples_leaf=5, clf__min_samples_split=8, clf__n_estimators=300, score=0.871, total=   5.8s\n",
      "[CV] clf__bootstrap=True, clf__max_depth=90, clf__max_features=3, clf__min_samples_leaf=5, clf__min_samples_split=8, clf__n_estimators=300 \n",
      "[CV]  clf__bootstrap=True, clf__max_depth=90, clf__max_features=3, clf__min_samples_leaf=5, clf__min_samples_split=8, clf__n_estimators=300, score=0.876, total=   4.8s\n",
      "[CV] clf__bootstrap=True, clf__max_depth=90, clf__max_features=3, clf__min_samples_leaf=5, clf__min_samples_split=8, clf__n_estimators=300 \n",
      "[CV]  clf__bootstrap=True, clf__max_depth=90, clf__max_features=3, clf__min_samples_leaf=5, clf__min_samples_split=8, clf__n_estimators=300, score=0.885, total=   5.5s\n",
      "[CV] clf__bootstrap=True, clf__max_depth=90, clf__max_features=3, clf__min_samples_leaf=5, clf__min_samples_split=10, clf__n_estimators=50 \n",
      "[CV]  clf__bootstrap=True, clf__max_depth=90, clf__max_features=3, clf__min_samples_leaf=5, clf__min_samples_split=10, clf__n_estimators=50, score=0.866, total=   1.2s\n",
      "[CV] clf__bootstrap=True, clf__max_depth=90, clf__max_features=3, clf__min_samples_leaf=5, clf__min_samples_split=10, clf__n_estimators=50 \n",
      "[CV]  clf__bootstrap=True, clf__max_depth=90, clf__max_features=3, clf__min_samples_leaf=5, clf__min_samples_split=10, clf__n_estimators=50, score=0.873, total=   1.1s\n",
      "[CV] clf__bootstrap=True, clf__max_depth=90, clf__max_features=3, clf__min_samples_leaf=5, clf__min_samples_split=10, clf__n_estimators=50 \n",
      "[CV]  clf__bootstrap=True, clf__max_depth=90, clf__max_features=3, clf__min_samples_leaf=5, clf__min_samples_split=10, clf__n_estimators=50, score=0.885, total=   0.9s\n",
      "[CV] clf__bootstrap=True, clf__max_depth=90, clf__max_features=3, clf__min_samples_leaf=5, clf__min_samples_split=10, clf__n_estimators=100 \n",
      "[CV]  clf__bootstrap=True, clf__max_depth=90, clf__max_features=3, clf__min_samples_leaf=5, clf__min_samples_split=10, clf__n_estimators=100, score=0.870, total=   2.4s\n",
      "[CV] clf__bootstrap=True, clf__max_depth=90, clf__max_features=3, clf__min_samples_leaf=5, clf__min_samples_split=10, clf__n_estimators=100 \n",
      "[CV]  clf__bootstrap=True, clf__max_depth=90, clf__max_features=3, clf__min_samples_leaf=5, clf__min_samples_split=10, clf__n_estimators=100, score=0.878, total=   2.2s\n",
      "[CV] clf__bootstrap=True, clf__max_depth=90, clf__max_features=3, clf__min_samples_leaf=5, clf__min_samples_split=10, clf__n_estimators=100 \n",
      "[CV]  clf__bootstrap=True, clf__max_depth=90, clf__max_features=3, clf__min_samples_leaf=5, clf__min_samples_split=10, clf__n_estimators=100, score=0.884, total=   2.1s\n",
      "[CV] clf__bootstrap=True, clf__max_depth=90, clf__max_features=3, clf__min_samples_leaf=5, clf__min_samples_split=10, clf__n_estimators=300 \n",
      "[CV]  clf__bootstrap=True, clf__max_depth=90, clf__max_features=3, clf__min_samples_leaf=5, clf__min_samples_split=10, clf__n_estimators=300, score=0.868, total=   6.7s\n",
      "[CV] clf__bootstrap=True, clf__max_depth=90, clf__max_features=3, clf__min_samples_leaf=5, clf__min_samples_split=10, clf__n_estimators=300 \n",
      "[CV]  clf__bootstrap=True, clf__max_depth=90, clf__max_features=3, clf__min_samples_leaf=5, clf__min_samples_split=10, clf__n_estimators=300, score=0.879, total=   6.3s\n",
      "[CV] clf__bootstrap=True, clf__max_depth=90, clf__max_features=3, clf__min_samples_leaf=5, clf__min_samples_split=10, clf__n_estimators=300 \n",
      "[CV]  clf__bootstrap=True, clf__max_depth=90, clf__max_features=3, clf__min_samples_leaf=5, clf__min_samples_split=10, clf__n_estimators=300, score=0.886, total=   7.0s\n",
      "[CV] clf__bootstrap=True, clf__max_depth=90, clf__max_features=3, clf__min_samples_leaf=5, clf__min_samples_split=12, clf__n_estimators=50 \n",
      "[CV]  clf__bootstrap=True, clf__max_depth=90, clf__max_features=3, clf__min_samples_leaf=5, clf__min_samples_split=12, clf__n_estimators=50, score=0.870, total=   1.1s\n",
      "[CV] clf__bootstrap=True, clf__max_depth=90, clf__max_features=3, clf__min_samples_leaf=5, clf__min_samples_split=12, clf__n_estimators=50 \n",
      "[CV]  clf__bootstrap=True, clf__max_depth=90, clf__max_features=3, clf__min_samples_leaf=5, clf__min_samples_split=12, clf__n_estimators=50, score=0.871, total=   1.3s\n",
      "[CV] clf__bootstrap=True, clf__max_depth=90, clf__max_features=3, clf__min_samples_leaf=5, clf__min_samples_split=12, clf__n_estimators=50 \n",
      "[CV]  clf__bootstrap=True, clf__max_depth=90, clf__max_features=3, clf__min_samples_leaf=5, clf__min_samples_split=12, clf__n_estimators=50, score=0.881, total=   1.2s\n",
      "[CV] clf__bootstrap=True, clf__max_depth=90, clf__max_features=3, clf__min_samples_leaf=5, clf__min_samples_split=12, clf__n_estimators=100 \n",
      "[CV]  clf__bootstrap=True, clf__max_depth=90, clf__max_features=3, clf__min_samples_leaf=5, clf__min_samples_split=12, clf__n_estimators=100, score=0.868, total=   1.9s\n",
      "[CV] clf__bootstrap=True, clf__max_depth=90, clf__max_features=3, clf__min_samples_leaf=5, clf__min_samples_split=12, clf__n_estimators=100 \n",
      "[CV]  clf__bootstrap=True, clf__max_depth=90, clf__max_features=3, clf__min_samples_leaf=5, clf__min_samples_split=12, clf__n_estimators=100, score=0.875, total=   2.3s\n",
      "[CV] clf__bootstrap=True, clf__max_depth=90, clf__max_features=3, clf__min_samples_leaf=5, clf__min_samples_split=12, clf__n_estimators=100 \n",
      "[CV]  clf__bootstrap=True, clf__max_depth=90, clf__max_features=3, clf__min_samples_leaf=5, clf__min_samples_split=12, clf__n_estimators=100, score=0.883, total=   2.5s\n",
      "[CV] clf__bootstrap=True, clf__max_depth=90, clf__max_features=3, clf__min_samples_leaf=5, clf__min_samples_split=12, clf__n_estimators=300 \n",
      "[CV]  clf__bootstrap=True, clf__max_depth=90, clf__max_features=3, clf__min_samples_leaf=5, clf__min_samples_split=12, clf__n_estimators=300, score=0.868, total=   7.0s\n",
      "[CV] clf__bootstrap=True, clf__max_depth=90, clf__max_features=3, clf__min_samples_leaf=5, clf__min_samples_split=12, clf__n_estimators=300 \n",
      "[CV]  clf__bootstrap=True, clf__max_depth=90, clf__max_features=3, clf__min_samples_leaf=5, clf__min_samples_split=12, clf__n_estimators=300, score=0.873, total=   6.4s\n",
      "[CV] clf__bootstrap=True, clf__max_depth=90, clf__max_features=3, clf__min_samples_leaf=5, clf__min_samples_split=12, clf__n_estimators=300 \n",
      "[CV]  clf__bootstrap=True, clf__max_depth=90, clf__max_features=3, clf__min_samples_leaf=5, clf__min_samples_split=12, clf__n_estimators=300, score=0.882, total=   6.7s\n",
      "[CV] clf__bootstrap=True, clf__max_depth=100, clf__max_features=2, clf__min_samples_leaf=3, clf__min_samples_split=8, clf__n_estimators=50 \n",
      "[CV]  clf__bootstrap=True, clf__max_depth=100, clf__max_features=2, clf__min_samples_leaf=3, clf__min_samples_split=8, clf__n_estimators=50, score=0.869, total=   0.9s\n",
      "[CV] clf__bootstrap=True, clf__max_depth=100, clf__max_features=2, clf__min_samples_leaf=3, clf__min_samples_split=8, clf__n_estimators=50 \n",
      "[CV]  clf__bootstrap=True, clf__max_depth=100, clf__max_features=2, clf__min_samples_leaf=3, clf__min_samples_split=8, clf__n_estimators=50, score=0.877, total=   0.8s\n",
      "[CV] clf__bootstrap=True, clf__max_depth=100, clf__max_features=2, clf__min_samples_leaf=3, clf__min_samples_split=8, clf__n_estimators=50 \n",
      "[CV]  clf__bootstrap=True, clf__max_depth=100, clf__max_features=2, clf__min_samples_leaf=3, clf__min_samples_split=8, clf__n_estimators=50, score=0.892, total=   1.2s\n",
      "[CV] clf__bootstrap=True, clf__max_depth=100, clf__max_features=2, clf__min_samples_leaf=3, clf__min_samples_split=8, clf__n_estimators=100 \n"
     ]
    },
    {
     "name": "stdout",
     "output_type": "stream",
     "text": [
      "[CV]  clf__bootstrap=True, clf__max_depth=100, clf__max_features=2, clf__min_samples_leaf=3, clf__min_samples_split=8, clf__n_estimators=100, score=0.868, total=   2.0s\n",
      "[CV] clf__bootstrap=True, clf__max_depth=100, clf__max_features=2, clf__min_samples_leaf=3, clf__min_samples_split=8, clf__n_estimators=100 \n",
      "[CV]  clf__bootstrap=True, clf__max_depth=100, clf__max_features=2, clf__min_samples_leaf=3, clf__min_samples_split=8, clf__n_estimators=100, score=0.882, total=   1.7s\n",
      "[CV] clf__bootstrap=True, clf__max_depth=100, clf__max_features=2, clf__min_samples_leaf=3, clf__min_samples_split=8, clf__n_estimators=100 \n",
      "[CV]  clf__bootstrap=True, clf__max_depth=100, clf__max_features=2, clf__min_samples_leaf=3, clf__min_samples_split=8, clf__n_estimators=100, score=0.892, total=   1.9s\n",
      "[CV] clf__bootstrap=True, clf__max_depth=100, clf__max_features=2, clf__min_samples_leaf=3, clf__min_samples_split=8, clf__n_estimators=300 \n",
      "[CV]  clf__bootstrap=True, clf__max_depth=100, clf__max_features=2, clf__min_samples_leaf=3, clf__min_samples_split=8, clf__n_estimators=300, score=0.873, total=   6.0s\n",
      "[CV] clf__bootstrap=True, clf__max_depth=100, clf__max_features=2, clf__min_samples_leaf=3, clf__min_samples_split=8, clf__n_estimators=300 \n",
      "[CV]  clf__bootstrap=True, clf__max_depth=100, clf__max_features=2, clf__min_samples_leaf=3, clf__min_samples_split=8, clf__n_estimators=300, score=0.880, total=   6.0s\n",
      "[CV] clf__bootstrap=True, clf__max_depth=100, clf__max_features=2, clf__min_samples_leaf=3, clf__min_samples_split=8, clf__n_estimators=300 \n",
      "[CV]  clf__bootstrap=True, clf__max_depth=100, clf__max_features=2, clf__min_samples_leaf=3, clf__min_samples_split=8, clf__n_estimators=300, score=0.892, total=   5.5s\n",
      "[CV] clf__bootstrap=True, clf__max_depth=100, clf__max_features=2, clf__min_samples_leaf=3, clf__min_samples_split=10, clf__n_estimators=50 \n",
      "[CV]  clf__bootstrap=True, clf__max_depth=100, clf__max_features=2, clf__min_samples_leaf=3, clf__min_samples_split=10, clf__n_estimators=50, score=0.870, total=   1.0s\n",
      "[CV] clf__bootstrap=True, clf__max_depth=100, clf__max_features=2, clf__min_samples_leaf=3, clf__min_samples_split=10, clf__n_estimators=50 \n",
      "[CV]  clf__bootstrap=True, clf__max_depth=100, clf__max_features=2, clf__min_samples_leaf=3, clf__min_samples_split=10, clf__n_estimators=50, score=0.875, total=   0.8s\n",
      "[CV] clf__bootstrap=True, clf__max_depth=100, clf__max_features=2, clf__min_samples_leaf=3, clf__min_samples_split=10, clf__n_estimators=50 \n",
      "[CV]  clf__bootstrap=True, clf__max_depth=100, clf__max_features=2, clf__min_samples_leaf=3, clf__min_samples_split=10, clf__n_estimators=50, score=0.888, total=   1.0s\n",
      "[CV] clf__bootstrap=True, clf__max_depth=100, clf__max_features=2, clf__min_samples_leaf=3, clf__min_samples_split=10, clf__n_estimators=100 \n",
      "[CV]  clf__bootstrap=True, clf__max_depth=100, clf__max_features=2, clf__min_samples_leaf=3, clf__min_samples_split=10, clf__n_estimators=100, score=0.867, total=   2.0s\n",
      "[CV] clf__bootstrap=True, clf__max_depth=100, clf__max_features=2, clf__min_samples_leaf=3, clf__min_samples_split=10, clf__n_estimators=100 \n",
      "[CV]  clf__bootstrap=True, clf__max_depth=100, clf__max_features=2, clf__min_samples_leaf=3, clf__min_samples_split=10, clf__n_estimators=100, score=0.873, total=   1.8s\n",
      "[CV] clf__bootstrap=True, clf__max_depth=100, clf__max_features=2, clf__min_samples_leaf=3, clf__min_samples_split=10, clf__n_estimators=100 \n",
      "[CV]  clf__bootstrap=True, clf__max_depth=100, clf__max_features=2, clf__min_samples_leaf=3, clf__min_samples_split=10, clf__n_estimators=100, score=0.887, total=   1.8s\n",
      "[CV] clf__bootstrap=True, clf__max_depth=100, clf__max_features=2, clf__min_samples_leaf=3, clf__min_samples_split=10, clf__n_estimators=300 \n",
      "[CV]  clf__bootstrap=True, clf__max_depth=100, clf__max_features=2, clf__min_samples_leaf=3, clf__min_samples_split=10, clf__n_estimators=300, score=0.868, total=   5.3s\n",
      "[CV] clf__bootstrap=True, clf__max_depth=100, clf__max_features=2, clf__min_samples_leaf=3, clf__min_samples_split=10, clf__n_estimators=300 \n",
      "[CV]  clf__bootstrap=True, clf__max_depth=100, clf__max_features=2, clf__min_samples_leaf=3, clf__min_samples_split=10, clf__n_estimators=300, score=0.876, total=   5.6s\n",
      "[CV] clf__bootstrap=True, clf__max_depth=100, clf__max_features=2, clf__min_samples_leaf=3, clf__min_samples_split=10, clf__n_estimators=300 \n",
      "[CV]  clf__bootstrap=True, clf__max_depth=100, clf__max_features=2, clf__min_samples_leaf=3, clf__min_samples_split=10, clf__n_estimators=300, score=0.891, total=   5.1s\n",
      "[CV] clf__bootstrap=True, clf__max_depth=100, clf__max_features=2, clf__min_samples_leaf=3, clf__min_samples_split=12, clf__n_estimators=50 \n",
      "[CV]  clf__bootstrap=True, clf__max_depth=100, clf__max_features=2, clf__min_samples_leaf=3, clf__min_samples_split=12, clf__n_estimators=50, score=0.867, total=   1.0s\n",
      "[CV] clf__bootstrap=True, clf__max_depth=100, clf__max_features=2, clf__min_samples_leaf=3, clf__min_samples_split=12, clf__n_estimators=50 \n",
      "[CV]  clf__bootstrap=True, clf__max_depth=100, clf__max_features=2, clf__min_samples_leaf=3, clf__min_samples_split=12, clf__n_estimators=50, score=0.874, total=   1.0s\n",
      "[CV] clf__bootstrap=True, clf__max_depth=100, clf__max_features=2, clf__min_samples_leaf=3, clf__min_samples_split=12, clf__n_estimators=50 \n",
      "[CV]  clf__bootstrap=True, clf__max_depth=100, clf__max_features=2, clf__min_samples_leaf=3, clf__min_samples_split=12, clf__n_estimators=50, score=0.883, total=   1.0s\n",
      "[CV] clf__bootstrap=True, clf__max_depth=100, clf__max_features=2, clf__min_samples_leaf=3, clf__min_samples_split=12, clf__n_estimators=100 \n",
      "[CV]  clf__bootstrap=True, clf__max_depth=100, clf__max_features=2, clf__min_samples_leaf=3, clf__min_samples_split=12, clf__n_estimators=100, score=0.864, total=   1.4s\n",
      "[CV] clf__bootstrap=True, clf__max_depth=100, clf__max_features=2, clf__min_samples_leaf=3, clf__min_samples_split=12, clf__n_estimators=100 \n",
      "[CV]  clf__bootstrap=True, clf__max_depth=100, clf__max_features=2, clf__min_samples_leaf=3, clf__min_samples_split=12, clf__n_estimators=100, score=0.876, total=   1.6s\n",
      "[CV] clf__bootstrap=True, clf__max_depth=100, clf__max_features=2, clf__min_samples_leaf=3, clf__min_samples_split=12, clf__n_estimators=100 \n",
      "[CV]  clf__bootstrap=True, clf__max_depth=100, clf__max_features=2, clf__min_samples_leaf=3, clf__min_samples_split=12, clf__n_estimators=100, score=0.888, total=   1.8s\n",
      "[CV] clf__bootstrap=True, clf__max_depth=100, clf__max_features=2, clf__min_samples_leaf=3, clf__min_samples_split=12, clf__n_estimators=300 \n",
      "[CV]  clf__bootstrap=True, clf__max_depth=100, clf__max_features=2, clf__min_samples_leaf=3, clf__min_samples_split=12, clf__n_estimators=300, score=0.866, total=   5.3s\n",
      "[CV] clf__bootstrap=True, clf__max_depth=100, clf__max_features=2, clf__min_samples_leaf=3, clf__min_samples_split=12, clf__n_estimators=300 \n",
      "[CV]  clf__bootstrap=True, clf__max_depth=100, clf__max_features=2, clf__min_samples_leaf=3, clf__min_samples_split=12, clf__n_estimators=300, score=0.877, total=   5.3s\n",
      "[CV] clf__bootstrap=True, clf__max_depth=100, clf__max_features=2, clf__min_samples_leaf=3, clf__min_samples_split=12, clf__n_estimators=300 \n",
      "[CV]  clf__bootstrap=True, clf__max_depth=100, clf__max_features=2, clf__min_samples_leaf=3, clf__min_samples_split=12, clf__n_estimators=300, score=0.885, total=   5.0s\n",
      "[CV] clf__bootstrap=True, clf__max_depth=100, clf__max_features=2, clf__min_samples_leaf=4, clf__min_samples_split=8, clf__n_estimators=50 \n",
      "[CV]  clf__bootstrap=True, clf__max_depth=100, clf__max_features=2, clf__min_samples_leaf=4, clf__min_samples_split=8, clf__n_estimators=50, score=0.870, total=   0.9s\n",
      "[CV] clf__bootstrap=True, clf__max_depth=100, clf__max_features=2, clf__min_samples_leaf=4, clf__min_samples_split=8, clf__n_estimators=50 \n",
      "[CV]  clf__bootstrap=True, clf__max_depth=100, clf__max_features=2, clf__min_samples_leaf=4, clf__min_samples_split=8, clf__n_estimators=50, score=0.869, total=   1.0s\n",
      "[CV] clf__bootstrap=True, clf__max_depth=100, clf__max_features=2, clf__min_samples_leaf=4, clf__min_samples_split=8, clf__n_estimators=50 \n",
      "[CV]  clf__bootstrap=True, clf__max_depth=100, clf__max_features=2, clf__min_samples_leaf=4, clf__min_samples_split=8, clf__n_estimators=50, score=0.882, total=   0.9s\n",
      "[CV] clf__bootstrap=True, clf__max_depth=100, clf__max_features=2, clf__min_samples_leaf=4, clf__min_samples_split=8, clf__n_estimators=100 \n"
     ]
    },
    {
     "name": "stdout",
     "output_type": "stream",
     "text": [
      "[CV]  clf__bootstrap=True, clf__max_depth=100, clf__max_features=2, clf__min_samples_leaf=4, clf__min_samples_split=8, clf__n_estimators=100, score=0.866, total=   1.9s\n",
      "[CV] clf__bootstrap=True, clf__max_depth=100, clf__max_features=2, clf__min_samples_leaf=4, clf__min_samples_split=8, clf__n_estimators=100 \n",
      "[CV]  clf__bootstrap=True, clf__max_depth=100, clf__max_features=2, clf__min_samples_leaf=4, clf__min_samples_split=8, clf__n_estimators=100, score=0.868, total=   1.7s\n",
      "[CV] clf__bootstrap=True, clf__max_depth=100, clf__max_features=2, clf__min_samples_leaf=4, clf__min_samples_split=8, clf__n_estimators=100 \n",
      "[CV]  clf__bootstrap=True, clf__max_depth=100, clf__max_features=2, clf__min_samples_leaf=4, clf__min_samples_split=8, clf__n_estimators=100, score=0.888, total=   1.9s\n",
      "[CV] clf__bootstrap=True, clf__max_depth=100, clf__max_features=2, clf__min_samples_leaf=4, clf__min_samples_split=8, clf__n_estimators=300 \n",
      "[CV]  clf__bootstrap=True, clf__max_depth=100, clf__max_features=2, clf__min_samples_leaf=4, clf__min_samples_split=8, clf__n_estimators=300, score=0.869, total=   5.0s\n",
      "[CV] clf__bootstrap=True, clf__max_depth=100, clf__max_features=2, clf__min_samples_leaf=4, clf__min_samples_split=8, clf__n_estimators=300 \n",
      "[CV]  clf__bootstrap=True, clf__max_depth=100, clf__max_features=2, clf__min_samples_leaf=4, clf__min_samples_split=8, clf__n_estimators=300, score=0.876, total=   5.8s\n",
      "[CV] clf__bootstrap=True, clf__max_depth=100, clf__max_features=2, clf__min_samples_leaf=4, clf__min_samples_split=8, clf__n_estimators=300 \n",
      "[CV]  clf__bootstrap=True, clf__max_depth=100, clf__max_features=2, clf__min_samples_leaf=4, clf__min_samples_split=8, clf__n_estimators=300, score=0.884, total=   5.6s\n",
      "[CV] clf__bootstrap=True, clf__max_depth=100, clf__max_features=2, clf__min_samples_leaf=4, clf__min_samples_split=10, clf__n_estimators=50 \n",
      "[CV]  clf__bootstrap=True, clf__max_depth=100, clf__max_features=2, clf__min_samples_leaf=4, clf__min_samples_split=10, clf__n_estimators=50, score=0.865, total=   0.8s\n",
      "[CV] clf__bootstrap=True, clf__max_depth=100, clf__max_features=2, clf__min_samples_leaf=4, clf__min_samples_split=10, clf__n_estimators=50 \n",
      "[CV]  clf__bootstrap=True, clf__max_depth=100, clf__max_features=2, clf__min_samples_leaf=4, clf__min_samples_split=10, clf__n_estimators=50, score=0.868, total=   0.9s\n",
      "[CV] clf__bootstrap=True, clf__max_depth=100, clf__max_features=2, clf__min_samples_leaf=4, clf__min_samples_split=10, clf__n_estimators=50 \n",
      "[CV]  clf__bootstrap=True, clf__max_depth=100, clf__max_features=2, clf__min_samples_leaf=4, clf__min_samples_split=10, clf__n_estimators=50, score=0.884, total=   0.9s\n",
      "[CV] clf__bootstrap=True, clf__max_depth=100, clf__max_features=2, clf__min_samples_leaf=4, clf__min_samples_split=10, clf__n_estimators=100 \n",
      "[CV]  clf__bootstrap=True, clf__max_depth=100, clf__max_features=2, clf__min_samples_leaf=4, clf__min_samples_split=10, clf__n_estimators=100, score=0.869, total=   1.4s\n",
      "[CV] clf__bootstrap=True, clf__max_depth=100, clf__max_features=2, clf__min_samples_leaf=4, clf__min_samples_split=10, clf__n_estimators=100 \n",
      "[CV]  clf__bootstrap=True, clf__max_depth=100, clf__max_features=2, clf__min_samples_leaf=4, clf__min_samples_split=10, clf__n_estimators=100, score=0.878, total=   1.8s\n",
      "[CV] clf__bootstrap=True, clf__max_depth=100, clf__max_features=2, clf__min_samples_leaf=4, clf__min_samples_split=10, clf__n_estimators=100 \n",
      "[CV]  clf__bootstrap=True, clf__max_depth=100, clf__max_features=2, clf__min_samples_leaf=4, clf__min_samples_split=10, clf__n_estimators=100, score=0.889, total=   2.1s\n",
      "[CV] clf__bootstrap=True, clf__max_depth=100, clf__max_features=2, clf__min_samples_leaf=4, clf__min_samples_split=10, clf__n_estimators=300 \n",
      "[CV]  clf__bootstrap=True, clf__max_depth=100, clf__max_features=2, clf__min_samples_leaf=4, clf__min_samples_split=10, clf__n_estimators=300, score=0.868, total=   5.8s\n",
      "[CV] clf__bootstrap=True, clf__max_depth=100, clf__max_features=2, clf__min_samples_leaf=4, clf__min_samples_split=10, clf__n_estimators=300 \n",
      "[CV]  clf__bootstrap=True, clf__max_depth=100, clf__max_features=2, clf__min_samples_leaf=4, clf__min_samples_split=10, clf__n_estimators=300, score=0.874, total=   5.6s\n",
      "[CV] clf__bootstrap=True, clf__max_depth=100, clf__max_features=2, clf__min_samples_leaf=4, clf__min_samples_split=10, clf__n_estimators=300 \n",
      "[CV]  clf__bootstrap=True, clf__max_depth=100, clf__max_features=2, clf__min_samples_leaf=4, clf__min_samples_split=10, clf__n_estimators=300, score=0.886, total=   5.2s\n",
      "[CV] clf__bootstrap=True, clf__max_depth=100, clf__max_features=2, clf__min_samples_leaf=4, clf__min_samples_split=12, clf__n_estimators=50 \n",
      "[CV]  clf__bootstrap=True, clf__max_depth=100, clf__max_features=2, clf__min_samples_leaf=4, clf__min_samples_split=12, clf__n_estimators=50, score=0.866, total=   0.9s\n",
      "[CV] clf__bootstrap=True, clf__max_depth=100, clf__max_features=2, clf__min_samples_leaf=4, clf__min_samples_split=12, clf__n_estimators=50 \n",
      "[CV]  clf__bootstrap=True, clf__max_depth=100, clf__max_features=2, clf__min_samples_leaf=4, clf__min_samples_split=12, clf__n_estimators=50, score=0.871, total=   1.0s\n",
      "[CV] clf__bootstrap=True, clf__max_depth=100, clf__max_features=2, clf__min_samples_leaf=4, clf__min_samples_split=12, clf__n_estimators=50 \n",
      "[CV]  clf__bootstrap=True, clf__max_depth=100, clf__max_features=2, clf__min_samples_leaf=4, clf__min_samples_split=12, clf__n_estimators=50, score=0.883, total=   1.0s\n",
      "[CV] clf__bootstrap=True, clf__max_depth=100, clf__max_features=2, clf__min_samples_leaf=4, clf__min_samples_split=12, clf__n_estimators=100 \n",
      "[CV]  clf__bootstrap=True, clf__max_depth=100, clf__max_features=2, clf__min_samples_leaf=4, clf__min_samples_split=12, clf__n_estimators=100, score=0.867, total=   1.9s\n",
      "[CV] clf__bootstrap=True, clf__max_depth=100, clf__max_features=2, clf__min_samples_leaf=4, clf__min_samples_split=12, clf__n_estimators=100 \n",
      "[CV]  clf__bootstrap=True, clf__max_depth=100, clf__max_features=2, clf__min_samples_leaf=4, clf__min_samples_split=12, clf__n_estimators=100, score=0.874, total=   1.9s\n",
      "[CV] clf__bootstrap=True, clf__max_depth=100, clf__max_features=2, clf__min_samples_leaf=4, clf__min_samples_split=12, clf__n_estimators=100 \n",
      "[CV]  clf__bootstrap=True, clf__max_depth=100, clf__max_features=2, clf__min_samples_leaf=4, clf__min_samples_split=12, clf__n_estimators=100, score=0.884, total=   1.9s\n",
      "[CV] clf__bootstrap=True, clf__max_depth=100, clf__max_features=2, clf__min_samples_leaf=4, clf__min_samples_split=12, clf__n_estimators=300 \n",
      "[CV]  clf__bootstrap=True, clf__max_depth=100, clf__max_features=2, clf__min_samples_leaf=4, clf__min_samples_split=12, clf__n_estimators=300, score=0.866, total=   5.0s\n",
      "[CV] clf__bootstrap=True, clf__max_depth=100, clf__max_features=2, clf__min_samples_leaf=4, clf__min_samples_split=12, clf__n_estimators=300 \n",
      "[CV]  clf__bootstrap=True, clf__max_depth=100, clf__max_features=2, clf__min_samples_leaf=4, clf__min_samples_split=12, clf__n_estimators=300, score=0.872, total=   5.6s\n",
      "[CV] clf__bootstrap=True, clf__max_depth=100, clf__max_features=2, clf__min_samples_leaf=4, clf__min_samples_split=12, clf__n_estimators=300 \n",
      "[CV]  clf__bootstrap=True, clf__max_depth=100, clf__max_features=2, clf__min_samples_leaf=4, clf__min_samples_split=12, clf__n_estimators=300, score=0.882, total=   5.8s\n",
      "[CV] clf__bootstrap=True, clf__max_depth=100, clf__max_features=2, clf__min_samples_leaf=5, clf__min_samples_split=8, clf__n_estimators=50 \n",
      "[CV]  clf__bootstrap=True, clf__max_depth=100, clf__max_features=2, clf__min_samples_leaf=5, clf__min_samples_split=8, clf__n_estimators=50, score=0.868, total=   1.0s\n",
      "[CV] clf__bootstrap=True, clf__max_depth=100, clf__max_features=2, clf__min_samples_leaf=5, clf__min_samples_split=8, clf__n_estimators=50 \n",
      "[CV]  clf__bootstrap=True, clf__max_depth=100, clf__max_features=2, clf__min_samples_leaf=5, clf__min_samples_split=8, clf__n_estimators=50, score=0.868, total=   0.9s\n",
      "[CV] clf__bootstrap=True, clf__max_depth=100, clf__max_features=2, clf__min_samples_leaf=5, clf__min_samples_split=8, clf__n_estimators=50 \n",
      "[CV]  clf__bootstrap=True, clf__max_depth=100, clf__max_features=2, clf__min_samples_leaf=5, clf__min_samples_split=8, clf__n_estimators=50, score=0.880, total=   0.5s\n",
      "[CV] clf__bootstrap=True, clf__max_depth=100, clf__max_features=2, clf__min_samples_leaf=5, clf__min_samples_split=8, clf__n_estimators=100 \n"
     ]
    },
    {
     "name": "stdout",
     "output_type": "stream",
     "text": [
      "[CV]  clf__bootstrap=True, clf__max_depth=100, clf__max_features=2, clf__min_samples_leaf=5, clf__min_samples_split=8, clf__n_estimators=100, score=0.866, total=   1.6s\n",
      "[CV] clf__bootstrap=True, clf__max_depth=100, clf__max_features=2, clf__min_samples_leaf=5, clf__min_samples_split=8, clf__n_estimators=100 \n",
      "[CV]  clf__bootstrap=True, clf__max_depth=100, clf__max_features=2, clf__min_samples_leaf=5, clf__min_samples_split=8, clf__n_estimators=100, score=0.871, total=   1.8s\n",
      "[CV] clf__bootstrap=True, clf__max_depth=100, clf__max_features=2, clf__min_samples_leaf=5, clf__min_samples_split=8, clf__n_estimators=100 \n",
      "[CV]  clf__bootstrap=True, clf__max_depth=100, clf__max_features=2, clf__min_samples_leaf=5, clf__min_samples_split=8, clf__n_estimators=100, score=0.881, total=   1.9s\n",
      "[CV] clf__bootstrap=True, clf__max_depth=100, clf__max_features=2, clf__min_samples_leaf=5, clf__min_samples_split=8, clf__n_estimators=300 \n",
      "[CV]  clf__bootstrap=True, clf__max_depth=100, clf__max_features=2, clf__min_samples_leaf=5, clf__min_samples_split=8, clf__n_estimators=300, score=0.869, total=   5.7s\n",
      "[CV] clf__bootstrap=True, clf__max_depth=100, clf__max_features=2, clf__min_samples_leaf=5, clf__min_samples_split=8, clf__n_estimators=300 \n",
      "[CV]  clf__bootstrap=True, clf__max_depth=100, clf__max_features=2, clf__min_samples_leaf=5, clf__min_samples_split=8, clf__n_estimators=300, score=0.875, total=   5.2s\n",
      "[CV] clf__bootstrap=True, clf__max_depth=100, clf__max_features=2, clf__min_samples_leaf=5, clf__min_samples_split=8, clf__n_estimators=300 \n",
      "[CV]  clf__bootstrap=True, clf__max_depth=100, clf__max_features=2, clf__min_samples_leaf=5, clf__min_samples_split=8, clf__n_estimators=300, score=0.883, total=   5.8s\n",
      "[CV] clf__bootstrap=True, clf__max_depth=100, clf__max_features=2, clf__min_samples_leaf=5, clf__min_samples_split=10, clf__n_estimators=50 \n",
      "[CV]  clf__bootstrap=True, clf__max_depth=100, clf__max_features=2, clf__min_samples_leaf=5, clf__min_samples_split=10, clf__n_estimators=50, score=0.858, total=   0.8s\n",
      "[CV] clf__bootstrap=True, clf__max_depth=100, clf__max_features=2, clf__min_samples_leaf=5, clf__min_samples_split=10, clf__n_estimators=50 \n",
      "[CV]  clf__bootstrap=True, clf__max_depth=100, clf__max_features=2, clf__min_samples_leaf=5, clf__min_samples_split=10, clf__n_estimators=50, score=0.872, total=   0.8s\n",
      "[CV] clf__bootstrap=True, clf__max_depth=100, clf__max_features=2, clf__min_samples_leaf=5, clf__min_samples_split=10, clf__n_estimators=50 \n",
      "[CV]  clf__bootstrap=True, clf__max_depth=100, clf__max_features=2, clf__min_samples_leaf=5, clf__min_samples_split=10, clf__n_estimators=50, score=0.883, total=   0.9s\n",
      "[CV] clf__bootstrap=True, clf__max_depth=100, clf__max_features=2, clf__min_samples_leaf=5, clf__min_samples_split=10, clf__n_estimators=100 \n",
      "[CV]  clf__bootstrap=True, clf__max_depth=100, clf__max_features=2, clf__min_samples_leaf=5, clf__min_samples_split=10, clf__n_estimators=100, score=0.864, total=   1.5s\n",
      "[CV] clf__bootstrap=True, clf__max_depth=100, clf__max_features=2, clf__min_samples_leaf=5, clf__min_samples_split=10, clf__n_estimators=100 \n",
      "[CV]  clf__bootstrap=True, clf__max_depth=100, clf__max_features=2, clf__min_samples_leaf=5, clf__min_samples_split=10, clf__n_estimators=100, score=0.871, total=   1.6s\n",
      "[CV] clf__bootstrap=True, clf__max_depth=100, clf__max_features=2, clf__min_samples_leaf=5, clf__min_samples_split=10, clf__n_estimators=100 \n",
      "[CV]  clf__bootstrap=True, clf__max_depth=100, clf__max_features=2, clf__min_samples_leaf=5, clf__min_samples_split=10, clf__n_estimators=100, score=0.885, total=   1.7s\n",
      "[CV] clf__bootstrap=True, clf__max_depth=100, clf__max_features=2, clf__min_samples_leaf=5, clf__min_samples_split=10, clf__n_estimators=300 \n",
      "[CV]  clf__bootstrap=True, clf__max_depth=100, clf__max_features=2, clf__min_samples_leaf=5, clf__min_samples_split=10, clf__n_estimators=300, score=0.864, total=   4.8s\n",
      "[CV] clf__bootstrap=True, clf__max_depth=100, clf__max_features=2, clf__min_samples_leaf=5, clf__min_samples_split=10, clf__n_estimators=300 \n",
      "[CV]  clf__bootstrap=True, clf__max_depth=100, clf__max_features=2, clf__min_samples_leaf=5, clf__min_samples_split=10, clf__n_estimators=300, score=0.874, total=   5.3s\n",
      "[CV] clf__bootstrap=True, clf__max_depth=100, clf__max_features=2, clf__min_samples_leaf=5, clf__min_samples_split=10, clf__n_estimators=300 \n",
      "[CV]  clf__bootstrap=True, clf__max_depth=100, clf__max_features=2, clf__min_samples_leaf=5, clf__min_samples_split=10, clf__n_estimators=300, score=0.884, total=   5.4s\n",
      "[CV] clf__bootstrap=True, clf__max_depth=100, clf__max_features=2, clf__min_samples_leaf=5, clf__min_samples_split=12, clf__n_estimators=50 \n",
      "[CV]  clf__bootstrap=True, clf__max_depth=100, clf__max_features=2, clf__min_samples_leaf=5, clf__min_samples_split=12, clf__n_estimators=50, score=0.864, total=   1.1s\n",
      "[CV] clf__bootstrap=True, clf__max_depth=100, clf__max_features=2, clf__min_samples_leaf=5, clf__min_samples_split=12, clf__n_estimators=50 \n",
      "[CV]  clf__bootstrap=True, clf__max_depth=100, clf__max_features=2, clf__min_samples_leaf=5, clf__min_samples_split=12, clf__n_estimators=50, score=0.868, total=   0.9s\n",
      "[CV] clf__bootstrap=True, clf__max_depth=100, clf__max_features=2, clf__min_samples_leaf=5, clf__min_samples_split=12, clf__n_estimators=50 \n",
      "[CV]  clf__bootstrap=True, clf__max_depth=100, clf__max_features=2, clf__min_samples_leaf=5, clf__min_samples_split=12, clf__n_estimators=50, score=0.881, total=   0.7s\n",
      "[CV] clf__bootstrap=True, clf__max_depth=100, clf__max_features=2, clf__min_samples_leaf=5, clf__min_samples_split=12, clf__n_estimators=100 \n",
      "[CV]  clf__bootstrap=True, clf__max_depth=100, clf__max_features=2, clf__min_samples_leaf=5, clf__min_samples_split=12, clf__n_estimators=100, score=0.864, total=   1.6s\n",
      "[CV] clf__bootstrap=True, clf__max_depth=100, clf__max_features=2, clf__min_samples_leaf=5, clf__min_samples_split=12, clf__n_estimators=100 \n",
      "[CV]  clf__bootstrap=True, clf__max_depth=100, clf__max_features=2, clf__min_samples_leaf=5, clf__min_samples_split=12, clf__n_estimators=100, score=0.873, total=   1.7s\n",
      "[CV] clf__bootstrap=True, clf__max_depth=100, clf__max_features=2, clf__min_samples_leaf=5, clf__min_samples_split=12, clf__n_estimators=100 \n",
      "[CV]  clf__bootstrap=True, clf__max_depth=100, clf__max_features=2, clf__min_samples_leaf=5, clf__min_samples_split=12, clf__n_estimators=100, score=0.883, total=   1.7s\n",
      "[CV] clf__bootstrap=True, clf__max_depth=100, clf__max_features=2, clf__min_samples_leaf=5, clf__min_samples_split=12, clf__n_estimators=300 \n",
      "[CV]  clf__bootstrap=True, clf__max_depth=100, clf__max_features=2, clf__min_samples_leaf=5, clf__min_samples_split=12, clf__n_estimators=300, score=0.863, total=   5.6s\n",
      "[CV] clf__bootstrap=True, clf__max_depth=100, clf__max_features=2, clf__min_samples_leaf=5, clf__min_samples_split=12, clf__n_estimators=300 \n",
      "[CV]  clf__bootstrap=True, clf__max_depth=100, clf__max_features=2, clf__min_samples_leaf=5, clf__min_samples_split=12, clf__n_estimators=300, score=0.873, total=   5.3s\n",
      "[CV] clf__bootstrap=True, clf__max_depth=100, clf__max_features=2, clf__min_samples_leaf=5, clf__min_samples_split=12, clf__n_estimators=300 \n",
      "[CV]  clf__bootstrap=True, clf__max_depth=100, clf__max_features=2, clf__min_samples_leaf=5, clf__min_samples_split=12, clf__n_estimators=300, score=0.878, total=   5.7s\n",
      "[CV] clf__bootstrap=True, clf__max_depth=100, clf__max_features=3, clf__min_samples_leaf=3, clf__min_samples_split=8, clf__n_estimators=50 \n",
      "[CV]  clf__bootstrap=True, clf__max_depth=100, clf__max_features=3, clf__min_samples_leaf=3, clf__min_samples_split=8, clf__n_estimators=50, score=0.877, total=   1.2s\n",
      "[CV] clf__bootstrap=True, clf__max_depth=100, clf__max_features=3, clf__min_samples_leaf=3, clf__min_samples_split=8, clf__n_estimators=50 \n",
      "[CV]  clf__bootstrap=True, clf__max_depth=100, clf__max_features=3, clf__min_samples_leaf=3, clf__min_samples_split=8, clf__n_estimators=50, score=0.881, total=   1.1s\n",
      "[CV] clf__bootstrap=True, clf__max_depth=100, clf__max_features=3, clf__min_samples_leaf=3, clf__min_samples_split=8, clf__n_estimators=50 \n",
      "[CV]  clf__bootstrap=True, clf__max_depth=100, clf__max_features=3, clf__min_samples_leaf=3, clf__min_samples_split=8, clf__n_estimators=50, score=0.892, total=   1.3s\n",
      "[CV] clf__bootstrap=True, clf__max_depth=100, clf__max_features=3, clf__min_samples_leaf=3, clf__min_samples_split=8, clf__n_estimators=100 \n"
     ]
    },
    {
     "name": "stdout",
     "output_type": "stream",
     "text": [
      "[CV]  clf__bootstrap=True, clf__max_depth=100, clf__max_features=3, clf__min_samples_leaf=3, clf__min_samples_split=8, clf__n_estimators=100, score=0.873, total=   2.3s\n",
      "[CV] clf__bootstrap=True, clf__max_depth=100, clf__max_features=3, clf__min_samples_leaf=3, clf__min_samples_split=8, clf__n_estimators=100 \n",
      "[CV]  clf__bootstrap=True, clf__max_depth=100, clf__max_features=3, clf__min_samples_leaf=3, clf__min_samples_split=8, clf__n_estimators=100, score=0.876, total=   2.4s\n",
      "[CV] clf__bootstrap=True, clf__max_depth=100, clf__max_features=3, clf__min_samples_leaf=3, clf__min_samples_split=8, clf__n_estimators=100 \n",
      "[CV]  clf__bootstrap=True, clf__max_depth=100, clf__max_features=3, clf__min_samples_leaf=3, clf__min_samples_split=8, clf__n_estimators=100, score=0.890, total=   2.1s\n",
      "[CV] clf__bootstrap=True, clf__max_depth=100, clf__max_features=3, clf__min_samples_leaf=3, clf__min_samples_split=8, clf__n_estimators=300 \n",
      "[CV]  clf__bootstrap=True, clf__max_depth=100, clf__max_features=3, clf__min_samples_leaf=3, clf__min_samples_split=8, clf__n_estimators=300, score=0.878, total=   7.2s\n",
      "[CV] clf__bootstrap=True, clf__max_depth=100, clf__max_features=3, clf__min_samples_leaf=3, clf__min_samples_split=8, clf__n_estimators=300 \n",
      "[CV]  clf__bootstrap=True, clf__max_depth=100, clf__max_features=3, clf__min_samples_leaf=3, clf__min_samples_split=8, clf__n_estimators=300, score=0.884, total=   6.9s\n",
      "[CV] clf__bootstrap=True, clf__max_depth=100, clf__max_features=3, clf__min_samples_leaf=3, clf__min_samples_split=8, clf__n_estimators=300 \n",
      "[CV]  clf__bootstrap=True, clf__max_depth=100, clf__max_features=3, clf__min_samples_leaf=3, clf__min_samples_split=8, clf__n_estimators=300, score=0.895, total=   6.8s\n",
      "[CV] clf__bootstrap=True, clf__max_depth=100, clf__max_features=3, clf__min_samples_leaf=3, clf__min_samples_split=10, clf__n_estimators=50 \n",
      "[CV]  clf__bootstrap=True, clf__max_depth=100, clf__max_features=3, clf__min_samples_leaf=3, clf__min_samples_split=10, clf__n_estimators=50, score=0.868, total=   1.3s\n",
      "[CV] clf__bootstrap=True, clf__max_depth=100, clf__max_features=3, clf__min_samples_leaf=3, clf__min_samples_split=10, clf__n_estimators=50 \n",
      "[CV]  clf__bootstrap=True, clf__max_depth=100, clf__max_features=3, clf__min_samples_leaf=3, clf__min_samples_split=10, clf__n_estimators=50, score=0.878, total=   1.2s\n",
      "[CV] clf__bootstrap=True, clf__max_depth=100, clf__max_features=3, clf__min_samples_leaf=3, clf__min_samples_split=10, clf__n_estimators=50 \n",
      "[CV]  clf__bootstrap=True, clf__max_depth=100, clf__max_features=3, clf__min_samples_leaf=3, clf__min_samples_split=10, clf__n_estimators=50, score=0.886, total=   1.5s\n",
      "[CV] clf__bootstrap=True, clf__max_depth=100, clf__max_features=3, clf__min_samples_leaf=3, clf__min_samples_split=10, clf__n_estimators=100 \n",
      "[CV]  clf__bootstrap=True, clf__max_depth=100, clf__max_features=3, clf__min_samples_leaf=3, clf__min_samples_split=10, clf__n_estimators=100, score=0.875, total=   2.3s\n",
      "[CV] clf__bootstrap=True, clf__max_depth=100, clf__max_features=3, clf__min_samples_leaf=3, clf__min_samples_split=10, clf__n_estimators=100 \n",
      "[CV]  clf__bootstrap=True, clf__max_depth=100, clf__max_features=3, clf__min_samples_leaf=3, clf__min_samples_split=10, clf__n_estimators=100, score=0.875, total=   2.4s\n",
      "[CV] clf__bootstrap=True, clf__max_depth=100, clf__max_features=3, clf__min_samples_leaf=3, clf__min_samples_split=10, clf__n_estimators=100 \n",
      "[CV]  clf__bootstrap=True, clf__max_depth=100, clf__max_features=3, clf__min_samples_leaf=3, clf__min_samples_split=10, clf__n_estimators=100, score=0.888, total=   2.4s\n",
      "[CV] clf__bootstrap=True, clf__max_depth=100, clf__max_features=3, clf__min_samples_leaf=3, clf__min_samples_split=10, clf__n_estimators=300 \n",
      "[CV]  clf__bootstrap=True, clf__max_depth=100, clf__max_features=3, clf__min_samples_leaf=3, clf__min_samples_split=10, clf__n_estimators=300, score=0.874, total=   6.7s\n",
      "[CV] clf__bootstrap=True, clf__max_depth=100, clf__max_features=3, clf__min_samples_leaf=3, clf__min_samples_split=10, clf__n_estimators=300 \n",
      "[CV]  clf__bootstrap=True, clf__max_depth=100, clf__max_features=3, clf__min_samples_leaf=3, clf__min_samples_split=10, clf__n_estimators=300, score=0.879, total=   7.2s\n",
      "[CV] clf__bootstrap=True, clf__max_depth=100, clf__max_features=3, clf__min_samples_leaf=3, clf__min_samples_split=10, clf__n_estimators=300 \n",
      "[CV]  clf__bootstrap=True, clf__max_depth=100, clf__max_features=3, clf__min_samples_leaf=3, clf__min_samples_split=10, clf__n_estimators=300, score=0.891, total=   6.9s\n",
      "[CV] clf__bootstrap=True, clf__max_depth=100, clf__max_features=3, clf__min_samples_leaf=3, clf__min_samples_split=12, clf__n_estimators=50 \n",
      "[CV]  clf__bootstrap=True, clf__max_depth=100, clf__max_features=3, clf__min_samples_leaf=3, clf__min_samples_split=12, clf__n_estimators=50, score=0.867, total=   1.3s\n",
      "[CV] clf__bootstrap=True, clf__max_depth=100, clf__max_features=3, clf__min_samples_leaf=3, clf__min_samples_split=12, clf__n_estimators=50 \n",
      "[CV]  clf__bootstrap=True, clf__max_depth=100, clf__max_features=3, clf__min_samples_leaf=3, clf__min_samples_split=12, clf__n_estimators=50, score=0.877, total=   1.2s\n",
      "[CV] clf__bootstrap=True, clf__max_depth=100, clf__max_features=3, clf__min_samples_leaf=3, clf__min_samples_split=12, clf__n_estimators=50 \n",
      "[CV]  clf__bootstrap=True, clf__max_depth=100, clf__max_features=3, clf__min_samples_leaf=3, clf__min_samples_split=12, clf__n_estimators=50, score=0.891, total=   1.2s\n",
      "[CV] clf__bootstrap=True, clf__max_depth=100, clf__max_features=3, clf__min_samples_leaf=3, clf__min_samples_split=12, clf__n_estimators=100 \n",
      "[CV]  clf__bootstrap=True, clf__max_depth=100, clf__max_features=3, clf__min_samples_leaf=3, clf__min_samples_split=12, clf__n_estimators=100, score=0.867, total=   2.6s\n",
      "[CV] clf__bootstrap=True, clf__max_depth=100, clf__max_features=3, clf__min_samples_leaf=3, clf__min_samples_split=12, clf__n_estimators=100 \n",
      "[CV]  clf__bootstrap=True, clf__max_depth=100, clf__max_features=3, clf__min_samples_leaf=3, clf__min_samples_split=12, clf__n_estimators=100, score=0.877, total=   2.2s\n",
      "[CV] clf__bootstrap=True, clf__max_depth=100, clf__max_features=3, clf__min_samples_leaf=3, clf__min_samples_split=12, clf__n_estimators=100 \n",
      "[CV]  clf__bootstrap=True, clf__max_depth=100, clf__max_features=3, clf__min_samples_leaf=3, clf__min_samples_split=12, clf__n_estimators=100, score=0.886, total=   2.4s\n",
      "[CV] clf__bootstrap=True, clf__max_depth=100, clf__max_features=3, clf__min_samples_leaf=3, clf__min_samples_split=12, clf__n_estimators=300 \n",
      "[CV]  clf__bootstrap=True, clf__max_depth=100, clf__max_features=3, clf__min_samples_leaf=3, clf__min_samples_split=12, clf__n_estimators=300, score=0.874, total=   6.7s\n",
      "[CV] clf__bootstrap=True, clf__max_depth=100, clf__max_features=3, clf__min_samples_leaf=3, clf__min_samples_split=12, clf__n_estimators=300 \n",
      "[CV]  clf__bootstrap=True, clf__max_depth=100, clf__max_features=3, clf__min_samples_leaf=3, clf__min_samples_split=12, clf__n_estimators=300, score=0.879, total=   7.3s\n",
      "[CV] clf__bootstrap=True, clf__max_depth=100, clf__max_features=3, clf__min_samples_leaf=3, clf__min_samples_split=12, clf__n_estimators=300 \n",
      "[CV]  clf__bootstrap=True, clf__max_depth=100, clf__max_features=3, clf__min_samples_leaf=3, clf__min_samples_split=12, clf__n_estimators=300, score=0.890, total=   6.5s\n",
      "[CV] clf__bootstrap=True, clf__max_depth=100, clf__max_features=3, clf__min_samples_leaf=4, clf__min_samples_split=8, clf__n_estimators=50 \n",
      "[CV]  clf__bootstrap=True, clf__max_depth=100, clf__max_features=3, clf__min_samples_leaf=4, clf__min_samples_split=8, clf__n_estimators=50, score=0.868, total=   1.0s\n",
      "[CV] clf__bootstrap=True, clf__max_depth=100, clf__max_features=3, clf__min_samples_leaf=4, clf__min_samples_split=8, clf__n_estimators=50 \n",
      "[CV]  clf__bootstrap=True, clf__max_depth=100, clf__max_features=3, clf__min_samples_leaf=4, clf__min_samples_split=8, clf__n_estimators=50, score=0.872, total=   1.1s\n",
      "[CV] clf__bootstrap=True, clf__max_depth=100, clf__max_features=3, clf__min_samples_leaf=4, clf__min_samples_split=8, clf__n_estimators=50 \n",
      "[CV]  clf__bootstrap=True, clf__max_depth=100, clf__max_features=3, clf__min_samples_leaf=4, clf__min_samples_split=8, clf__n_estimators=50, score=0.886, total=   1.3s\n",
      "[CV] clf__bootstrap=True, clf__max_depth=100, clf__max_features=3, clf__min_samples_leaf=4, clf__min_samples_split=8, clf__n_estimators=100 \n"
     ]
    },
    {
     "name": "stdout",
     "output_type": "stream",
     "text": [
      "[CV]  clf__bootstrap=True, clf__max_depth=100, clf__max_features=3, clf__min_samples_leaf=4, clf__min_samples_split=8, clf__n_estimators=100, score=0.871, total=   2.2s\n",
      "[CV] clf__bootstrap=True, clf__max_depth=100, clf__max_features=3, clf__min_samples_leaf=4, clf__min_samples_split=8, clf__n_estimators=100 \n",
      "[CV]  clf__bootstrap=True, clf__max_depth=100, clf__max_features=3, clf__min_samples_leaf=4, clf__min_samples_split=8, clf__n_estimators=100, score=0.881, total=   2.4s\n",
      "[CV] clf__bootstrap=True, clf__max_depth=100, clf__max_features=3, clf__min_samples_leaf=4, clf__min_samples_split=8, clf__n_estimators=100 \n",
      "[CV]  clf__bootstrap=True, clf__max_depth=100, clf__max_features=3, clf__min_samples_leaf=4, clf__min_samples_split=8, clf__n_estimators=100, score=0.888, total=   2.6s\n",
      "[CV] clf__bootstrap=True, clf__max_depth=100, clf__max_features=3, clf__min_samples_leaf=4, clf__min_samples_split=8, clf__n_estimators=300 \n",
      "[CV]  clf__bootstrap=True, clf__max_depth=100, clf__max_features=3, clf__min_samples_leaf=4, clf__min_samples_split=8, clf__n_estimators=300, score=0.870, total=   6.3s\n",
      "[CV] clf__bootstrap=True, clf__max_depth=100, clf__max_features=3, clf__min_samples_leaf=4, clf__min_samples_split=8, clf__n_estimators=300 \n",
      "[CV]  clf__bootstrap=True, clf__max_depth=100, clf__max_features=3, clf__min_samples_leaf=4, clf__min_samples_split=8, clf__n_estimators=300, score=0.881, total=   7.2s\n",
      "[CV] clf__bootstrap=True, clf__max_depth=100, clf__max_features=3, clf__min_samples_leaf=4, clf__min_samples_split=8, clf__n_estimators=300 \n",
      "[CV]  clf__bootstrap=True, clf__max_depth=100, clf__max_features=3, clf__min_samples_leaf=4, clf__min_samples_split=8, clf__n_estimators=300, score=0.891, total=   6.5s\n",
      "[CV] clf__bootstrap=True, clf__max_depth=100, clf__max_features=3, clf__min_samples_leaf=4, clf__min_samples_split=10, clf__n_estimators=50 \n",
      "[CV]  clf__bootstrap=True, clf__max_depth=100, clf__max_features=3, clf__min_samples_leaf=4, clf__min_samples_split=10, clf__n_estimators=50, score=0.865, total=   1.2s\n",
      "[CV] clf__bootstrap=True, clf__max_depth=100, clf__max_features=3, clf__min_samples_leaf=4, clf__min_samples_split=10, clf__n_estimators=50 \n",
      "[CV]  clf__bootstrap=True, clf__max_depth=100, clf__max_features=3, clf__min_samples_leaf=4, clf__min_samples_split=10, clf__n_estimators=50, score=0.877, total=   1.2s\n",
      "[CV] clf__bootstrap=True, clf__max_depth=100, clf__max_features=3, clf__min_samples_leaf=4, clf__min_samples_split=10, clf__n_estimators=50 \n",
      "[CV]  clf__bootstrap=True, clf__max_depth=100, clf__max_features=3, clf__min_samples_leaf=4, clf__min_samples_split=10, clf__n_estimators=50, score=0.888, total=   1.2s\n",
      "[CV] clf__bootstrap=True, clf__max_depth=100, clf__max_features=3, clf__min_samples_leaf=4, clf__min_samples_split=10, clf__n_estimators=100 \n",
      "[CV]  clf__bootstrap=True, clf__max_depth=100, clf__max_features=3, clf__min_samples_leaf=4, clf__min_samples_split=10, clf__n_estimators=100, score=0.868, total=   2.4s\n",
      "[CV] clf__bootstrap=True, clf__max_depth=100, clf__max_features=3, clf__min_samples_leaf=4, clf__min_samples_split=10, clf__n_estimators=100 \n",
      "[CV]  clf__bootstrap=True, clf__max_depth=100, clf__max_features=3, clf__min_samples_leaf=4, clf__min_samples_split=10, clf__n_estimators=100, score=0.876, total=   2.3s\n",
      "[CV] clf__bootstrap=True, clf__max_depth=100, clf__max_features=3, clf__min_samples_leaf=4, clf__min_samples_split=10, clf__n_estimators=100 \n",
      "[CV]  clf__bootstrap=True, clf__max_depth=100, clf__max_features=3, clf__min_samples_leaf=4, clf__min_samples_split=10, clf__n_estimators=100, score=0.890, total=   2.3s\n",
      "[CV] clf__bootstrap=True, clf__max_depth=100, clf__max_features=3, clf__min_samples_leaf=4, clf__min_samples_split=10, clf__n_estimators=300 \n",
      "[CV]  clf__bootstrap=True, clf__max_depth=100, clf__max_features=3, clf__min_samples_leaf=4, clf__min_samples_split=10, clf__n_estimators=300, score=0.872, total=   6.3s\n",
      "[CV] clf__bootstrap=True, clf__max_depth=100, clf__max_features=3, clf__min_samples_leaf=4, clf__min_samples_split=10, clf__n_estimators=300 \n",
      "[CV]  clf__bootstrap=True, clf__max_depth=100, clf__max_features=3, clf__min_samples_leaf=4, clf__min_samples_split=10, clf__n_estimators=300, score=0.880, total=   7.1s\n",
      "[CV] clf__bootstrap=True, clf__max_depth=100, clf__max_features=3, clf__min_samples_leaf=4, clf__min_samples_split=10, clf__n_estimators=300 \n",
      "[CV]  clf__bootstrap=True, clf__max_depth=100, clf__max_features=3, clf__min_samples_leaf=4, clf__min_samples_split=10, clf__n_estimators=300, score=0.888, total=   6.4s\n",
      "[CV] clf__bootstrap=True, clf__max_depth=100, clf__max_features=3, clf__min_samples_leaf=4, clf__min_samples_split=12, clf__n_estimators=50 \n",
      "[CV]  clf__bootstrap=True, clf__max_depth=100, clf__max_features=3, clf__min_samples_leaf=4, clf__min_samples_split=12, clf__n_estimators=50, score=0.870, total=   1.0s\n",
      "[CV] clf__bootstrap=True, clf__max_depth=100, clf__max_features=3, clf__min_samples_leaf=4, clf__min_samples_split=12, clf__n_estimators=50 \n",
      "[CV]  clf__bootstrap=True, clf__max_depth=100, clf__max_features=3, clf__min_samples_leaf=4, clf__min_samples_split=12, clf__n_estimators=50, score=0.871, total=   1.3s\n",
      "[CV] clf__bootstrap=True, clf__max_depth=100, clf__max_features=3, clf__min_samples_leaf=4, clf__min_samples_split=12, clf__n_estimators=50 \n",
      "[CV]  clf__bootstrap=True, clf__max_depth=100, clf__max_features=3, clf__min_samples_leaf=4, clf__min_samples_split=12, clf__n_estimators=50, score=0.886, total=   1.1s\n",
      "[CV] clf__bootstrap=True, clf__max_depth=100, clf__max_features=3, clf__min_samples_leaf=4, clf__min_samples_split=12, clf__n_estimators=100 \n",
      "[CV]  clf__bootstrap=True, clf__max_depth=100, clf__max_features=3, clf__min_samples_leaf=4, clf__min_samples_split=12, clf__n_estimators=100, score=0.869, total=   2.0s\n",
      "[CV] clf__bootstrap=True, clf__max_depth=100, clf__max_features=3, clf__min_samples_leaf=4, clf__min_samples_split=12, clf__n_estimators=100 \n",
      "[CV]  clf__bootstrap=True, clf__max_depth=100, clf__max_features=3, clf__min_samples_leaf=4, clf__min_samples_split=12, clf__n_estimators=100, score=0.875, total=   2.2s\n",
      "[CV] clf__bootstrap=True, clf__max_depth=100, clf__max_features=3, clf__min_samples_leaf=4, clf__min_samples_split=12, clf__n_estimators=100 \n",
      "[CV]  clf__bootstrap=True, clf__max_depth=100, clf__max_features=3, clf__min_samples_leaf=4, clf__min_samples_split=12, clf__n_estimators=100, score=0.888, total=   2.3s\n",
      "[CV] clf__bootstrap=True, clf__max_depth=100, clf__max_features=3, clf__min_samples_leaf=4, clf__min_samples_split=12, clf__n_estimators=300 \n",
      "[CV]  clf__bootstrap=True, clf__max_depth=100, clf__max_features=3, clf__min_samples_leaf=4, clf__min_samples_split=12, clf__n_estimators=300, score=0.871, total=   6.4s\n",
      "[CV] clf__bootstrap=True, clf__max_depth=100, clf__max_features=3, clf__min_samples_leaf=4, clf__min_samples_split=12, clf__n_estimators=300 \n",
      "[CV]  clf__bootstrap=True, clf__max_depth=100, clf__max_features=3, clf__min_samples_leaf=4, clf__min_samples_split=12, clf__n_estimators=300, score=0.879, total=   6.8s\n",
      "[CV] clf__bootstrap=True, clf__max_depth=100, clf__max_features=3, clf__min_samples_leaf=4, clf__min_samples_split=12, clf__n_estimators=300 \n",
      "[CV]  clf__bootstrap=True, clf__max_depth=100, clf__max_features=3, clf__min_samples_leaf=4, clf__min_samples_split=12, clf__n_estimators=300, score=0.886, total=   6.9s\n",
      "[CV] clf__bootstrap=True, clf__max_depth=100, clf__max_features=3, clf__min_samples_leaf=5, clf__min_samples_split=8, clf__n_estimators=50 \n",
      "[CV]  clf__bootstrap=True, clf__max_depth=100, clf__max_features=3, clf__min_samples_leaf=5, clf__min_samples_split=8, clf__n_estimators=50, score=0.866, total=   0.7s\n",
      "[CV] clf__bootstrap=True, clf__max_depth=100, clf__max_features=3, clf__min_samples_leaf=5, clf__min_samples_split=8, clf__n_estimators=50 \n",
      "[CV]  clf__bootstrap=True, clf__max_depth=100, clf__max_features=3, clf__min_samples_leaf=5, clf__min_samples_split=8, clf__n_estimators=50, score=0.879, total=   1.0s\n",
      "[CV] clf__bootstrap=True, clf__max_depth=100, clf__max_features=3, clf__min_samples_leaf=5, clf__min_samples_split=8, clf__n_estimators=50 \n",
      "[CV]  clf__bootstrap=True, clf__max_depth=100, clf__max_features=3, clf__min_samples_leaf=5, clf__min_samples_split=8, clf__n_estimators=50, score=0.881, total=   1.3s\n",
      "[CV] clf__bootstrap=True, clf__max_depth=100, clf__max_features=3, clf__min_samples_leaf=5, clf__min_samples_split=8, clf__n_estimators=100 \n"
     ]
    },
    {
     "name": "stdout",
     "output_type": "stream",
     "text": [
      "[CV]  clf__bootstrap=True, clf__max_depth=100, clf__max_features=3, clf__min_samples_leaf=5, clf__min_samples_split=8, clf__n_estimators=100, score=0.865, total=   2.4s\n",
      "[CV] clf__bootstrap=True, clf__max_depth=100, clf__max_features=3, clf__min_samples_leaf=5, clf__min_samples_split=8, clf__n_estimators=100 \n",
      "[CV]  clf__bootstrap=True, clf__max_depth=100, clf__max_features=3, clf__min_samples_leaf=5, clf__min_samples_split=8, clf__n_estimators=100, score=0.879, total=   2.3s\n",
      "[CV] clf__bootstrap=True, clf__max_depth=100, clf__max_features=3, clf__min_samples_leaf=5, clf__min_samples_split=8, clf__n_estimators=100 \n",
      "[CV]  clf__bootstrap=True, clf__max_depth=100, clf__max_features=3, clf__min_samples_leaf=5, clf__min_samples_split=8, clf__n_estimators=100, score=0.886, total=   2.4s\n",
      "[CV] clf__bootstrap=True, clf__max_depth=100, clf__max_features=3, clf__min_samples_leaf=5, clf__min_samples_split=8, clf__n_estimators=300 \n",
      "[CV]  clf__bootstrap=True, clf__max_depth=100, clf__max_features=3, clf__min_samples_leaf=5, clf__min_samples_split=8, clf__n_estimators=300, score=0.867, total=   6.4s\n",
      "[CV] clf__bootstrap=True, clf__max_depth=100, clf__max_features=3, clf__min_samples_leaf=5, clf__min_samples_split=8, clf__n_estimators=300 \n",
      "[CV]  clf__bootstrap=True, clf__max_depth=100, clf__max_features=3, clf__min_samples_leaf=5, clf__min_samples_split=8, clf__n_estimators=300, score=0.877, total=   7.1s\n",
      "[CV] clf__bootstrap=True, clf__max_depth=100, clf__max_features=3, clf__min_samples_leaf=5, clf__min_samples_split=8, clf__n_estimators=300 \n",
      "[CV]  clf__bootstrap=True, clf__max_depth=100, clf__max_features=3, clf__min_samples_leaf=5, clf__min_samples_split=8, clf__n_estimators=300, score=0.886, total=   6.3s\n",
      "[CV] clf__bootstrap=True, clf__max_depth=100, clf__max_features=3, clf__min_samples_leaf=5, clf__min_samples_split=10, clf__n_estimators=50 \n",
      "[CV]  clf__bootstrap=True, clf__max_depth=100, clf__max_features=3, clf__min_samples_leaf=5, clf__min_samples_split=10, clf__n_estimators=50, score=0.864, total=   1.2s\n",
      "[CV] clf__bootstrap=True, clf__max_depth=100, clf__max_features=3, clf__min_samples_leaf=5, clf__min_samples_split=10, clf__n_estimators=50 \n",
      "[CV]  clf__bootstrap=True, clf__max_depth=100, clf__max_features=3, clf__min_samples_leaf=5, clf__min_samples_split=10, clf__n_estimators=50, score=0.874, total=   1.0s\n",
      "[CV] clf__bootstrap=True, clf__max_depth=100, clf__max_features=3, clf__min_samples_leaf=5, clf__min_samples_split=10, clf__n_estimators=50 \n",
      "[CV]  clf__bootstrap=True, clf__max_depth=100, clf__max_features=3, clf__min_samples_leaf=5, clf__min_samples_split=10, clf__n_estimators=50, score=0.883, total=   0.8s\n",
      "[CV] clf__bootstrap=True, clf__max_depth=100, clf__max_features=3, clf__min_samples_leaf=5, clf__min_samples_split=10, clf__n_estimators=100 \n",
      "[CV]  clf__bootstrap=True, clf__max_depth=100, clf__max_features=3, clf__min_samples_leaf=5, clf__min_samples_split=10, clf__n_estimators=100, score=0.868, total=   2.0s\n",
      "[CV] clf__bootstrap=True, clf__max_depth=100, clf__max_features=3, clf__min_samples_leaf=5, clf__min_samples_split=10, clf__n_estimators=100 \n",
      "[CV]  clf__bootstrap=True, clf__max_depth=100, clf__max_features=3, clf__min_samples_leaf=5, clf__min_samples_split=10, clf__n_estimators=100, score=0.879, total=   2.4s\n",
      "[CV] clf__bootstrap=True, clf__max_depth=100, clf__max_features=3, clf__min_samples_leaf=5, clf__min_samples_split=10, clf__n_estimators=100 \n",
      "[CV]  clf__bootstrap=True, clf__max_depth=100, clf__max_features=3, clf__min_samples_leaf=5, clf__min_samples_split=10, clf__n_estimators=100, score=0.888, total=   2.1s\n",
      "[CV] clf__bootstrap=True, clf__max_depth=100, clf__max_features=3, clf__min_samples_leaf=5, clf__min_samples_split=10, clf__n_estimators=300 \n",
      "[CV]  clf__bootstrap=True, clf__max_depth=100, clf__max_features=3, clf__min_samples_leaf=5, clf__min_samples_split=10, clf__n_estimators=300, score=0.870, total=   6.7s\n",
      "[CV] clf__bootstrap=True, clf__max_depth=100, clf__max_features=3, clf__min_samples_leaf=5, clf__min_samples_split=10, clf__n_estimators=300 \n",
      "[CV]  clf__bootstrap=True, clf__max_depth=100, clf__max_features=3, clf__min_samples_leaf=5, clf__min_samples_split=10, clf__n_estimators=300, score=0.878, total=   6.1s\n",
      "[CV] clf__bootstrap=True, clf__max_depth=100, clf__max_features=3, clf__min_samples_leaf=5, clf__min_samples_split=10, clf__n_estimators=300 \n",
      "[CV]  clf__bootstrap=True, clf__max_depth=100, clf__max_features=3, clf__min_samples_leaf=5, clf__min_samples_split=10, clf__n_estimators=300, score=0.887, total=   6.8s\n",
      "[CV] clf__bootstrap=True, clf__max_depth=100, clf__max_features=3, clf__min_samples_leaf=5, clf__min_samples_split=12, clf__n_estimators=50 \n",
      "[CV]  clf__bootstrap=True, clf__max_depth=100, clf__max_features=3, clf__min_samples_leaf=5, clf__min_samples_split=12, clf__n_estimators=50, score=0.871, total=   1.0s\n",
      "[CV] clf__bootstrap=True, clf__max_depth=100, clf__max_features=3, clf__min_samples_leaf=5, clf__min_samples_split=12, clf__n_estimators=50 \n",
      "[CV]  clf__bootstrap=True, clf__max_depth=100, clf__max_features=3, clf__min_samples_leaf=5, clf__min_samples_split=12, clf__n_estimators=50, score=0.876, total=   0.8s\n",
      "[CV] clf__bootstrap=True, clf__max_depth=100, clf__max_features=3, clf__min_samples_leaf=5, clf__min_samples_split=12, clf__n_estimators=50 \n",
      "[CV]  clf__bootstrap=True, clf__max_depth=100, clf__max_features=3, clf__min_samples_leaf=5, clf__min_samples_split=12, clf__n_estimators=50, score=0.882, total=   1.0s\n",
      "[CV] clf__bootstrap=True, clf__max_depth=100, clf__max_features=3, clf__min_samples_leaf=5, clf__min_samples_split=12, clf__n_estimators=100 \n",
      "[CV]  clf__bootstrap=True, clf__max_depth=100, clf__max_features=3, clf__min_samples_leaf=5, clf__min_samples_split=12, clf__n_estimators=100, score=0.869, total=   2.2s\n",
      "[CV] clf__bootstrap=True, clf__max_depth=100, clf__max_features=3, clf__min_samples_leaf=5, clf__min_samples_split=12, clf__n_estimators=100 \n",
      "[CV]  clf__bootstrap=True, clf__max_depth=100, clf__max_features=3, clf__min_samples_leaf=5, clf__min_samples_split=12, clf__n_estimators=100, score=0.876, total=   1.8s\n",
      "[CV] clf__bootstrap=True, clf__max_depth=100, clf__max_features=3, clf__min_samples_leaf=5, clf__min_samples_split=12, clf__n_estimators=100 \n",
      "[CV]  clf__bootstrap=True, clf__max_depth=100, clf__max_features=3, clf__min_samples_leaf=5, clf__min_samples_split=12, clf__n_estimators=100, score=0.886, total=   2.2s\n",
      "[CV] clf__bootstrap=True, clf__max_depth=100, clf__max_features=3, clf__min_samples_leaf=5, clf__min_samples_split=12, clf__n_estimators=300 \n",
      "[CV]  clf__bootstrap=True, clf__max_depth=100, clf__max_features=3, clf__min_samples_leaf=5, clf__min_samples_split=12, clf__n_estimators=300, score=0.868, total=   6.6s\n",
      "[CV] clf__bootstrap=True, clf__max_depth=100, clf__max_features=3, clf__min_samples_leaf=5, clf__min_samples_split=12, clf__n_estimators=300 \n",
      "[CV]  clf__bootstrap=True, clf__max_depth=100, clf__max_features=3, clf__min_samples_leaf=5, clf__min_samples_split=12, clf__n_estimators=300, score=0.875, total=   6.3s\n",
      "[CV] clf__bootstrap=True, clf__max_depth=100, clf__max_features=3, clf__min_samples_leaf=5, clf__min_samples_split=12, clf__n_estimators=300 \n",
      "[CV]  clf__bootstrap=True, clf__max_depth=100, clf__max_features=3, clf__min_samples_leaf=5, clf__min_samples_split=12, clf__n_estimators=300, score=0.883, total=   6.5s\n",
      "[CV] clf__bootstrap=True, clf__max_depth=110, clf__max_features=2, clf__min_samples_leaf=3, clf__min_samples_split=8, clf__n_estimators=50 \n",
      "[CV]  clf__bootstrap=True, clf__max_depth=110, clf__max_features=2, clf__min_samples_leaf=3, clf__min_samples_split=8, clf__n_estimators=50, score=0.873, total=   0.9s\n",
      "[CV] clf__bootstrap=True, clf__max_depth=110, clf__max_features=2, clf__min_samples_leaf=3, clf__min_samples_split=8, clf__n_estimators=50 \n",
      "[CV]  clf__bootstrap=True, clf__max_depth=110, clf__max_features=2, clf__min_samples_leaf=3, clf__min_samples_split=8, clf__n_estimators=50, score=0.880, total=   1.0s\n",
      "[CV] clf__bootstrap=True, clf__max_depth=110, clf__max_features=2, clf__min_samples_leaf=3, clf__min_samples_split=8, clf__n_estimators=50 \n",
      "[CV]  clf__bootstrap=True, clf__max_depth=110, clf__max_features=2, clf__min_samples_leaf=3, clf__min_samples_split=8, clf__n_estimators=50, score=0.889, total=   0.9s\n",
      "[CV] clf__bootstrap=True, clf__max_depth=110, clf__max_features=2, clf__min_samples_leaf=3, clf__min_samples_split=8, clf__n_estimators=100 \n"
     ]
    },
    {
     "name": "stdout",
     "output_type": "stream",
     "text": [
      "[CV]  clf__bootstrap=True, clf__max_depth=110, clf__max_features=2, clf__min_samples_leaf=3, clf__min_samples_split=8, clf__n_estimators=100, score=0.873, total=   2.1s\n",
      "[CV] clf__bootstrap=True, clf__max_depth=110, clf__max_features=2, clf__min_samples_leaf=3, clf__min_samples_split=8, clf__n_estimators=100 \n",
      "[CV]  clf__bootstrap=True, clf__max_depth=110, clf__max_features=2, clf__min_samples_leaf=3, clf__min_samples_split=8, clf__n_estimators=100, score=0.885, total=   1.8s\n",
      "[CV] clf__bootstrap=True, clf__max_depth=110, clf__max_features=2, clf__min_samples_leaf=3, clf__min_samples_split=8, clf__n_estimators=100 \n",
      "[CV]  clf__bootstrap=True, clf__max_depth=110, clf__max_features=2, clf__min_samples_leaf=3, clf__min_samples_split=8, clf__n_estimators=100, score=0.889, total=   2.1s\n",
      "[CV] clf__bootstrap=True, clf__max_depth=110, clf__max_features=2, clf__min_samples_leaf=3, clf__min_samples_split=8, clf__n_estimators=300 \n",
      "[CV]  clf__bootstrap=True, clf__max_depth=110, clf__max_features=2, clf__min_samples_leaf=3, clf__min_samples_split=8, clf__n_estimators=300, score=0.871, total=   4.7s\n",
      "[CV] clf__bootstrap=True, clf__max_depth=110, clf__max_features=2, clf__min_samples_leaf=3, clf__min_samples_split=8, clf__n_estimators=300 \n",
      "[CV]  clf__bootstrap=True, clf__max_depth=110, clf__max_features=2, clf__min_samples_leaf=3, clf__min_samples_split=8, clf__n_estimators=300, score=0.878, total=   5.2s\n",
      "[CV] clf__bootstrap=True, clf__max_depth=110, clf__max_features=2, clf__min_samples_leaf=3, clf__min_samples_split=8, clf__n_estimators=300 \n",
      "[CV]  clf__bootstrap=True, clf__max_depth=110, clf__max_features=2, clf__min_samples_leaf=3, clf__min_samples_split=8, clf__n_estimators=300, score=0.890, total=   5.9s\n",
      "[CV] clf__bootstrap=True, clf__max_depth=110, clf__max_features=2, clf__min_samples_leaf=3, clf__min_samples_split=10, clf__n_estimators=50 \n",
      "[CV]  clf__bootstrap=True, clf__max_depth=110, clf__max_features=2, clf__min_samples_leaf=3, clf__min_samples_split=10, clf__n_estimators=50, score=0.865, total=   0.6s\n",
      "[CV] clf__bootstrap=True, clf__max_depth=110, clf__max_features=2, clf__min_samples_leaf=3, clf__min_samples_split=10, clf__n_estimators=50 \n",
      "[CV]  clf__bootstrap=True, clf__max_depth=110, clf__max_features=2, clf__min_samples_leaf=3, clf__min_samples_split=10, clf__n_estimators=50, score=0.880, total=   0.7s\n",
      "[CV] clf__bootstrap=True, clf__max_depth=110, clf__max_features=2, clf__min_samples_leaf=3, clf__min_samples_split=10, clf__n_estimators=50 \n",
      "[CV]  clf__bootstrap=True, clf__max_depth=110, clf__max_features=2, clf__min_samples_leaf=3, clf__min_samples_split=10, clf__n_estimators=50, score=0.888, total=   1.0s\n",
      "[CV] clf__bootstrap=True, clf__max_depth=110, clf__max_features=2, clf__min_samples_leaf=3, clf__min_samples_split=10, clf__n_estimators=100 \n",
      "[CV]  clf__bootstrap=True, clf__max_depth=110, clf__max_features=2, clf__min_samples_leaf=3, clf__min_samples_split=10, clf__n_estimators=100, score=0.870, total=   1.8s\n",
      "[CV] clf__bootstrap=True, clf__max_depth=110, clf__max_features=2, clf__min_samples_leaf=3, clf__min_samples_split=10, clf__n_estimators=100 \n",
      "[CV]  clf__bootstrap=True, clf__max_depth=110, clf__max_features=2, clf__min_samples_leaf=3, clf__min_samples_split=10, clf__n_estimators=100, score=0.879, total=   1.7s\n",
      "[CV] clf__bootstrap=True, clf__max_depth=110, clf__max_features=2, clf__min_samples_leaf=3, clf__min_samples_split=10, clf__n_estimators=100 \n",
      "[CV]  clf__bootstrap=True, clf__max_depth=110, clf__max_features=2, clf__min_samples_leaf=3, clf__min_samples_split=10, clf__n_estimators=100, score=0.892, total=   1.8s\n",
      "[CV] clf__bootstrap=True, clf__max_depth=110, clf__max_features=2, clf__min_samples_leaf=3, clf__min_samples_split=10, clf__n_estimators=300 \n",
      "[CV]  clf__bootstrap=True, clf__max_depth=110, clf__max_features=2, clf__min_samples_leaf=3, clf__min_samples_split=10, clf__n_estimators=300, score=0.870, total=   5.9s\n",
      "[CV] clf__bootstrap=True, clf__max_depth=110, clf__max_features=2, clf__min_samples_leaf=3, clf__min_samples_split=10, clf__n_estimators=300 \n",
      "[CV]  clf__bootstrap=True, clf__max_depth=110, clf__max_features=2, clf__min_samples_leaf=3, clf__min_samples_split=10, clf__n_estimators=300, score=0.878, total=   4.9s\n",
      "[CV] clf__bootstrap=True, clf__max_depth=110, clf__max_features=2, clf__min_samples_leaf=3, clf__min_samples_split=10, clf__n_estimators=300 \n",
      "[CV]  clf__bootstrap=True, clf__max_depth=110, clf__max_features=2, clf__min_samples_leaf=3, clf__min_samples_split=10, clf__n_estimators=300, score=0.888, total=   5.7s\n",
      "[CV] clf__bootstrap=True, clf__max_depth=110, clf__max_features=2, clf__min_samples_leaf=3, clf__min_samples_split=12, clf__n_estimators=50 \n",
      "[CV]  clf__bootstrap=True, clf__max_depth=110, clf__max_features=2, clf__min_samples_leaf=3, clf__min_samples_split=12, clf__n_estimators=50, score=0.859, total=   0.9s\n",
      "[CV] clf__bootstrap=True, clf__max_depth=110, clf__max_features=2, clf__min_samples_leaf=3, clf__min_samples_split=12, clf__n_estimators=50 \n",
      "[CV]  clf__bootstrap=True, clf__max_depth=110, clf__max_features=2, clf__min_samples_leaf=3, clf__min_samples_split=12, clf__n_estimators=50, score=0.872, total=   0.9s\n",
      "[CV] clf__bootstrap=True, clf__max_depth=110, clf__max_features=2, clf__min_samples_leaf=3, clf__min_samples_split=12, clf__n_estimators=50 \n",
      "[CV]  clf__bootstrap=True, clf__max_depth=110, clf__max_features=2, clf__min_samples_leaf=3, clf__min_samples_split=12, clf__n_estimators=50, score=0.881, total=   0.8s\n",
      "[CV] clf__bootstrap=True, clf__max_depth=110, clf__max_features=2, clf__min_samples_leaf=3, clf__min_samples_split=12, clf__n_estimators=100 \n",
      "[CV]  clf__bootstrap=True, clf__max_depth=110, clf__max_features=2, clf__min_samples_leaf=3, clf__min_samples_split=12, clf__n_estimators=100, score=0.868, total=   2.1s\n",
      "[CV] clf__bootstrap=True, clf__max_depth=110, clf__max_features=2, clf__min_samples_leaf=3, clf__min_samples_split=12, clf__n_estimators=100 \n",
      "[CV]  clf__bootstrap=True, clf__max_depth=110, clf__max_features=2, clf__min_samples_leaf=3, clf__min_samples_split=12, clf__n_estimators=100, score=0.870, total=   2.2s\n",
      "[CV] clf__bootstrap=True, clf__max_depth=110, clf__max_features=2, clf__min_samples_leaf=3, clf__min_samples_split=12, clf__n_estimators=100 \n",
      "[CV]  clf__bootstrap=True, clf__max_depth=110, clf__max_features=2, clf__min_samples_leaf=3, clf__min_samples_split=12, clf__n_estimators=100, score=0.885, total=   1.6s\n",
      "[CV] clf__bootstrap=True, clf__max_depth=110, clf__max_features=2, clf__min_samples_leaf=3, clf__min_samples_split=12, clf__n_estimators=300 \n",
      "[CV]  clf__bootstrap=True, clf__max_depth=110, clf__max_features=2, clf__min_samples_leaf=3, clf__min_samples_split=12, clf__n_estimators=300, score=0.866, total=   5.5s\n",
      "[CV] clf__bootstrap=True, clf__max_depth=110, clf__max_features=2, clf__min_samples_leaf=3, clf__min_samples_split=12, clf__n_estimators=300 \n",
      "[CV]  clf__bootstrap=True, clf__max_depth=110, clf__max_features=2, clf__min_samples_leaf=3, clf__min_samples_split=12, clf__n_estimators=300, score=0.880, total=   5.7s\n",
      "[CV] clf__bootstrap=True, clf__max_depth=110, clf__max_features=2, clf__min_samples_leaf=3, clf__min_samples_split=12, clf__n_estimators=300 \n",
      "[CV]  clf__bootstrap=True, clf__max_depth=110, clf__max_features=2, clf__min_samples_leaf=3, clf__min_samples_split=12, clf__n_estimators=300, score=0.883, total=   4.9s\n",
      "[CV] clf__bootstrap=True, clf__max_depth=110, clf__max_features=2, clf__min_samples_leaf=4, clf__min_samples_split=8, clf__n_estimators=50 \n",
      "[CV]  clf__bootstrap=True, clf__max_depth=110, clf__max_features=2, clf__min_samples_leaf=4, clf__min_samples_split=8, clf__n_estimators=50, score=0.867, total=   0.9s\n",
      "[CV] clf__bootstrap=True, clf__max_depth=110, clf__max_features=2, clf__min_samples_leaf=4, clf__min_samples_split=8, clf__n_estimators=50 \n",
      "[CV]  clf__bootstrap=True, clf__max_depth=110, clf__max_features=2, clf__min_samples_leaf=4, clf__min_samples_split=8, clf__n_estimators=50, score=0.877, total=   1.0s\n",
      "[CV] clf__bootstrap=True, clf__max_depth=110, clf__max_features=2, clf__min_samples_leaf=4, clf__min_samples_split=8, clf__n_estimators=50 \n",
      "[CV]  clf__bootstrap=True, clf__max_depth=110, clf__max_features=2, clf__min_samples_leaf=4, clf__min_samples_split=8, clf__n_estimators=50, score=0.888, total=   1.0s\n",
      "[CV] clf__bootstrap=True, clf__max_depth=110, clf__max_features=2, clf__min_samples_leaf=4, clf__min_samples_split=8, clf__n_estimators=100 \n"
     ]
    },
    {
     "name": "stdout",
     "output_type": "stream",
     "text": [
      "[CV]  clf__bootstrap=True, clf__max_depth=110, clf__max_features=2, clf__min_samples_leaf=4, clf__min_samples_split=8, clf__n_estimators=100, score=0.869, total=   1.9s\n",
      "[CV] clf__bootstrap=True, clf__max_depth=110, clf__max_features=2, clf__min_samples_leaf=4, clf__min_samples_split=8, clf__n_estimators=100 \n",
      "[CV]  clf__bootstrap=True, clf__max_depth=110, clf__max_features=2, clf__min_samples_leaf=4, clf__min_samples_split=8, clf__n_estimators=100, score=0.871, total=   1.8s\n",
      "[CV] clf__bootstrap=True, clf__max_depth=110, clf__max_features=2, clf__min_samples_leaf=4, clf__min_samples_split=8, clf__n_estimators=100 \n",
      "[CV]  clf__bootstrap=True, clf__max_depth=110, clf__max_features=2, clf__min_samples_leaf=4, clf__min_samples_split=8, clf__n_estimators=100, score=0.890, total=   2.0s\n",
      "[CV] clf__bootstrap=True, clf__max_depth=110, clf__max_features=2, clf__min_samples_leaf=4, clf__min_samples_split=8, clf__n_estimators=300 \n",
      "[CV]  clf__bootstrap=True, clf__max_depth=110, clf__max_features=2, clf__min_samples_leaf=4, clf__min_samples_split=8, clf__n_estimators=300, score=0.866, total=   5.8s\n",
      "[CV] clf__bootstrap=True, clf__max_depth=110, clf__max_features=2, clf__min_samples_leaf=4, clf__min_samples_split=8, clf__n_estimators=300 \n",
      "[CV]  clf__bootstrap=True, clf__max_depth=110, clf__max_features=2, clf__min_samples_leaf=4, clf__min_samples_split=8, clf__n_estimators=300, score=0.878, total=   4.8s\n",
      "[CV] clf__bootstrap=True, clf__max_depth=110, clf__max_features=2, clf__min_samples_leaf=4, clf__min_samples_split=8, clf__n_estimators=300 \n",
      "[CV]  clf__bootstrap=True, clf__max_depth=110, clf__max_features=2, clf__min_samples_leaf=4, clf__min_samples_split=8, clf__n_estimators=300, score=0.888, total=   6.0s\n",
      "[CV] clf__bootstrap=True, clf__max_depth=110, clf__max_features=2, clf__min_samples_leaf=4, clf__min_samples_split=10, clf__n_estimators=50 \n",
      "[CV]  clf__bootstrap=True, clf__max_depth=110, clf__max_features=2, clf__min_samples_leaf=4, clf__min_samples_split=10, clf__n_estimators=50, score=0.864, total=   1.0s\n",
      "[CV] clf__bootstrap=True, clf__max_depth=110, clf__max_features=2, clf__min_samples_leaf=4, clf__min_samples_split=10, clf__n_estimators=50 \n",
      "[CV]  clf__bootstrap=True, clf__max_depth=110, clf__max_features=2, clf__min_samples_leaf=4, clf__min_samples_split=10, clf__n_estimators=50, score=0.870, total=   1.0s\n",
      "[CV] clf__bootstrap=True, clf__max_depth=110, clf__max_features=2, clf__min_samples_leaf=4, clf__min_samples_split=10, clf__n_estimators=50 \n",
      "[CV]  clf__bootstrap=True, clf__max_depth=110, clf__max_features=2, clf__min_samples_leaf=4, clf__min_samples_split=10, clf__n_estimators=50, score=0.884, total=   1.0s\n",
      "[CV] clf__bootstrap=True, clf__max_depth=110, clf__max_features=2, clf__min_samples_leaf=4, clf__min_samples_split=10, clf__n_estimators=100 \n",
      "[CV]  clf__bootstrap=True, clf__max_depth=110, clf__max_features=2, clf__min_samples_leaf=4, clf__min_samples_split=10, clf__n_estimators=100, score=0.864, total=   1.8s\n",
      "[CV] clf__bootstrap=True, clf__max_depth=110, clf__max_features=2, clf__min_samples_leaf=4, clf__min_samples_split=10, clf__n_estimators=100 \n",
      "[CV]  clf__bootstrap=True, clf__max_depth=110, clf__max_features=2, clf__min_samples_leaf=4, clf__min_samples_split=10, clf__n_estimators=100, score=0.873, total=   1.5s\n",
      "[CV] clf__bootstrap=True, clf__max_depth=110, clf__max_features=2, clf__min_samples_leaf=4, clf__min_samples_split=10, clf__n_estimators=100 \n",
      "[CV]  clf__bootstrap=True, clf__max_depth=110, clf__max_features=2, clf__min_samples_leaf=4, clf__min_samples_split=10, clf__n_estimators=100, score=0.886, total=   1.7s\n",
      "[CV] clf__bootstrap=True, clf__max_depth=110, clf__max_features=2, clf__min_samples_leaf=4, clf__min_samples_split=10, clf__n_estimators=300 \n",
      "[CV]  clf__bootstrap=True, clf__max_depth=110, clf__max_features=2, clf__min_samples_leaf=4, clf__min_samples_split=10, clf__n_estimators=300, score=0.868, total=   5.4s\n",
      "[CV] clf__bootstrap=True, clf__max_depth=110, clf__max_features=2, clf__min_samples_leaf=4, clf__min_samples_split=10, clf__n_estimators=300 \n",
      "[CV]  clf__bootstrap=True, clf__max_depth=110, clf__max_features=2, clf__min_samples_leaf=4, clf__min_samples_split=10, clf__n_estimators=300, score=0.875, total=   5.9s\n",
      "[CV] clf__bootstrap=True, clf__max_depth=110, clf__max_features=2, clf__min_samples_leaf=4, clf__min_samples_split=10, clf__n_estimators=300 \n",
      "[CV]  clf__bootstrap=True, clf__max_depth=110, clf__max_features=2, clf__min_samples_leaf=4, clf__min_samples_split=10, clf__n_estimators=300, score=0.886, total=   5.0s\n",
      "[CV] clf__bootstrap=True, clf__max_depth=110, clf__max_features=2, clf__min_samples_leaf=4, clf__min_samples_split=12, clf__n_estimators=50 \n",
      "[CV]  clf__bootstrap=True, clf__max_depth=110, clf__max_features=2, clf__min_samples_leaf=4, clf__min_samples_split=12, clf__n_estimators=50, score=0.861, total=   0.9s\n",
      "[CV] clf__bootstrap=True, clf__max_depth=110, clf__max_features=2, clf__min_samples_leaf=4, clf__min_samples_split=12, clf__n_estimators=50 \n",
      "[CV]  clf__bootstrap=True, clf__max_depth=110, clf__max_features=2, clf__min_samples_leaf=4, clf__min_samples_split=12, clf__n_estimators=50, score=0.869, total=   1.0s\n",
      "[CV] clf__bootstrap=True, clf__max_depth=110, clf__max_features=2, clf__min_samples_leaf=4, clf__min_samples_split=12, clf__n_estimators=50 \n",
      "[CV]  clf__bootstrap=True, clf__max_depth=110, clf__max_features=2, clf__min_samples_leaf=4, clf__min_samples_split=12, clf__n_estimators=50, score=0.883, total=   0.9s\n",
      "[CV] clf__bootstrap=True, clf__max_depth=110, clf__max_features=2, clf__min_samples_leaf=4, clf__min_samples_split=12, clf__n_estimators=100 \n",
      "[CV]  clf__bootstrap=True, clf__max_depth=110, clf__max_features=2, clf__min_samples_leaf=4, clf__min_samples_split=12, clf__n_estimators=100, score=0.867, total=   1.9s\n",
      "[CV] clf__bootstrap=True, clf__max_depth=110, clf__max_features=2, clf__min_samples_leaf=4, clf__min_samples_split=12, clf__n_estimators=100 \n",
      "[CV]  clf__bootstrap=True, clf__max_depth=110, clf__max_features=2, clf__min_samples_leaf=4, clf__min_samples_split=12, clf__n_estimators=100, score=0.879, total=   1.9s\n",
      "[CV] clf__bootstrap=True, clf__max_depth=110, clf__max_features=2, clf__min_samples_leaf=4, clf__min_samples_split=12, clf__n_estimators=100 \n",
      "[CV]  clf__bootstrap=True, clf__max_depth=110, clf__max_features=2, clf__min_samples_leaf=4, clf__min_samples_split=12, clf__n_estimators=100, score=0.881, total=   1.9s\n",
      "[CV] clf__bootstrap=True, clf__max_depth=110, clf__max_features=2, clf__min_samples_leaf=4, clf__min_samples_split=12, clf__n_estimators=300 \n",
      "[CV]  clf__bootstrap=True, clf__max_depth=110, clf__max_features=2, clf__min_samples_leaf=4, clf__min_samples_split=12, clf__n_estimators=300, score=0.870, total=   5.2s\n",
      "[CV] clf__bootstrap=True, clf__max_depth=110, clf__max_features=2, clf__min_samples_leaf=4, clf__min_samples_split=12, clf__n_estimators=300 \n",
      "[CV]  clf__bootstrap=True, clf__max_depth=110, clf__max_features=2, clf__min_samples_leaf=4, clf__min_samples_split=12, clf__n_estimators=300, score=0.878, total=   5.2s\n",
      "[CV] clf__bootstrap=True, clf__max_depth=110, clf__max_features=2, clf__min_samples_leaf=4, clf__min_samples_split=12, clf__n_estimators=300 \n",
      "[CV]  clf__bootstrap=True, clf__max_depth=110, clf__max_features=2, clf__min_samples_leaf=4, clf__min_samples_split=12, clf__n_estimators=300, score=0.884, total=   5.7s\n",
      "[CV] clf__bootstrap=True, clf__max_depth=110, clf__max_features=2, clf__min_samples_leaf=5, clf__min_samples_split=8, clf__n_estimators=50 \n",
      "[CV]  clf__bootstrap=True, clf__max_depth=110, clf__max_features=2, clf__min_samples_leaf=5, clf__min_samples_split=8, clf__n_estimators=50, score=0.862, total=   1.0s\n",
      "[CV] clf__bootstrap=True, clf__max_depth=110, clf__max_features=2, clf__min_samples_leaf=5, clf__min_samples_split=8, clf__n_estimators=50 \n",
      "[CV]  clf__bootstrap=True, clf__max_depth=110, clf__max_features=2, clf__min_samples_leaf=5, clf__min_samples_split=8, clf__n_estimators=50, score=0.873, total=   1.0s\n",
      "[CV] clf__bootstrap=True, clf__max_depth=110, clf__max_features=2, clf__min_samples_leaf=5, clf__min_samples_split=8, clf__n_estimators=50 \n",
      "[CV]  clf__bootstrap=True, clf__max_depth=110, clf__max_features=2, clf__min_samples_leaf=5, clf__min_samples_split=8, clf__n_estimators=50, score=0.882, total=   1.1s\n",
      "[CV] clf__bootstrap=True, clf__max_depth=110, clf__max_features=2, clf__min_samples_leaf=5, clf__min_samples_split=8, clf__n_estimators=100 \n"
     ]
    },
    {
     "name": "stdout",
     "output_type": "stream",
     "text": [
      "[CV]  clf__bootstrap=True, clf__max_depth=110, clf__max_features=2, clf__min_samples_leaf=5, clf__min_samples_split=8, clf__n_estimators=100, score=0.866, total=   1.8s\n",
      "[CV] clf__bootstrap=True, clf__max_depth=110, clf__max_features=2, clf__min_samples_leaf=5, clf__min_samples_split=8, clf__n_estimators=100 \n",
      "[CV]  clf__bootstrap=True, clf__max_depth=110, clf__max_features=2, clf__min_samples_leaf=5, clf__min_samples_split=8, clf__n_estimators=100, score=0.877, total=   1.3s\n",
      "[CV] clf__bootstrap=True, clf__max_depth=110, clf__max_features=2, clf__min_samples_leaf=5, clf__min_samples_split=8, clf__n_estimators=100 \n",
      "[CV]  clf__bootstrap=True, clf__max_depth=110, clf__max_features=2, clf__min_samples_leaf=5, clf__min_samples_split=8, clf__n_estimators=100, score=0.882, total=   2.1s\n",
      "[CV] clf__bootstrap=True, clf__max_depth=110, clf__max_features=2, clf__min_samples_leaf=5, clf__min_samples_split=8, clf__n_estimators=300 \n",
      "[CV]  clf__bootstrap=True, clf__max_depth=110, clf__max_features=2, clf__min_samples_leaf=5, clf__min_samples_split=8, clf__n_estimators=300, score=0.863, total=   5.5s\n",
      "[CV] clf__bootstrap=True, clf__max_depth=110, clf__max_features=2, clf__min_samples_leaf=5, clf__min_samples_split=8, clf__n_estimators=300 \n",
      "[CV]  clf__bootstrap=True, clf__max_depth=110, clf__max_features=2, clf__min_samples_leaf=5, clf__min_samples_split=8, clf__n_estimators=300, score=0.874, total=   5.5s\n",
      "[CV] clf__bootstrap=True, clf__max_depth=110, clf__max_features=2, clf__min_samples_leaf=5, clf__min_samples_split=8, clf__n_estimators=300 \n",
      "[CV]  clf__bootstrap=True, clf__max_depth=110, clf__max_features=2, clf__min_samples_leaf=5, clf__min_samples_split=8, clf__n_estimators=300, score=0.882, total=   5.2s\n",
      "[CV] clf__bootstrap=True, clf__max_depth=110, clf__max_features=2, clf__min_samples_leaf=5, clf__min_samples_split=10, clf__n_estimators=50 \n",
      "[CV]  clf__bootstrap=True, clf__max_depth=110, clf__max_features=2, clf__min_samples_leaf=5, clf__min_samples_split=10, clf__n_estimators=50, score=0.864, total=   0.9s\n",
      "[CV] clf__bootstrap=True, clf__max_depth=110, clf__max_features=2, clf__min_samples_leaf=5, clf__min_samples_split=10, clf__n_estimators=50 \n",
      "[CV]  clf__bootstrap=True, clf__max_depth=110, clf__max_features=2, clf__min_samples_leaf=5, clf__min_samples_split=10, clf__n_estimators=50, score=0.875, total=   0.9s\n",
      "[CV] clf__bootstrap=True, clf__max_depth=110, clf__max_features=2, clf__min_samples_leaf=5, clf__min_samples_split=10, clf__n_estimators=50 \n",
      "[CV]  clf__bootstrap=True, clf__max_depth=110, clf__max_features=2, clf__min_samples_leaf=5, clf__min_samples_split=10, clf__n_estimators=50, score=0.886, total=   0.8s\n",
      "[CV] clf__bootstrap=True, clf__max_depth=110, clf__max_features=2, clf__min_samples_leaf=5, clf__min_samples_split=10, clf__n_estimators=100 \n",
      "[CV]  clf__bootstrap=True, clf__max_depth=110, clf__max_features=2, clf__min_samples_leaf=5, clf__min_samples_split=10, clf__n_estimators=100, score=0.866, total=   1.7s\n",
      "[CV] clf__bootstrap=True, clf__max_depth=110, clf__max_features=2, clf__min_samples_leaf=5, clf__min_samples_split=10, clf__n_estimators=100 \n",
      "[CV]  clf__bootstrap=True, clf__max_depth=110, clf__max_features=2, clf__min_samples_leaf=5, clf__min_samples_split=10, clf__n_estimators=100, score=0.869, total=   1.7s\n",
      "[CV] clf__bootstrap=True, clf__max_depth=110, clf__max_features=2, clf__min_samples_leaf=5, clf__min_samples_split=10, clf__n_estimators=100 \n",
      "[CV]  clf__bootstrap=True, clf__max_depth=110, clf__max_features=2, clf__min_samples_leaf=5, clf__min_samples_split=10, clf__n_estimators=100, score=0.879, total=   1.9s\n",
      "[CV] clf__bootstrap=True, clf__max_depth=110, clf__max_features=2, clf__min_samples_leaf=5, clf__min_samples_split=10, clf__n_estimators=300 \n",
      "[CV]  clf__bootstrap=True, clf__max_depth=110, clf__max_features=2, clf__min_samples_leaf=5, clf__min_samples_split=10, clf__n_estimators=300, score=0.866, total=   5.2s\n",
      "[CV] clf__bootstrap=True, clf__max_depth=110, clf__max_features=2, clf__min_samples_leaf=5, clf__min_samples_split=10, clf__n_estimators=300 \n",
      "[CV]  clf__bootstrap=True, clf__max_depth=110, clf__max_features=2, clf__min_samples_leaf=5, clf__min_samples_split=10, clf__n_estimators=300, score=0.875, total=   5.6s\n",
      "[CV] clf__bootstrap=True, clf__max_depth=110, clf__max_features=2, clf__min_samples_leaf=5, clf__min_samples_split=10, clf__n_estimators=300 \n",
      "[CV]  clf__bootstrap=True, clf__max_depth=110, clf__max_features=2, clf__min_samples_leaf=5, clf__min_samples_split=10, clf__n_estimators=300, score=0.883, total=   5.5s\n",
      "[CV] clf__bootstrap=True, clf__max_depth=110, clf__max_features=2, clf__min_samples_leaf=5, clf__min_samples_split=12, clf__n_estimators=50 \n",
      "[CV]  clf__bootstrap=True, clf__max_depth=110, clf__max_features=2, clf__min_samples_leaf=5, clf__min_samples_split=12, clf__n_estimators=50, score=0.855, total=   0.9s\n",
      "[CV] clf__bootstrap=True, clf__max_depth=110, clf__max_features=2, clf__min_samples_leaf=5, clf__min_samples_split=12, clf__n_estimators=50 \n",
      "[CV]  clf__bootstrap=True, clf__max_depth=110, clf__max_features=2, clf__min_samples_leaf=5, clf__min_samples_split=12, clf__n_estimators=50, score=0.870, total=   1.0s\n",
      "[CV] clf__bootstrap=True, clf__max_depth=110, clf__max_features=2, clf__min_samples_leaf=5, clf__min_samples_split=12, clf__n_estimators=50 \n",
      "[CV]  clf__bootstrap=True, clf__max_depth=110, clf__max_features=2, clf__min_samples_leaf=5, clf__min_samples_split=12, clf__n_estimators=50, score=0.877, total=   0.9s\n",
      "[CV] clf__bootstrap=True, clf__max_depth=110, clf__max_features=2, clf__min_samples_leaf=5, clf__min_samples_split=12, clf__n_estimators=100 \n",
      "[CV]  clf__bootstrap=True, clf__max_depth=110, clf__max_features=2, clf__min_samples_leaf=5, clf__min_samples_split=12, clf__n_estimators=100, score=0.862, total=   1.7s\n",
      "[CV] clf__bootstrap=True, clf__max_depth=110, clf__max_features=2, clf__min_samples_leaf=5, clf__min_samples_split=12, clf__n_estimators=100 \n",
      "[CV]  clf__bootstrap=True, clf__max_depth=110, clf__max_features=2, clf__min_samples_leaf=5, clf__min_samples_split=12, clf__n_estimators=100, score=0.871, total=   1.4s\n",
      "[CV] clf__bootstrap=True, clf__max_depth=110, clf__max_features=2, clf__min_samples_leaf=5, clf__min_samples_split=12, clf__n_estimators=100 \n",
      "[CV]  clf__bootstrap=True, clf__max_depth=110, clf__max_features=2, clf__min_samples_leaf=5, clf__min_samples_split=12, clf__n_estimators=100, score=0.880, total=   1.6s\n",
      "[CV] clf__bootstrap=True, clf__max_depth=110, clf__max_features=2, clf__min_samples_leaf=5, clf__min_samples_split=12, clf__n_estimators=300 \n",
      "[CV]  clf__bootstrap=True, clf__max_depth=110, clf__max_features=2, clf__min_samples_leaf=5, clf__min_samples_split=12, clf__n_estimators=300, score=0.864, total=   5.9s\n",
      "[CV] clf__bootstrap=True, clf__max_depth=110, clf__max_features=2, clf__min_samples_leaf=5, clf__min_samples_split=12, clf__n_estimators=300 \n",
      "[CV]  clf__bootstrap=True, clf__max_depth=110, clf__max_features=2, clf__min_samples_leaf=5, clf__min_samples_split=12, clf__n_estimators=300, score=0.872, total=   5.2s\n",
      "[CV] clf__bootstrap=True, clf__max_depth=110, clf__max_features=2, clf__min_samples_leaf=5, clf__min_samples_split=12, clf__n_estimators=300 \n",
      "[CV]  clf__bootstrap=True, clf__max_depth=110, clf__max_features=2, clf__min_samples_leaf=5, clf__min_samples_split=12, clf__n_estimators=300, score=0.879, total=   4.8s\n",
      "[CV] clf__bootstrap=True, clf__max_depth=110, clf__max_features=3, clf__min_samples_leaf=3, clf__min_samples_split=8, clf__n_estimators=50 \n",
      "[CV]  clf__bootstrap=True, clf__max_depth=110, clf__max_features=3, clf__min_samples_leaf=3, clf__min_samples_split=8, clf__n_estimators=50, score=0.872, total=   1.2s\n",
      "[CV] clf__bootstrap=True, clf__max_depth=110, clf__max_features=3, clf__min_samples_leaf=3, clf__min_samples_split=8, clf__n_estimators=50 \n",
      "[CV]  clf__bootstrap=True, clf__max_depth=110, clf__max_features=3, clf__min_samples_leaf=3, clf__min_samples_split=8, clf__n_estimators=50, score=0.875, total=   1.3s\n",
      "[CV] clf__bootstrap=True, clf__max_depth=110, clf__max_features=3, clf__min_samples_leaf=3, clf__min_samples_split=8, clf__n_estimators=50 \n",
      "[CV]  clf__bootstrap=True, clf__max_depth=110, clf__max_features=3, clf__min_samples_leaf=3, clf__min_samples_split=8, clf__n_estimators=50, score=0.889, total=   1.2s\n",
      "[CV] clf__bootstrap=True, clf__max_depth=110, clf__max_features=3, clf__min_samples_leaf=3, clf__min_samples_split=8, clf__n_estimators=100 \n"
     ]
    },
    {
     "name": "stdout",
     "output_type": "stream",
     "text": [
      "[CV]  clf__bootstrap=True, clf__max_depth=110, clf__max_features=3, clf__min_samples_leaf=3, clf__min_samples_split=8, clf__n_estimators=100, score=0.875, total=   2.2s\n",
      "[CV] clf__bootstrap=True, clf__max_depth=110, clf__max_features=3, clf__min_samples_leaf=3, clf__min_samples_split=8, clf__n_estimators=100 \n",
      "[CV]  clf__bootstrap=True, clf__max_depth=110, clf__max_features=3, clf__min_samples_leaf=3, clf__min_samples_split=8, clf__n_estimators=100, score=0.881, total=   2.1s\n",
      "[CV] clf__bootstrap=True, clf__max_depth=110, clf__max_features=3, clf__min_samples_leaf=3, clf__min_samples_split=8, clf__n_estimators=100 \n",
      "[CV]  clf__bootstrap=True, clf__max_depth=110, clf__max_features=3, clf__min_samples_leaf=3, clf__min_samples_split=8, clf__n_estimators=100, score=0.893, total=   2.4s\n",
      "[CV] clf__bootstrap=True, clf__max_depth=110, clf__max_features=3, clf__min_samples_leaf=3, clf__min_samples_split=8, clf__n_estimators=300 \n",
      "[CV]  clf__bootstrap=True, clf__max_depth=110, clf__max_features=3, clf__min_samples_leaf=3, clf__min_samples_split=8, clf__n_estimators=300, score=0.873, total=   7.2s\n",
      "[CV] clf__bootstrap=True, clf__max_depth=110, clf__max_features=3, clf__min_samples_leaf=3, clf__min_samples_split=8, clf__n_estimators=300 \n",
      "[CV]  clf__bootstrap=True, clf__max_depth=110, clf__max_features=3, clf__min_samples_leaf=3, clf__min_samples_split=8, clf__n_estimators=300, score=0.884, total=   6.9s\n",
      "[CV] clf__bootstrap=True, clf__max_depth=110, clf__max_features=3, clf__min_samples_leaf=3, clf__min_samples_split=8, clf__n_estimators=300 \n",
      "[CV]  clf__bootstrap=True, clf__max_depth=110, clf__max_features=3, clf__min_samples_leaf=3, clf__min_samples_split=8, clf__n_estimators=300, score=0.894, total=   6.6s\n",
      "[CV] clf__bootstrap=True, clf__max_depth=110, clf__max_features=3, clf__min_samples_leaf=3, clf__min_samples_split=10, clf__n_estimators=50 \n",
      "[CV]  clf__bootstrap=True, clf__max_depth=110, clf__max_features=3, clf__min_samples_leaf=3, clf__min_samples_split=10, clf__n_estimators=50, score=0.873, total=   1.1s\n",
      "[CV] clf__bootstrap=True, clf__max_depth=110, clf__max_features=3, clf__min_samples_leaf=3, clf__min_samples_split=10, clf__n_estimators=50 \n",
      "[CV]  clf__bootstrap=True, clf__max_depth=110, clf__max_features=3, clf__min_samples_leaf=3, clf__min_samples_split=10, clf__n_estimators=50, score=0.873, total=   1.1s\n",
      "[CV] clf__bootstrap=True, clf__max_depth=110, clf__max_features=3, clf__min_samples_leaf=3, clf__min_samples_split=10, clf__n_estimators=50 \n",
      "[CV]  clf__bootstrap=True, clf__max_depth=110, clf__max_features=3, clf__min_samples_leaf=3, clf__min_samples_split=10, clf__n_estimators=50, score=0.890, total=   1.2s\n",
      "[CV] clf__bootstrap=True, clf__max_depth=110, clf__max_features=3, clf__min_samples_leaf=3, clf__min_samples_split=10, clf__n_estimators=100 \n",
      "[CV]  clf__bootstrap=True, clf__max_depth=110, clf__max_features=3, clf__min_samples_leaf=3, clf__min_samples_split=10, clf__n_estimators=100, score=0.872, total=   2.3s\n",
      "[CV] clf__bootstrap=True, clf__max_depth=110, clf__max_features=3, clf__min_samples_leaf=3, clf__min_samples_split=10, clf__n_estimators=100 \n",
      "[CV]  clf__bootstrap=True, clf__max_depth=110, clf__max_features=3, clf__min_samples_leaf=3, clf__min_samples_split=10, clf__n_estimators=100, score=0.879, total=   2.4s\n",
      "[CV] clf__bootstrap=True, clf__max_depth=110, clf__max_features=3, clf__min_samples_leaf=3, clf__min_samples_split=10, clf__n_estimators=100 \n",
      "[CV]  clf__bootstrap=True, clf__max_depth=110, clf__max_features=3, clf__min_samples_leaf=3, clf__min_samples_split=10, clf__n_estimators=100, score=0.890, total=   2.9s\n",
      "[CV] clf__bootstrap=True, clf__max_depth=110, clf__max_features=3, clf__min_samples_leaf=3, clf__min_samples_split=10, clf__n_estimators=300 \n",
      "[CV]  clf__bootstrap=True, clf__max_depth=110, clf__max_features=3, clf__min_samples_leaf=3, clf__min_samples_split=10, clf__n_estimators=300, score=0.872, total=   7.4s\n",
      "[CV] clf__bootstrap=True, clf__max_depth=110, clf__max_features=3, clf__min_samples_leaf=3, clf__min_samples_split=10, clf__n_estimators=300 \n",
      "[CV]  clf__bootstrap=True, clf__max_depth=110, clf__max_features=3, clf__min_samples_leaf=3, clf__min_samples_split=10, clf__n_estimators=300, score=0.880, total=   7.0s\n",
      "[CV] clf__bootstrap=True, clf__max_depth=110, clf__max_features=3, clf__min_samples_leaf=3, clf__min_samples_split=10, clf__n_estimators=300 \n",
      "[CV]  clf__bootstrap=True, clf__max_depth=110, clf__max_features=3, clf__min_samples_leaf=3, clf__min_samples_split=10, clf__n_estimators=300, score=0.890, total=   6.3s\n",
      "[CV] clf__bootstrap=True, clf__max_depth=110, clf__max_features=3, clf__min_samples_leaf=3, clf__min_samples_split=12, clf__n_estimators=50 \n",
      "[CV]  clf__bootstrap=True, clf__max_depth=110, clf__max_features=3, clf__min_samples_leaf=3, clf__min_samples_split=12, clf__n_estimators=50, score=0.870, total=   1.2s\n",
      "[CV] clf__bootstrap=True, clf__max_depth=110, clf__max_features=3, clf__min_samples_leaf=3, clf__min_samples_split=12, clf__n_estimators=50 \n",
      "[CV]  clf__bootstrap=True, clf__max_depth=110, clf__max_features=3, clf__min_samples_leaf=3, clf__min_samples_split=12, clf__n_estimators=50, score=0.880, total=   1.5s\n",
      "[CV] clf__bootstrap=True, clf__max_depth=110, clf__max_features=3, clf__min_samples_leaf=3, clf__min_samples_split=12, clf__n_estimators=50 \n",
      "[CV]  clf__bootstrap=True, clf__max_depth=110, clf__max_features=3, clf__min_samples_leaf=3, clf__min_samples_split=12, clf__n_estimators=50, score=0.886, total=   1.1s\n",
      "[CV] clf__bootstrap=True, clf__max_depth=110, clf__max_features=3, clf__min_samples_leaf=3, clf__min_samples_split=12, clf__n_estimators=100 \n",
      "[CV]  clf__bootstrap=True, clf__max_depth=110, clf__max_features=3, clf__min_samples_leaf=3, clf__min_samples_split=12, clf__n_estimators=100, score=0.871, total=   2.4s\n",
      "[CV] clf__bootstrap=True, clf__max_depth=110, clf__max_features=3, clf__min_samples_leaf=3, clf__min_samples_split=12, clf__n_estimators=100 \n",
      "[CV]  clf__bootstrap=True, clf__max_depth=110, clf__max_features=3, clf__min_samples_leaf=3, clf__min_samples_split=12, clf__n_estimators=100, score=0.879, total=   2.7s\n",
      "[CV] clf__bootstrap=True, clf__max_depth=110, clf__max_features=3, clf__min_samples_leaf=3, clf__min_samples_split=12, clf__n_estimators=100 \n",
      "[CV]  clf__bootstrap=True, clf__max_depth=110, clf__max_features=3, clf__min_samples_leaf=3, clf__min_samples_split=12, clf__n_estimators=100, score=0.888, total=   2.5s\n",
      "[CV] clf__bootstrap=True, clf__max_depth=110, clf__max_features=3, clf__min_samples_leaf=3, clf__min_samples_split=12, clf__n_estimators=300 \n",
      "[CV]  clf__bootstrap=True, clf__max_depth=110, clf__max_features=3, clf__min_samples_leaf=3, clf__min_samples_split=12, clf__n_estimators=300, score=0.873, total=   6.5s\n",
      "[CV] clf__bootstrap=True, clf__max_depth=110, clf__max_features=3, clf__min_samples_leaf=3, clf__min_samples_split=12, clf__n_estimators=300 \n",
      "[CV]  clf__bootstrap=True, clf__max_depth=110, clf__max_features=3, clf__min_samples_leaf=3, clf__min_samples_split=12, clf__n_estimators=300, score=0.880, total=   7.0s\n",
      "[CV] clf__bootstrap=True, clf__max_depth=110, clf__max_features=3, clf__min_samples_leaf=3, clf__min_samples_split=12, clf__n_estimators=300 \n",
      "[CV]  clf__bootstrap=True, clf__max_depth=110, clf__max_features=3, clf__min_samples_leaf=3, clf__min_samples_split=12, clf__n_estimators=300, score=0.890, total=   6.2s\n",
      "[CV] clf__bootstrap=True, clf__max_depth=110, clf__max_features=3, clf__min_samples_leaf=4, clf__min_samples_split=8, clf__n_estimators=50 \n",
      "[CV]  clf__bootstrap=True, clf__max_depth=110, clf__max_features=3, clf__min_samples_leaf=4, clf__min_samples_split=8, clf__n_estimators=50, score=0.870, total=   1.3s\n",
      "[CV] clf__bootstrap=True, clf__max_depth=110, clf__max_features=3, clf__min_samples_leaf=4, clf__min_samples_split=8, clf__n_estimators=50 \n",
      "[CV]  clf__bootstrap=True, clf__max_depth=110, clf__max_features=3, clf__min_samples_leaf=4, clf__min_samples_split=8, clf__n_estimators=50, score=0.875, total=   1.1s\n",
      "[CV] clf__bootstrap=True, clf__max_depth=110, clf__max_features=3, clf__min_samples_leaf=4, clf__min_samples_split=8, clf__n_estimators=50 \n",
      "[CV]  clf__bootstrap=True, clf__max_depth=110, clf__max_features=3, clf__min_samples_leaf=4, clf__min_samples_split=8, clf__n_estimators=50, score=0.883, total=   1.2s\n",
      "[CV] clf__bootstrap=True, clf__max_depth=110, clf__max_features=3, clf__min_samples_leaf=4, clf__min_samples_split=8, clf__n_estimators=100 \n"
     ]
    },
    {
     "name": "stdout",
     "output_type": "stream",
     "text": [
      "[CV]  clf__bootstrap=True, clf__max_depth=110, clf__max_features=3, clf__min_samples_leaf=4, clf__min_samples_split=8, clf__n_estimators=100, score=0.871, total=   2.4s\n",
      "[CV] clf__bootstrap=True, clf__max_depth=110, clf__max_features=3, clf__min_samples_leaf=4, clf__min_samples_split=8, clf__n_estimators=100 \n",
      "[CV]  clf__bootstrap=True, clf__max_depth=110, clf__max_features=3, clf__min_samples_leaf=4, clf__min_samples_split=8, clf__n_estimators=100, score=0.877, total=   2.3s\n",
      "[CV] clf__bootstrap=True, clf__max_depth=110, clf__max_features=3, clf__min_samples_leaf=4, clf__min_samples_split=8, clf__n_estimators=100 \n",
      "[CV]  clf__bootstrap=True, clf__max_depth=110, clf__max_features=3, clf__min_samples_leaf=4, clf__min_samples_split=8, clf__n_estimators=100, score=0.889, total=   2.4s\n",
      "[CV] clf__bootstrap=True, clf__max_depth=110, clf__max_features=3, clf__min_samples_leaf=4, clf__min_samples_split=8, clf__n_estimators=300 \n",
      "[CV]  clf__bootstrap=True, clf__max_depth=110, clf__max_features=3, clf__min_samples_leaf=4, clf__min_samples_split=8, clf__n_estimators=300, score=0.873, total=   6.7s\n",
      "[CV] clf__bootstrap=True, clf__max_depth=110, clf__max_features=3, clf__min_samples_leaf=4, clf__min_samples_split=8, clf__n_estimators=300 \n",
      "[CV]  clf__bootstrap=True, clf__max_depth=110, clf__max_features=3, clf__min_samples_leaf=4, clf__min_samples_split=8, clf__n_estimators=300, score=0.879, total=   7.4s\n",
      "[CV] clf__bootstrap=True, clf__max_depth=110, clf__max_features=3, clf__min_samples_leaf=4, clf__min_samples_split=8, clf__n_estimators=300 \n",
      "[CV]  clf__bootstrap=True, clf__max_depth=110, clf__max_features=3, clf__min_samples_leaf=4, clf__min_samples_split=8, clf__n_estimators=300, score=0.889, total=   6.6s\n",
      "[CV] clf__bootstrap=True, clf__max_depth=110, clf__max_features=3, clf__min_samples_leaf=4, clf__min_samples_split=10, clf__n_estimators=50 \n",
      "[CV]  clf__bootstrap=True, clf__max_depth=110, clf__max_features=3, clf__min_samples_leaf=4, clf__min_samples_split=10, clf__n_estimators=50, score=0.869, total=   1.0s\n",
      "[CV] clf__bootstrap=True, clf__max_depth=110, clf__max_features=3, clf__min_samples_leaf=4, clf__min_samples_split=10, clf__n_estimators=50 \n",
      "[CV]  clf__bootstrap=True, clf__max_depth=110, clf__max_features=3, clf__min_samples_leaf=4, clf__min_samples_split=10, clf__n_estimators=50, score=0.878, total=   1.2s\n",
      "[CV] clf__bootstrap=True, clf__max_depth=110, clf__max_features=3, clf__min_samples_leaf=4, clf__min_samples_split=10, clf__n_estimators=50 \n",
      "[CV]  clf__bootstrap=True, clf__max_depth=110, clf__max_features=3, clf__min_samples_leaf=4, clf__min_samples_split=10, clf__n_estimators=50, score=0.888, total=   1.1s\n",
      "[CV] clf__bootstrap=True, clf__max_depth=110, clf__max_features=3, clf__min_samples_leaf=4, clf__min_samples_split=10, clf__n_estimators=100 \n",
      "[CV]  clf__bootstrap=True, clf__max_depth=110, clf__max_features=3, clf__min_samples_leaf=4, clf__min_samples_split=10, clf__n_estimators=100, score=0.868, total=   2.5s\n",
      "[CV] clf__bootstrap=True, clf__max_depth=110, clf__max_features=3, clf__min_samples_leaf=4, clf__min_samples_split=10, clf__n_estimators=100 \n",
      "[CV]  clf__bootstrap=True, clf__max_depth=110, clf__max_features=3, clf__min_samples_leaf=4, clf__min_samples_split=10, clf__n_estimators=100, score=0.877, total=   2.4s\n",
      "[CV] clf__bootstrap=True, clf__max_depth=110, clf__max_features=3, clf__min_samples_leaf=4, clf__min_samples_split=10, clf__n_estimators=100 \n",
      "[CV]  clf__bootstrap=True, clf__max_depth=110, clf__max_features=3, clf__min_samples_leaf=4, clf__min_samples_split=10, clf__n_estimators=100, score=0.888, total=   2.4s\n",
      "[CV] clf__bootstrap=True, clf__max_depth=110, clf__max_features=3, clf__min_samples_leaf=4, clf__min_samples_split=10, clf__n_estimators=300 \n",
      "[CV]  clf__bootstrap=True, clf__max_depth=110, clf__max_features=3, clf__min_samples_leaf=4, clf__min_samples_split=10, clf__n_estimators=300, score=0.868, total=   6.1s\n",
      "[CV] clf__bootstrap=True, clf__max_depth=110, clf__max_features=3, clf__min_samples_leaf=4, clf__min_samples_split=10, clf__n_estimators=300 \n",
      "[CV]  clf__bootstrap=True, clf__max_depth=110, clf__max_features=3, clf__min_samples_leaf=4, clf__min_samples_split=10, clf__n_estimators=300, score=0.881, total=   7.3s\n",
      "[CV] clf__bootstrap=True, clf__max_depth=110, clf__max_features=3, clf__min_samples_leaf=4, clf__min_samples_split=10, clf__n_estimators=300 \n",
      "[CV]  clf__bootstrap=True, clf__max_depth=110, clf__max_features=3, clf__min_samples_leaf=4, clf__min_samples_split=10, clf__n_estimators=300, score=0.890, total=   6.9s\n",
      "[CV] clf__bootstrap=True, clf__max_depth=110, clf__max_features=3, clf__min_samples_leaf=4, clf__min_samples_split=12, clf__n_estimators=50 \n",
      "[CV]  clf__bootstrap=True, clf__max_depth=110, clf__max_features=3, clf__min_samples_leaf=4, clf__min_samples_split=12, clf__n_estimators=50, score=0.868, total=   0.8s\n",
      "[CV] clf__bootstrap=True, clf__max_depth=110, clf__max_features=3, clf__min_samples_leaf=4, clf__min_samples_split=12, clf__n_estimators=50 \n",
      "[CV]  clf__bootstrap=True, clf__max_depth=110, clf__max_features=3, clf__min_samples_leaf=4, clf__min_samples_split=12, clf__n_estimators=50, score=0.873, total=   0.8s\n",
      "[CV] clf__bootstrap=True, clf__max_depth=110, clf__max_features=3, clf__min_samples_leaf=4, clf__min_samples_split=12, clf__n_estimators=50 \n",
      "[CV]  clf__bootstrap=True, clf__max_depth=110, clf__max_features=3, clf__min_samples_leaf=4, clf__min_samples_split=12, clf__n_estimators=50, score=0.884, total=   1.3s\n",
      "[CV] clf__bootstrap=True, clf__max_depth=110, clf__max_features=3, clf__min_samples_leaf=4, clf__min_samples_split=12, clf__n_estimators=100 \n",
      "[CV]  clf__bootstrap=True, clf__max_depth=110, clf__max_features=3, clf__min_samples_leaf=4, clf__min_samples_split=12, clf__n_estimators=100, score=0.867, total=   2.3s\n",
      "[CV] clf__bootstrap=True, clf__max_depth=110, clf__max_features=3, clf__min_samples_leaf=4, clf__min_samples_split=12, clf__n_estimators=100 \n",
      "[CV]  clf__bootstrap=True, clf__max_depth=110, clf__max_features=3, clf__min_samples_leaf=4, clf__min_samples_split=12, clf__n_estimators=100, score=0.877, total=   2.4s\n",
      "[CV] clf__bootstrap=True, clf__max_depth=110, clf__max_features=3, clf__min_samples_leaf=4, clf__min_samples_split=12, clf__n_estimators=100 \n",
      "[CV]  clf__bootstrap=True, clf__max_depth=110, clf__max_features=3, clf__min_samples_leaf=4, clf__min_samples_split=12, clf__n_estimators=100, score=0.884, total=   2.6s\n",
      "[CV] clf__bootstrap=True, clf__max_depth=110, clf__max_features=3, clf__min_samples_leaf=4, clf__min_samples_split=12, clf__n_estimators=300 \n",
      "[CV]  clf__bootstrap=True, clf__max_depth=110, clf__max_features=3, clf__min_samples_leaf=4, clf__min_samples_split=12, clf__n_estimators=300, score=0.869, total=   6.7s\n",
      "[CV] clf__bootstrap=True, clf__max_depth=110, clf__max_features=3, clf__min_samples_leaf=4, clf__min_samples_split=12, clf__n_estimators=300 \n",
      "[CV]  clf__bootstrap=True, clf__max_depth=110, clf__max_features=3, clf__min_samples_leaf=4, clf__min_samples_split=12, clf__n_estimators=300, score=0.880, total=   6.7s\n",
      "[CV] clf__bootstrap=True, clf__max_depth=110, clf__max_features=3, clf__min_samples_leaf=4, clf__min_samples_split=12, clf__n_estimators=300 \n",
      "[CV]  clf__bootstrap=True, clf__max_depth=110, clf__max_features=3, clf__min_samples_leaf=4, clf__min_samples_split=12, clf__n_estimators=300, score=0.888, total=   7.1s\n",
      "[CV] clf__bootstrap=True, clf__max_depth=110, clf__max_features=3, clf__min_samples_leaf=5, clf__min_samples_split=8, clf__n_estimators=50 \n",
      "[CV]  clf__bootstrap=True, clf__max_depth=110, clf__max_features=3, clf__min_samples_leaf=5, clf__min_samples_split=8, clf__n_estimators=50, score=0.863, total=   1.2s\n",
      "[CV] clf__bootstrap=True, clf__max_depth=110, clf__max_features=3, clf__min_samples_leaf=5, clf__min_samples_split=8, clf__n_estimators=50 \n",
      "[CV]  clf__bootstrap=True, clf__max_depth=110, clf__max_features=3, clf__min_samples_leaf=5, clf__min_samples_split=8, clf__n_estimators=50, score=0.879, total=   0.9s\n",
      "[CV] clf__bootstrap=True, clf__max_depth=110, clf__max_features=3, clf__min_samples_leaf=5, clf__min_samples_split=8, clf__n_estimators=50 \n",
      "[CV]  clf__bootstrap=True, clf__max_depth=110, clf__max_features=3, clf__min_samples_leaf=5, clf__min_samples_split=8, clf__n_estimators=50, score=0.888, total=   0.6s\n",
      "[CV] clf__bootstrap=True, clf__max_depth=110, clf__max_features=3, clf__min_samples_leaf=5, clf__min_samples_split=8, clf__n_estimators=100 \n"
     ]
    },
    {
     "name": "stdout",
     "output_type": "stream",
     "text": [
      "[CV]  clf__bootstrap=True, clf__max_depth=110, clf__max_features=3, clf__min_samples_leaf=5, clf__min_samples_split=8, clf__n_estimators=100, score=0.870, total=   2.2s\n",
      "[CV] clf__bootstrap=True, clf__max_depth=110, clf__max_features=3, clf__min_samples_leaf=5, clf__min_samples_split=8, clf__n_estimators=100 \n",
      "[CV]  clf__bootstrap=True, clf__max_depth=110, clf__max_features=3, clf__min_samples_leaf=5, clf__min_samples_split=8, clf__n_estimators=100, score=0.875, total=   2.3s\n",
      "[CV] clf__bootstrap=True, clf__max_depth=110, clf__max_features=3, clf__min_samples_leaf=5, clf__min_samples_split=8, clf__n_estimators=100 \n",
      "[CV]  clf__bootstrap=True, clf__max_depth=110, clf__max_features=3, clf__min_samples_leaf=5, clf__min_samples_split=8, clf__n_estimators=100, score=0.886, total=   2.2s\n",
      "[CV] clf__bootstrap=True, clf__max_depth=110, clf__max_features=3, clf__min_samples_leaf=5, clf__min_samples_split=8, clf__n_estimators=300 \n",
      "[CV]  clf__bootstrap=True, clf__max_depth=110, clf__max_features=3, clf__min_samples_leaf=5, clf__min_samples_split=8, clf__n_estimators=300, score=0.871, total=   7.0s\n",
      "[CV] clf__bootstrap=True, clf__max_depth=110, clf__max_features=3, clf__min_samples_leaf=5, clf__min_samples_split=8, clf__n_estimators=300 \n",
      "[CV]  clf__bootstrap=True, clf__max_depth=110, clf__max_features=3, clf__min_samples_leaf=5, clf__min_samples_split=8, clf__n_estimators=300, score=0.881, total=   6.3s\n",
      "[CV] clf__bootstrap=True, clf__max_depth=110, clf__max_features=3, clf__min_samples_leaf=5, clf__min_samples_split=8, clf__n_estimators=300 \n",
      "[CV]  clf__bootstrap=True, clf__max_depth=110, clf__max_features=3, clf__min_samples_leaf=5, clf__min_samples_split=8, clf__n_estimators=300, score=0.887, total=   6.9s\n",
      "[CV] clf__bootstrap=True, clf__max_depth=110, clf__max_features=3, clf__min_samples_leaf=5, clf__min_samples_split=10, clf__n_estimators=50 \n",
      "[CV]  clf__bootstrap=True, clf__max_depth=110, clf__max_features=3, clf__min_samples_leaf=5, clf__min_samples_split=10, clf__n_estimators=50, score=0.868, total=   1.2s\n",
      "[CV] clf__bootstrap=True, clf__max_depth=110, clf__max_features=3, clf__min_samples_leaf=5, clf__min_samples_split=10, clf__n_estimators=50 \n",
      "[CV]  clf__bootstrap=True, clf__max_depth=110, clf__max_features=3, clf__min_samples_leaf=5, clf__min_samples_split=10, clf__n_estimators=50, score=0.875, total=   1.2s\n",
      "[CV] clf__bootstrap=True, clf__max_depth=110, clf__max_features=3, clf__min_samples_leaf=5, clf__min_samples_split=10, clf__n_estimators=50 \n",
      "[CV]  clf__bootstrap=True, clf__max_depth=110, clf__max_features=3, clf__min_samples_leaf=5, clf__min_samples_split=10, clf__n_estimators=50, score=0.881, total=   1.2s\n",
      "[CV] clf__bootstrap=True, clf__max_depth=110, clf__max_features=3, clf__min_samples_leaf=5, clf__min_samples_split=10, clf__n_estimators=100 \n",
      "[CV]  clf__bootstrap=True, clf__max_depth=110, clf__max_features=3, clf__min_samples_leaf=5, clf__min_samples_split=10, clf__n_estimators=100, score=0.867, total=   1.5s\n",
      "[CV] clf__bootstrap=True, clf__max_depth=110, clf__max_features=3, clf__min_samples_leaf=5, clf__min_samples_split=10, clf__n_estimators=100 \n",
      "[CV]  clf__bootstrap=True, clf__max_depth=110, clf__max_features=3, clf__min_samples_leaf=5, clf__min_samples_split=10, clf__n_estimators=100, score=0.877, total=   2.3s\n",
      "[CV] clf__bootstrap=True, clf__max_depth=110, clf__max_features=3, clf__min_samples_leaf=5, clf__min_samples_split=10, clf__n_estimators=100 \n",
      "[CV]  clf__bootstrap=True, clf__max_depth=110, clf__max_features=3, clf__min_samples_leaf=5, clf__min_samples_split=10, clf__n_estimators=100, score=0.887, total=   2.4s\n",
      "[CV] clf__bootstrap=True, clf__max_depth=110, clf__max_features=3, clf__min_samples_leaf=5, clf__min_samples_split=10, clf__n_estimators=300 \n",
      "[CV]  clf__bootstrap=True, clf__max_depth=110, clf__max_features=3, clf__min_samples_leaf=5, clf__min_samples_split=10, clf__n_estimators=300, score=0.866, total=   7.1s\n",
      "[CV] clf__bootstrap=True, clf__max_depth=110, clf__max_features=3, clf__min_samples_leaf=5, clf__min_samples_split=10, clf__n_estimators=300 \n",
      "[CV]  clf__bootstrap=True, clf__max_depth=110, clf__max_features=3, clf__min_samples_leaf=5, clf__min_samples_split=10, clf__n_estimators=300, score=0.879, total=   6.3s\n",
      "[CV] clf__bootstrap=True, clf__max_depth=110, clf__max_features=3, clf__min_samples_leaf=5, clf__min_samples_split=10, clf__n_estimators=300 \n",
      "[CV]  clf__bootstrap=True, clf__max_depth=110, clf__max_features=3, clf__min_samples_leaf=5, clf__min_samples_split=10, clf__n_estimators=300, score=0.888, total=   7.1s\n",
      "[CV] clf__bootstrap=True, clf__max_depth=110, clf__max_features=3, clf__min_samples_leaf=5, clf__min_samples_split=12, clf__n_estimators=50 \n",
      "[CV]  clf__bootstrap=True, clf__max_depth=110, clf__max_features=3, clf__min_samples_leaf=5, clf__min_samples_split=12, clf__n_estimators=50, score=0.861, total=   1.2s\n",
      "[CV] clf__bootstrap=True, clf__max_depth=110, clf__max_features=3, clf__min_samples_leaf=5, clf__min_samples_split=12, clf__n_estimators=50 \n",
      "[CV]  clf__bootstrap=True, clf__max_depth=110, clf__max_features=3, clf__min_samples_leaf=5, clf__min_samples_split=12, clf__n_estimators=50, score=0.877, total=   1.1s\n",
      "[CV] clf__bootstrap=True, clf__max_depth=110, clf__max_features=3, clf__min_samples_leaf=5, clf__min_samples_split=12, clf__n_estimators=50 \n",
      "[CV]  clf__bootstrap=True, clf__max_depth=110, clf__max_features=3, clf__min_samples_leaf=5, clf__min_samples_split=12, clf__n_estimators=50, score=0.885, total=   1.2s\n",
      "[CV] clf__bootstrap=True, clf__max_depth=110, clf__max_features=3, clf__min_samples_leaf=5, clf__min_samples_split=12, clf__n_estimators=100 \n",
      "[CV]  clf__bootstrap=True, clf__max_depth=110, clf__max_features=3, clf__min_samples_leaf=5, clf__min_samples_split=12, clf__n_estimators=100, score=0.865, total=   2.2s\n",
      "[CV] clf__bootstrap=True, clf__max_depth=110, clf__max_features=3, clf__min_samples_leaf=5, clf__min_samples_split=12, clf__n_estimators=100 \n",
      "[CV]  clf__bootstrap=True, clf__max_depth=110, clf__max_features=3, clf__min_samples_leaf=5, clf__min_samples_split=12, clf__n_estimators=100, score=0.875, total=   1.7s\n",
      "[CV] clf__bootstrap=True, clf__max_depth=110, clf__max_features=3, clf__min_samples_leaf=5, clf__min_samples_split=12, clf__n_estimators=100 \n",
      "[CV]  clf__bootstrap=True, clf__max_depth=110, clf__max_features=3, clf__min_samples_leaf=5, clf__min_samples_split=12, clf__n_estimators=100, score=0.882, total=   2.4s\n",
      "[CV] clf__bootstrap=True, clf__max_depth=110, clf__max_features=3, clf__min_samples_leaf=5, clf__min_samples_split=12, clf__n_estimators=300 \n",
      "[CV]  clf__bootstrap=True, clf__max_depth=110, clf__max_features=3, clf__min_samples_leaf=5, clf__min_samples_split=12, clf__n_estimators=300, score=0.868, total=   7.2s\n",
      "[CV] clf__bootstrap=True, clf__max_depth=110, clf__max_features=3, clf__min_samples_leaf=5, clf__min_samples_split=12, clf__n_estimators=300 \n",
      "[CV]  clf__bootstrap=True, clf__max_depth=110, clf__max_features=3, clf__min_samples_leaf=5, clf__min_samples_split=12, clf__n_estimators=300, score=0.877, total=   6.4s\n",
      "[CV] clf__bootstrap=True, clf__max_depth=110, clf__max_features=3, clf__min_samples_leaf=5, clf__min_samples_split=12, clf__n_estimators=300 \n",
      "[CV]  clf__bootstrap=True, clf__max_depth=110, clf__max_features=3, clf__min_samples_leaf=5, clf__min_samples_split=12, clf__n_estimators=300, score=0.884, total=   7.2s\n"
     ]
    },
    {
     "name": "stderr",
     "output_type": "stream",
     "text": [
      "[Parallel(n_jobs=1)]: Done 648 out of 648 | elapsed: 27.4min finished\n"
     ]
    },
    {
     "name": "stdout",
     "output_type": "stream",
     "text": [
      "score = 0.91\n",
      "{'clf__bootstrap': True, 'clf__max_depth': 100, 'clf__max_features': 3, 'clf__min_samples_leaf': 3, 'clf__min_samples_split': 8, 'clf__n_estimators': 300}\n"
     ]
    }
   ],
   "source": [
    "grid = GridSearchCV(pipeline, param_grid=parameters, cv=3, verbose=4)\n",
    "grid.fit(X_train, y_train)\n",
    "print (\"score = %3.2f\" %(grid.score(X_test,y_test)))\n",
    "print (grid.best_params_)"
   ]
  },
  {
   "cell_type": "code",
   "execution_count": 14,
   "id": "cb5fe530",
   "metadata": {
    "ExecuteTime": {
     "end_time": "2022-04-27T10:15:38.685982Z",
     "start_time": "2022-04-27T10:15:38.276637Z"
    }
   },
   "outputs": [
    {
     "name": "stdout",
     "output_type": "stream",
     "text": [
      "score = 0.906\n",
      "{'clf__bootstrap': True, 'clf__max_depth': 100, 'clf__max_features': 3, 'clf__min_samples_leaf': 3, 'clf__min_samples_split': 8, 'clf__n_estimators': 300}\n"
     ]
    }
   ],
   "source": [
    "print (\"score = %3.3f\" %(grid.score(X_test,y_test)))\n",
    "print (grid.best_params_)"
   ]
  },
  {
   "cell_type": "markdown",
   "id": "664ae117",
   "metadata": {},
   "source": [
    "S'arriba a una accuracy del 90,6% amb els valors dels hiperparàmetres detallats anteriorment."
   ]
  },
  {
   "cell_type": "markdown",
   "id": "fb2c13f2",
   "metadata": {},
   "source": [
    "Fonts info:\n",
    "* Problemes amb els parametres en el gridsearch, es dona solució en: https://stackoverflow.com/questions/64089009/how-can-i-tune-the-parameters-in-a-random-forest-classifier-inside-a-pipeline\n",
    "* https://towardsdatascience.com/tuning-the-hyperparameters-of-your-machine-learning-model-using-gridsearchcv-7fc2bb76ff27\n",
    "\n",
    "Del Modle de DS-Sprint 12: \n",
    "* https://towardsdatascience.com/a-simple-example-of-pipeline-in-machine-learning-with-scikit-learn-e726ffbb6976\n",
    "* https://www.analyticsvidhya.com/blog/2020/01/build-your-first-machine-learning-pipeline-using-scikit-learn/\n",
    "* https://machinelearningmastery.com/how-to-tune-algorithm-parameters-with-scikit-learn/\n"
   ]
  },
  {
   "cell_type": "markdown",
   "id": "7e66f58e",
   "metadata": {},
   "source": [
    "**- Exercici 2:**\n",
    "Agafa un text en anglès que vulguis, i calcula'n la freqüència de les paraules\n"
   ]
  },
  {
   "cell_type": "markdown",
   "id": "f627eb7f",
   "metadata": {},
   "source": [
    "Prenem el text de la primera noticia que surt a la edició web de la CNN per a Europa del dia que començo aquest exercici, aquesta notícia porta per títol ***Why Europe's fight against the pandemic is about to get much more dangerous***:\n",
    "\n",
    "    https://edition.cnn.com/2021/12/14/europe/europe-covid-vaccines-opposition-populism-intl/index.html "
   ]
  },
  {
   "cell_type": "code",
   "execution_count": 15,
   "id": "c9a1de09",
   "metadata": {
    "ExecuteTime": {
     "end_time": "2022-04-27T10:15:38.715843Z",
     "start_time": "2022-04-27T10:15:38.690794Z"
    }
   },
   "outputs": [],
   "source": [
    "text='''Paris (CNN)\"Despite months of persuasion, despite intensive media campaigns, despite discussions in various media we have not succeeded in convincing enough people to get vaccinated.\" Those were the words of former Austrian Chancellor Alexander Schallenberg last month as he announced the first nationwide vaccine mandate in Europe.\n",
    "Now, Germany looks set to follow where Austria has led.\n",
    "Others have made vaccines mandatory for parts of the population and imposed restrictions that increasingly explicitly target the unvaccinated, as Europe battles the twin challenges of sharply rising Covid figures and plateauing vaccination rates.\n",
    "Nearly one year into the EU's vaccination campaign, and with around one in three Europeans still unvaccinated, it is not so much hesitancy that European governments are now facing as outright opposition, with the danger that as governments get tougher so too will popular anger towards them.\n",
    "The crucial question of trust\n",
    "Only 19% of Europeans include their government among their most trusted sources of reliable information on Covid-19 vaccines, according to a survey conducted in May 2021 by the European Barometer, a collection of cross-country public opinion surveys conducted regularly on behalf of the EU's institutions.\n",
    "Even before the pandemic, vaccine hesitancy in Europe was strongly correlated to a populist distrust of mainstream parties and governments.\n",
    "One study published in the European Journal of Public Health in 2019 found \"a highly significant positive association between the percentage of people in a country who voted for populist parties and the percentage who believe that vaccines are not important and not effective.\"\n",
    "What the pandemic has provided is a Europe-wide real-time test of that correlation. Nearly two years in and with most countries having exhausted what means they had of encouraging people to get vaccinated, the map of those who remain unvaccinated shows that where there is distrust in government and traditional political parties -- as measured by the strength of populist movements -- many people have yet to get vaccinated.\n",
    "Essentially, people who trust institutions need no convincing in the face of a pandemic; people who don't are unlikely to be influenced at all.\n",
    "Bodies pile up outside hospital morgue as Romania struggles with fourth wave of Covid\n",
    "Bodies pile up outside hospital morgue as Romania struggles with fourth wave of Covid\n",
    "Eastern Europe is where vaccination rates are the lowest. Bulgaria has the lowest rate of all, with just 26.6% of the total population vaccinated, according to government data. The country has also been going through a major political crisis with three parliamentary elections held this year.\n",
    "Difficulties with vaccine rollouts and in reaching more remote and elderly rural populations are also to blame in Eastern Europe, but in some of the countries where vaccine take-up has been lowest, populist parties are either in power or strong electorally.\n",
    "Further west, lower vaccination rates are also to be found in countries and regions with either popular or voluble populist or extremist movements, as in Germany, Austria and Northern Italy.\n",
    "In a paper published by the journal Psychological Medicine in October, Michele Roccato and Silvia Russo from the University of Turin argue that their study shows \"people with a populist orientation tend to refuse the Covid-19 vaccine, in line with previous research showing that vaccine refusal is often politicized, but that its politicization is not limited to the traditional left-right cleavage.\"\n",
    "A new common enemy\n",
    "Sophie Tissier, who organizes protests against Covid-19 restrictions and vaccines in France, says that these protests have created a new political force that is radical but goes beyond party political lines.\n",
    "She says her group seeks to \"create a citizens' opposition which is beyond electoral considerations and much more like a watchdog that sits outside the world of politics to be able to tell it: 'Look here, you are no longer protecting our rights, you are no longer protecting our rights under the law.'\"\n",
    "Demonstrators march during a protest against coronavirus measures in Brussels, Belgium, on December 5, 2021.\n",
    "Demonstrators march during a protest against coronavirus measures in Brussels, Belgium, on December 5, 2021.\n",
    "In August, more than 230,000 people took to the streets across the country in one day after France became one of the first European countries to announce the use of relatively strict vaccine passes.\n",
    "\"It really set things alight because people realized that life as it was, was coming to an end,\" she said. \"People would no longer be free, or able to go out as they did.\"\n",
    "Since then, protests have tapered off in France, partly because no mainstream party has been openly encouraging its supporters to join them. France's vaccine rates are among the highest in Europe, suggesting that even in countries where there is strong vaccine hesitancy -- as there was in France even before the pandemic -- far-right or populist parties' stance on the vaccine can have an impact.\n",
    "Elsewhere in Europe, such groups are clearly fanning the anti-vaccination flames. In Austria, several protests planned since the government announced its nationwide vaccine mandate last month have been planned by the far-right Freedom Party.\n",
    "The mandate is due to come into force in February 2022.\n",
    "Even as he announced the move, Schallenberg accused the Freedom Party of being responsible for the country's low vaccination rates and of having stirred up vaccine hesitancy.\n",
    "\"We have too many political forces in this country that are fighting against [vaccination] vehemently, massively and publicly. That is irresponsible,\" Schallenberg said, adding: \"Incited by these radical opponents of vaccination, by specious fake news, unfortunately too many of us have not been vaccinated. The consequence is overcrowded intensive care units and enormous human suffering.\"\n",
    "The world has the tools to end the coronavirus pandemic. They&#39;re not being used properly\n",
    "The world has the tools to end the coronavirus pandemic. They're not being used properly\n",
    "In other European countries, populist parties have also jumped on the bandwagon.\n",
    "And the divide in opinion over pandemic measures is no longer about extreme left and extreme right, said French political scientist Jean-Yves Camus, but \"between the mainstream and the periphery.\"\n",
    "\"It's much more about the extreme,\" Camus said. \"The most extreme fringe groups taking advantage of the pandemic to say: 'This virus is fake, there is no pandemic and you are being tricked by your governments. It's a worldwide conspiracy of your national governments. They are using the pandemic to infringe on your individual rights and using vaccination passes to have your personal data,' and so on.\"\n",
    "In parts of Eastern Europe, but also in and around Germany -- from Northern Italy to the Netherlands and Austria -- parties which once focused on immigration or Europe have been tapping into the widespread anger of those opposed to vaccines and Covid-19 restrictions, shifting their attention to an issue far more likely to appeal to the apolitical and to cut across traditional party political lines.\n",
    "Their new enemy is far more federating: The Covid-19 measures and vaccination campaigns that they say threaten their freedom.\n",
    "A protester wearing a mask depicting syringes applauds in Geneva, Switzerland, on October 9, 2021, during a rally against coronavirus measures.\n",
    "A protester wearing a mask depicting syringes applauds in Geneva, Switzerland, on October 9, 2021, during a rally against coronavirus measures.\n",
    "Vaccine mandates\n",
    "The World Health Organization has cautioned against vaccine mandates, because of their potential impact on public confidence and public trust. Dr Hans Kluge, WHO's Europe Director, said they should be used as \"an absolute last resort, and only applicable when all other feasible options to improve vaccine uptake have been exhausted.\"\n",
    "In a part of the world where the fight against the pandemic has already been hampered by vaccine hesitancy, such mandates could fuel more resistance.\n",
    "\"The worry is that anti-vaxxers could come to hold even more extreme positions,\" said Russo, of the University of Turin. \"That's one risk. But we should also consider that where vaccines become mandatory, there will need to be controls and that could further undermine institutional trust. \"\n",
    "In other words, forced vaccination might push people into vaccination centers but it will also drive some of them to the streets, confirming and further fueling their deeply held suspicion of \"the system.\"\n",
    "The fight against the pandemic may one day come to an end, but the fight against populism in Europe could be just beginning.'''"
   ]
  },
  {
   "cell_type": "code",
   "execution_count": 16,
   "id": "ce516817",
   "metadata": {
    "ExecuteTime": {
     "end_time": "2022-04-27T10:15:38.792815Z",
     "start_time": "2022-04-27T10:15:38.720715Z"
    }
   },
   "outputs": [
    {
     "name": "stdout",
     "output_type": "stream",
     "text": [
      "['Paris', '(', 'CNN', ')', \"''\", 'Despite', 'months', 'of', 'persuasion', ',', 'despite', 'intensive', 'media', 'campaigns', ',', 'despite', 'discussions', 'in', 'various', 'media', 'we', 'have', 'not', 'succeeded', 'in', 'convincing', 'enough', 'people', 'to', 'get', 'vaccinated', '.', \"''\", 'Those', 'were', 'the', 'words', 'of', 'former', 'Austrian', 'Chancellor', 'Alexander', 'Schallenberg', 'last', 'month', 'as', 'he', 'announced', 'the', 'first', 'nationwide', 'vaccine', 'mandate', 'in', 'Europe', '.', 'Now', ',', 'Germany', 'looks', 'set', 'to', 'follow', 'where', 'Austria', 'has', 'led', '.', 'Others', 'have', 'made', 'vaccines', 'mandatory', 'for', 'parts', 'of', 'the', 'population', 'and', 'imposed', 'restrictions', 'that', 'increasingly', 'explicitly', 'target', 'the', 'unvaccinated', ',', 'as', 'Europe', 'battles', 'the', 'twin', 'challenges', 'of', 'sharply', 'rising', 'Covid', 'figures', 'and', 'plateauing', 'vaccination', 'rates', '.', 'Nearly', 'one', 'year', 'into', 'the', 'EU', \"'s\", 'vaccination', 'campaign', ',', 'and', 'with', 'around', 'one', 'in', 'three', 'Europeans', 'still', 'unvaccinated', ',', 'it', 'is', 'not', 'so', 'much', 'hesitancy', 'that', 'European', 'governments', 'are', 'now', 'facing', 'as', 'outright', 'opposition', ',', 'with', 'the', 'danger', 'that', 'as', 'governments', 'get', 'tougher', 'so', 'too', 'will', 'popular', 'anger', 'towards', 'them', '.', 'The', 'crucial', 'question', 'of', 'trust', 'Only', '19', '%', 'of', 'Europeans', 'include', 'their', 'government', 'among', 'their', 'most', 'trusted', 'sources', 'of', 'reliable', 'information', 'on', 'Covid-19', 'vaccines', ',', 'according', 'to', 'a', 'survey', 'conducted', 'in', 'May', '2021', 'by', 'the', 'European', 'Barometer', ',', 'a', 'collection', 'of', 'cross-country', 'public', 'opinion', 'surveys', 'conducted', 'regularly', 'on', 'behalf', 'of', 'the', 'EU', \"'s\", 'institutions', '.', 'Even', 'before', 'the', 'pandemic', ',', 'vaccine', 'hesitancy', 'in', 'Europe', 'was', 'strongly', 'correlated', 'to', 'a', 'populist', 'distrust', 'of', 'mainstream', 'parties', 'and', 'governments', '.', 'One', 'study', 'published', 'in', 'the', 'European', 'Journal', 'of', 'Public', 'Health', 'in', '2019', 'found', '``', 'a', 'highly', 'significant', 'positive', 'association', 'between', 'the', 'percentage', 'of', 'people', 'in', 'a', 'country', 'who', 'voted', 'for', 'populist', 'parties', 'and', 'the', 'percentage', 'who', 'believe', 'that', 'vaccines', 'are', 'not', 'important', 'and', 'not', 'effective', '.', \"''\", 'What', 'the', 'pandemic', 'has', 'provided', 'is', 'a', 'Europe-wide', 'real-time', 'test', 'of', 'that', 'correlation', '.', 'Nearly', 'two', 'years', 'in', 'and', 'with', 'most', 'countries', 'having', 'exhausted', 'what', 'means', 'they', 'had', 'of', 'encouraging', 'people', 'to', 'get', 'vaccinated', ',', 'the', 'map', 'of', 'those', 'who', 'remain', 'unvaccinated', 'shows', 'that', 'where', 'there', 'is', 'distrust', 'in', 'government', 'and', 'traditional', 'political', 'parties', '--', 'as', 'measured', 'by', 'the', 'strength', 'of', 'populist', 'movements', '--', 'many', 'people', 'have', 'yet', 'to', 'get', 'vaccinated', '.', 'Essentially', ',', 'people', 'who', 'trust', 'institutions', 'need', 'no', 'convincing', 'in', 'the', 'face', 'of', 'a', 'pandemic', ';', 'people', 'who', 'do', \"n't\", 'are', 'unlikely', 'to', 'be', 'influenced', 'at', 'all', '.', 'Bodies', 'pile', 'up', 'outside', 'hospital', 'morgue', 'as', 'Romania', 'struggles', 'with', 'fourth', 'wave', 'of', 'Covid', 'Bodies', 'pile', 'up', 'outside', 'hospital', 'morgue', 'as', 'Romania', 'struggles', 'with', 'fourth', 'wave', 'of', 'Covid', 'Eastern', 'Europe', 'is', 'where', 'vaccination', 'rates', 'are', 'the', 'lowest', '.', 'Bulgaria', 'has', 'the', 'lowest', 'rate', 'of', 'all', ',', 'with', 'just', '26.6', '%', 'of', 'the', 'total', 'population', 'vaccinated', ',', 'according', 'to', 'government', 'data', '.', 'The', 'country', 'has', 'also', 'been', 'going', 'through', 'a', 'major', 'political', 'crisis', 'with', 'three', 'parliamentary', 'elections', 'held', 'this', 'year', '.', 'Difficulties', 'with', 'vaccine', 'rollouts', 'and', 'in', 'reaching', 'more', 'remote', 'and', 'elderly', 'rural', 'populations', 'are', 'also', 'to', 'blame', 'in', 'Eastern', 'Europe', ',', 'but', 'in', 'some', 'of', 'the', 'countries', 'where', 'vaccine', 'take-up', 'has', 'been', 'lowest', ',', 'populist', 'parties', 'are', 'either', 'in', 'power', 'or', 'strong', 'electorally', '.', 'Further', 'west', ',', 'lower', 'vaccination', 'rates', 'are', 'also', 'to', 'be', 'found', 'in', 'countries', 'and', 'regions', 'with', 'either', 'popular', 'or', 'voluble', 'populist', 'or', 'extremist', 'movements', ',', 'as', 'in', 'Germany', ',', 'Austria', 'and', 'Northern', 'Italy', '.', 'In', 'a', 'paper', 'published', 'by', 'the', 'journal', 'Psychological', 'Medicine', 'in', 'October', ',', 'Michele', 'Roccato', 'and', 'Silvia', 'Russo', 'from', 'the', 'University', 'of', 'Turin', 'argue', 'that', 'their', 'study', 'shows', '``', 'people', 'with', 'a', 'populist', 'orientation', 'tend', 'to', 'refuse', 'the', 'Covid-19', 'vaccine', ',', 'in', 'line', 'with', 'previous', 'research', 'showing', 'that', 'vaccine', 'refusal', 'is', 'often', 'politicized', ',', 'but', 'that', 'its', 'politicization', 'is', 'not', 'limited', 'to', 'the', 'traditional', 'left-right', 'cleavage', '.', \"''\", 'A', 'new', 'common', 'enemy', 'Sophie', 'Tissier', ',', 'who', 'organizes', 'protests', 'against', 'Covid-19', 'restrictions', 'and', 'vaccines', 'in', 'France', ',', 'says', 'that', 'these', 'protests', 'have', 'created', 'a', 'new', 'political', 'force', 'that', 'is', 'radical', 'but', 'goes', 'beyond', 'party', 'political', 'lines', '.', 'She', 'says', 'her', 'group', 'seeks', 'to', '``', 'create', 'a', 'citizens', \"'\", 'opposition', 'which', 'is', 'beyond', 'electoral', 'considerations', 'and', 'much', 'more', 'like', 'a', 'watchdog', 'that', 'sits', 'outside', 'the', 'world', 'of', 'politics', 'to', 'be', 'able', 'to', 'tell', 'it', ':', \"'Look\", 'here', ',', 'you', 'are', 'no', 'longer', 'protecting', 'our', 'rights', ',', 'you', 'are', 'no', 'longer', 'protecting', 'our', 'rights', 'under', 'the', 'law', '.', \"'\", \"''\", 'Demonstrators', 'march', 'during', 'a', 'protest', 'against', 'coronavirus', 'measures', 'in', 'Brussels', ',', 'Belgium', ',', 'on', 'December', '5', ',', '2021', '.', 'Demonstrators', 'march', 'during', 'a', 'protest', 'against', 'coronavirus', 'measures', 'in', 'Brussels', ',', 'Belgium', ',', 'on', 'December', '5', ',', '2021', '.', 'In', 'August', ',', 'more', 'than', '230,000', 'people', 'took', 'to', 'the', 'streets', 'across', 'the', 'country', 'in', 'one', 'day', 'after', 'France', 'became', 'one', 'of', 'the', 'first', 'European', 'countries', 'to', 'announce', 'the', 'use', 'of', 'relatively', 'strict', 'vaccine', 'passes', '.', '``', 'It', 'really', 'set', 'things', 'alight', 'because', 'people', 'realized', 'that', 'life', 'as', 'it', 'was', ',', 'was', 'coming', 'to', 'an', 'end', ',', \"''\", 'she', 'said', '.', '``', 'People', 'would', 'no', 'longer', 'be', 'free', ',', 'or', 'able', 'to', 'go', 'out', 'as', 'they', 'did', '.', \"''\", 'Since', 'then', ',', 'protests', 'have', 'tapered', 'off', 'in', 'France', ',', 'partly', 'because', 'no', 'mainstream', 'party', 'has', 'been', 'openly', 'encouraging', 'its', 'supporters', 'to', 'join', 'them', '.', 'France', \"'s\", 'vaccine', 'rates', 'are', 'among', 'the', 'highest', 'in', 'Europe', ',', 'suggesting', 'that', 'even', 'in', 'countries', 'where', 'there', 'is', 'strong', 'vaccine', 'hesitancy', '--', 'as', 'there', 'was', 'in', 'France', 'even', 'before', 'the', 'pandemic', '--', 'far-right', 'or', 'populist', 'parties', \"'\", 'stance', 'on', 'the', 'vaccine', 'can', 'have', 'an', 'impact', '.', 'Elsewhere', 'in', 'Europe', ',', 'such', 'groups', 'are', 'clearly', 'fanning', 'the', 'anti-vaccination', 'flames', '.', 'In', 'Austria', ',', 'several', 'protests', 'planned', 'since', 'the', 'government', 'announced', 'its', 'nationwide', 'vaccine', 'mandate', 'last', 'month', 'have', 'been', 'planned', 'by', 'the', 'far-right', 'Freedom', 'Party', '.', 'The', 'mandate', 'is', 'due', 'to', 'come', 'into', 'force', 'in', 'February', '2022', '.', 'Even', 'as', 'he', 'announced', 'the', 'move', ',', 'Schallenberg', 'accused', 'the', 'Freedom', 'Party', 'of', 'being', 'responsible', 'for', 'the', 'country', \"'s\", 'low', 'vaccination', 'rates', 'and', 'of', 'having', 'stirred', 'up', 'vaccine', 'hesitancy', '.', '``', 'We', 'have', 'too', 'many', 'political', 'forces', 'in', 'this', 'country', 'that', 'are', 'fighting', 'against', '[', 'vaccination', ']', 'vehemently', ',', 'massively', 'and', 'publicly', '.', 'That', 'is', 'irresponsible', ',', \"''\", 'Schallenberg', 'said', ',', 'adding', ':', '``', 'Incited', 'by', 'these', 'radical', 'opponents', 'of', 'vaccination', ',', 'by', 'specious', 'fake', 'news', ',', 'unfortunately', 'too', 'many', 'of', 'us', 'have', 'not', 'been', 'vaccinated', '.', 'The', 'consequence', 'is', 'overcrowded', 'intensive', 'care', 'units', 'and', 'enormous', 'human', 'suffering', '.', \"''\", 'The', 'world', 'has', 'the', 'tools', 'to', 'end', 'the', 'coronavirus', 'pandemic', '.', 'They', '&', '#', '39', ';', 're', 'not', 'being', 'used', 'properly', 'The', 'world', 'has', 'the', 'tools', 'to', 'end', 'the', 'coronavirus', 'pandemic', '.', 'They', \"'re\", 'not', 'being', 'used', 'properly', 'In', 'other', 'European', 'countries', ',', 'populist', 'parties', 'have', 'also', 'jumped', 'on', 'the', 'bandwagon', '.', 'And', 'the', 'divide', 'in', 'opinion', 'over', 'pandemic', 'measures', 'is', 'no', 'longer', 'about', 'extreme', 'left', 'and', 'extreme', 'right', ',', 'said', 'French', 'political', 'scientist', 'Jean-Yves', 'Camus', ',', 'but', '``', 'between', 'the', 'mainstream', 'and', 'the', 'periphery', '.', \"''\", '``', 'It', \"'s\", 'much', 'more', 'about', 'the', 'extreme', ',', \"''\", 'Camus', 'said', '.', '``', 'The', 'most', 'extreme', 'fringe', 'groups', 'taking', 'advantage', 'of', 'the', 'pandemic', 'to', 'say', ':', \"'This\", 'virus', 'is', 'fake', ',', 'there', 'is', 'no', 'pandemic', 'and', 'you', 'are', 'being', 'tricked', 'by', 'your', 'governments', '.', 'It', \"'s\", 'a', 'worldwide', 'conspiracy', 'of', 'your', 'national', 'governments', '.', 'They', 'are', 'using', 'the', 'pandemic', 'to', 'infringe', 'on', 'your', 'individual', 'rights', 'and', 'using', 'vaccination', 'passes', 'to', 'have', 'your', 'personal', 'data', ',', \"'\", 'and', 'so', 'on', '.', \"''\", 'In', 'parts', 'of', 'Eastern', 'Europe', ',', 'but', 'also', 'in', 'and', 'around', 'Germany', '--', 'from', 'Northern', 'Italy', 'to', 'the', 'Netherlands', 'and', 'Austria', '--', 'parties', 'which', 'once', 'focused', 'on', 'immigration', 'or', 'Europe', 'have', 'been', 'tapping', 'into', 'the', 'widespread', 'anger', 'of', 'those', 'opposed', 'to', 'vaccines', 'and', 'Covid-19', 'restrictions', ',', 'shifting', 'their', 'attention', 'to', 'an', 'issue', 'far', 'more', 'likely', 'to', 'appeal', 'to', 'the', 'apolitical', 'and', 'to', 'cut', 'across', 'traditional', 'party', 'political', 'lines', '.', 'Their', 'new', 'enemy', 'is', 'far', 'more', 'federating', ':', 'The', 'Covid-19', 'measures', 'and', 'vaccination', 'campaigns', 'that', 'they', 'say', 'threaten', 'their', 'freedom', '.', 'A', 'protester', 'wearing', 'a', 'mask', 'depicting', 'syringes', 'applauds', 'in', 'Geneva', ',', 'Switzerland', ',', 'on', 'October', '9', ',', '2021', ',', 'during', 'a', 'rally', 'against', 'coronavirus', 'measures', '.', 'A', 'protester', 'wearing', 'a', 'mask', 'depicting', 'syringes', 'applauds', 'in', 'Geneva', ',', 'Switzerland', ',', 'on', 'October', '9', ',', '2021', ',', 'during', 'a', 'rally', 'against', 'coronavirus', 'measures', '.', 'Vaccine', 'mandates', 'The', 'World', 'Health', 'Organization', 'has', 'cautioned', 'against', 'vaccine', 'mandates', ',', 'because', 'of', 'their', 'potential', 'impact', 'on', 'public', 'confidence', 'and', 'public', 'trust', '.', 'Dr', 'Hans', 'Kluge', ',', 'WHO', \"'s\", 'Europe', 'Director', ',', 'said', 'they', 'should', 'be', 'used', 'as', '``', 'an', 'absolute', 'last', 'resort', ',', 'and', 'only', 'applicable', 'when', 'all', 'other', 'feasible', 'options', 'to', 'improve', 'vaccine', 'uptake', 'have', 'been', 'exhausted', '.', \"''\", 'In', 'a', 'part', 'of', 'the', 'world', 'where', 'the', 'fight', 'against', 'the', 'pandemic', 'has', 'already', 'been', 'hampered', 'by', 'vaccine', 'hesitancy', ',', 'such', 'mandates', 'could', 'fuel', 'more', 'resistance', '.', '``', 'The', 'worry', 'is', 'that', 'anti-vaxxers', 'could', 'come', 'to', 'hold', 'even', 'more', 'extreme', 'positions', ',', \"''\", 'said', 'Russo', ',', 'of', 'the', 'University', 'of', 'Turin', '.', '``', 'That', \"'s\", 'one', 'risk', '.', 'But', 'we', 'should', 'also', 'consider', 'that', 'where', 'vaccines', 'become', 'mandatory', ',', 'there', 'will', 'need', 'to', 'be', 'controls', 'and', 'that', 'could', 'further', 'undermine', 'institutional', 'trust.', '``', 'In', 'other', 'words', ',', 'forced', 'vaccination', 'might', 'push', 'people', 'into', 'vaccination', 'centers', 'but', 'it', 'will', 'also', 'drive', 'some', 'of', 'them', 'to', 'the', 'streets', ',', 'confirming', 'and', 'further', 'fueling', 'their', 'deeply', 'held', 'suspicion', 'of', '``', 'the', 'system', '.', \"''\", 'The', 'fight', 'against', 'the', 'pandemic', 'may', 'one', 'day', 'come', 'to', 'an', 'end', ',', 'but', 'the', 'fight', 'against', 'populism', 'in', 'Europe', 'could', 'be', 'just', 'beginning', '.']\n"
     ]
    }
   ],
   "source": [
    "tokenized_word=word_tokenize(text)\n",
    "print(tokenized_word)"
   ]
  },
  {
   "cell_type": "code",
   "execution_count": 17,
   "id": "805d749d",
   "metadata": {
    "ExecuteTime": {
     "end_time": "2022-04-27T10:15:38.823719Z",
     "start_time": "2022-04-27T10:15:38.797629Z"
    }
   },
   "outputs": [
    {
     "name": "stdout",
     "output_type": "stream",
     "text": [
      "<FreqDist with 574 samples and 1562 outcomes>\n"
     ]
    }
   ],
   "source": [
    "fdist = FreqDist(tokenized_word)\n",
    "print(fdist)"
   ]
  },
  {
   "cell_type": "code",
   "execution_count": 18,
   "id": "73044b3a",
   "metadata": {
    "ExecuteTime": {
     "end_time": "2022-04-27T10:15:38.854566Z",
     "start_time": "2022-04-27T10:15:38.828535Z"
    }
   },
   "outputs": [
    {
     "data": {
      "text/plain": [
       "[(',', 74),\n",
       " ('the', 62),\n",
       " ('.', 52),\n",
       " ('of', 40),\n",
       " ('to', 37),\n",
       " ('in', 36),\n",
       " ('and', 32),\n",
       " ('a', 21),\n",
       " ('that', 19),\n",
       " ('is', 17),\n",
       " (\"''\", 15),\n",
       " ('vaccine', 15),\n",
       " ('``', 15),\n",
       " ('are', 14),\n",
       " ('have', 13),\n",
       " ('as', 13),\n",
       " ('on', 12),\n",
       " ('pandemic', 12),\n",
       " ('Europe', 11),\n",
       " ('vaccination', 11),\n",
       " ('with', 11),\n",
       " ('The', 11),\n",
       " ('people', 10),\n",
       " ('has', 10),\n",
       " ('against', 10),\n",
       " ('not', 8),\n",
       " (\"'s\", 8),\n",
       " ('by', 8),\n",
       " ('populist', 8),\n",
       " ('been', 8)]"
      ]
     },
     "execution_count": 18,
     "metadata": {},
     "output_type": "execute_result"
    }
   ],
   "source": [
    "fdist.most_common(30) #frequència de les 30 'paraules' més trobades"
   ]
  },
  {
   "cell_type": "code",
   "execution_count": 19,
   "id": "6891e041",
   "metadata": {
    "ExecuteTime": {
     "end_time": "2022-04-27T10:15:39.477002Z",
     "start_time": "2022-04-27T10:15:38.859677Z"
    }
   },
   "outputs": [
    {
     "data": {
      "image/png": "[encoded data removed]",
      "text/plain": [
       "<Figure size 432x288 with 1 Axes>"
      ]
     },
     "metadata": {
      "needs_background": "light"
     },
     "output_type": "display_data"
    }
   ],
   "source": [
    "# Frequency Distribution Plot\n",
    "\n",
    "fdist.plot(30,cumulative=False)\n",
    "plt.show()"
   ]
  },
  {
   "cell_type": "markdown",
   "id": "be4b5632",
   "metadata": {},
   "source": [
    "Trobo que les paraules de menys de tres lletres no hi haurien de ser perquè són majoritariament connectors. Provem en eliminar-les."
   ]
  },
  {
   "cell_type": "code",
   "execution_count": 20,
   "id": "1f10dffe",
   "metadata": {
    "ExecuteTime": {
     "end_time": "2022-04-27T10:15:39.507742Z",
     "start_time": "2022-04-27T10:15:39.483806Z"
    }
   },
   "outputs": [
    {
     "data": {
      "text/plain": [
       "574"
      ]
     },
     "execution_count": 20,
     "metadata": {},
     "output_type": "execute_result"
    }
   ],
   "source": [
    " len(fdist)"
   ]
  },
  {
   "cell_type": "code",
   "execution_count": 21,
   "id": "3bc605c9",
   "metadata": {
    "ExecuteTime": {
     "end_time": "2022-04-27T10:15:39.538660Z",
     "start_time": "2022-04-27T10:15:39.512969Z"
    }
   },
   "outputs": [
    {
     "data": {
      "text/plain": [
       "475"
      ]
     },
     "execution_count": 21,
     "metadata": {},
     "output_type": "execute_result"
    }
   ],
   "source": [
    "delete_list=[]\n",
    "for i in fdist.keys():\n",
    "    if len(i)<=3:\n",
    "        delete_list.append(i)\n",
    "for i in delete_list:\n",
    "    del fdist[i]\n",
    "len(fdist)"
   ]
  },
  {
   "cell_type": "markdown",
   "id": "e1c1841b",
   "metadata": {},
   "source": [
    "S'eliminen 99 entrades."
   ]
  },
  {
   "cell_type": "code",
   "execution_count": 22,
   "id": "b3ac01a5",
   "metadata": {
    "ExecuteTime": {
     "end_time": "2022-04-27T10:15:40.203720Z",
     "start_time": "2022-04-27T10:15:39.543302Z"
    }
   },
   "outputs": [
    {
     "data": {
      "image/png": "[encoded data removed]",
      "text/plain": [
       "<Figure size 432x288 with 1 Axes>"
      ]
     },
     "metadata": {
      "needs_background": "light"
     },
     "output_type": "display_data"
    }
   ],
   "source": [
    "fdist.plot(30,cumulative=False)\n",
    "plt.show()"
   ]
  },
  {
   "cell_type": "markdown",
   "id": "effa1a8d",
   "metadata": {},
   "source": [
    "Penso que aquesta taula ens aporta més imformació que la previa ren referencia al que s'està parlant, tot i que algo d'informació es pot perdre amb paraules curtes de tres lletres o bé en conjuncions que podrien donar sentiment: no, not, yes, but,..."
   ]
  },
  {
   "cell_type": "markdown",
   "id": "8496cfc3",
   "metadata": {},
   "source": [
    "## Nivell 2"
   ]
  },
  {
   "cell_type": "markdown",
   "id": "72163d27",
   "metadata": {},
   "source": [
    " **- Exercici 3:** Treu les stopwords i realitza stemming al teu conjunt de dades.\n"
   ]
  },
  {
   "cell_type": "code",
   "execution_count": 23,
   "id": "338cf529",
   "metadata": {
    "ExecuteTime": {
     "end_time": "2022-04-27T10:15:40.235840Z",
     "start_time": "2022-04-27T10:15:40.208573Z"
    }
   },
   "outputs": [
    {
     "name": "stdout",
     "output_type": "stream",
     "text": [
      "{'does', 'only', 'o', 'over', 'at', 'for', 'once', 'ma', 'y', 'mustn', 'be', 'then', 'he', 'above', 'than', 'just', 'how', 'am', 'now', 'under', 'your', \"hadn't\", 'it', 'was', 'to', 'hasn', 'have', 'we', 'between', 'or', 'theirs', 'each', 'isn', 'while', 'do', 'where', 'with', 'can', 'the', 'this', 'about', 'further', 'that', 'again', 'during', \"that'll\", 'those', 'are', 'why', \"shan't\", \"wasn't\", 'himself', 'more', 'yourself', 'few', 'wasn', 'our', 'his', 'my', \"aren't\", 'you', \"you're\", 'nor', 'into', 'not', 'and', 'has', 'both', \"didn't\", 'been', \"doesn't\", 'm', \"she's\", 'these', \"don't\", 'couldn', \"couldn't\", 'is', 'ain', 'after', 'her', 'mightn', 'own', \"isn't\", 'but', 'as', 'needn', 'she', 'had', \"weren't\", 'here', 't', 'haven', 'against', 'when', 've', 'were', 'an', \"mightn't\", 'ours', 'yours', 'their', 'herself', 'no', 're', 'what', 'all', 'such', 'ourselves', 'most', 'down', 'on', 'yourselves', \"you'll\", 'its', 'themselves', 'other', \"haven't\", 'through', 's', 'will', 'having', 'being', 'who', 'whom', 'aren', 'weren', 'hers', 'won', 'up', 'off', 'if', 'd', 'i', 'there', \"needn't\", 'll', \"hasn't\", 'doing', 'shan', 'didn', 'too', 'because', 'itself', \"wouldn't\", 'myself', 'don', 'them', 'some', 'a', \"should've\", 'should', 'out', 'which', \"mustn't\", 'any', 'doesn', \"shouldn't\", \"you'd\", 'him', \"it's\", 'wouldn', 'by', 'below', 'so', \"you've\", 'very', 'shouldn', 'from', 'did', 'hadn', 'me', 'same', \"won't\", 'they', 'before', 'of', 'until', 'in'}\n"
     ]
    }
   ],
   "source": [
    "stop_words=set(stopwords.words(\"english\"))\n",
    "print(stop_words)"
   ]
  },
  {
   "cell_type": "code",
   "execution_count": 24,
   "id": "d62c8fb3",
   "metadata": {
    "ExecuteTime": {
     "end_time": "2022-04-27T10:15:40.267629Z",
     "start_time": "2022-04-27T10:15:40.240624Z"
    },
    "scrolled": true
   },
   "outputs": [
    {
     "name": "stdout",
     "output_type": "stream",
     "text": [
      "Tokenized Word: ['Paris', '(', 'CNN', ')', \"''\", 'Despite', 'months', 'persuasion', ',', 'despite', 'intensive', 'media', 'campaigns', ',', 'despite', 'discussions', 'various', 'media', 'succeeded', 'convincing', 'enough', 'people', 'get', 'vaccinated', '.', \"''\", 'Those', 'words', 'former', 'Austrian', 'Chancellor', 'Alexander', 'Schallenberg', 'last', 'month', 'announced', 'first', 'nationwide', 'vaccine', 'mandate', 'Europe', '.', 'Now', ',', 'Germany', 'looks', 'set', 'follow', 'Austria', 'led', '.', 'Others', 'made', 'vaccines', 'mandatory', 'parts', 'population', 'imposed', 'restrictions', 'increasingly', 'explicitly', 'target', 'unvaccinated', ',', 'Europe', 'battles', 'twin', 'challenges', 'sharply', 'rising', 'Covid', 'figures', 'plateauing', 'vaccination', 'rates', '.', 'Nearly', 'one', 'year', 'EU', \"'s\", 'vaccination', 'campaign', ',', 'around', 'one', 'three', 'Europeans', 'still', 'unvaccinated', ',', 'much', 'hesitancy', 'European', 'governments', 'facing', 'outright', 'opposition', ',', 'danger', 'governments', 'get', 'tougher', 'popular', 'anger', 'towards', '.', 'The', 'crucial', 'question', 'trust', 'Only', '19', '%', 'Europeans', 'include', 'government', 'among', 'trusted', 'sources', 'reliable', 'information', 'Covid-19', 'vaccines', ',', 'according', 'survey', 'conducted', 'May', '2021', 'European', 'Barometer', ',', 'collection', 'cross-country', 'public', 'opinion', 'surveys', 'conducted', 'regularly', 'behalf', 'EU', \"'s\", 'institutions', '.', 'Even', 'pandemic', ',', 'vaccine', 'hesitancy', 'Europe', 'strongly', 'correlated', 'populist', 'distrust', 'mainstream', 'parties', 'governments', '.', 'One', 'study', 'published', 'European', 'Journal', 'Public', 'Health', '2019', 'found', '``', 'highly', 'significant', 'positive', 'association', 'percentage', 'people', 'country', 'voted', 'populist', 'parties', 'percentage', 'believe', 'vaccines', 'important', 'effective', '.', \"''\", 'What', 'pandemic', 'provided', 'Europe-wide', 'real-time', 'test', 'correlation', '.', 'Nearly', 'two', 'years', 'countries', 'exhausted', 'means', 'encouraging', 'people', 'get', 'vaccinated', ',', 'map', 'remain', 'unvaccinated', 'shows', 'distrust', 'government', 'traditional', 'political', 'parties', '--', 'measured', 'strength', 'populist', 'movements', '--', 'many', 'people', 'yet', 'get', 'vaccinated', '.', 'Essentially', ',', 'people', 'trust', 'institutions', 'need', 'convincing', 'face', 'pandemic', ';', 'people', \"n't\", 'unlikely', 'influenced', '.', 'Bodies', 'pile', 'outside', 'hospital', 'morgue', 'Romania', 'struggles', 'fourth', 'wave', 'Covid', 'Bodies', 'pile', 'outside', 'hospital', 'morgue', 'Romania', 'struggles', 'fourth', 'wave', 'Covid', 'Eastern', 'Europe', 'vaccination', 'rates', 'lowest', '.', 'Bulgaria', 'lowest', 'rate', ',', '26.6', '%', 'total', 'population', 'vaccinated', ',', 'according', 'government', 'data', '.', 'The', 'country', 'also', 'going', 'major', 'political', 'crisis', 'three', 'parliamentary', 'elections', 'held', 'year', '.', 'Difficulties', 'vaccine', 'rollouts', 'reaching', 'remote', 'elderly', 'rural', 'populations', 'also', 'blame', 'Eastern', 'Europe', ',', 'countries', 'vaccine', 'take-up', 'lowest', ',', 'populist', 'parties', 'either', 'power', 'strong', 'electorally', '.', 'Further', 'west', ',', 'lower', 'vaccination', 'rates', 'also', 'found', 'countries', 'regions', 'either', 'popular', 'voluble', 'populist', 'extremist', 'movements', ',', 'Germany', ',', 'Austria', 'Northern', 'Italy', '.', 'In', 'paper', 'published', 'journal', 'Psychological', 'Medicine', 'October', ',', 'Michele', 'Roccato', 'Silvia', 'Russo', 'University', 'Turin', 'argue', 'study', 'shows', '``', 'people', 'populist', 'orientation', 'tend', 'refuse', 'Covid-19', 'vaccine', ',', 'line', 'previous', 'research', 'showing', 'vaccine', 'refusal', 'often', 'politicized', ',', 'politicization', 'limited', 'traditional', 'left-right', 'cleavage', '.', \"''\", 'A', 'new', 'common', 'enemy', 'Sophie', 'Tissier', ',', 'organizes', 'protests', 'Covid-19', 'restrictions', 'vaccines', 'France', ',', 'says', 'protests', 'created', 'new', 'political', 'force', 'radical', 'goes', 'beyond', 'party', 'political', 'lines', '.', 'She', 'says', 'group', 'seeks', '``', 'create', 'citizens', \"'\", 'opposition', 'beyond', 'electoral', 'considerations', 'much', 'like', 'watchdog', 'sits', 'outside', 'world', 'politics', 'able', 'tell', ':', \"'Look\", ',', 'longer', 'protecting', 'rights', ',', 'longer', 'protecting', 'rights', 'law', '.', \"'\", \"''\", 'Demonstrators', 'march', 'protest', 'coronavirus', 'measures', 'Brussels', ',', 'Belgium', ',', 'December', '5', ',', '2021', '.', 'Demonstrators', 'march', 'protest', 'coronavirus', 'measures', 'Brussels', ',', 'Belgium', ',', 'December', '5', ',', '2021', '.', 'In', 'August', ',', '230,000', 'people', 'took', 'streets', 'across', 'country', 'one', 'day', 'France', 'became', 'one', 'first', 'European', 'countries', 'announce', 'use', 'relatively', 'strict', 'vaccine', 'passes', '.', '``', 'It', 'really', 'set', 'things', 'alight', 'people', 'realized', 'life', ',', 'coming', 'end', ',', \"''\", 'said', '.', '``', 'People', 'would', 'longer', 'free', ',', 'able', 'go', '.', \"''\", 'Since', ',', 'protests', 'tapered', 'France', ',', 'partly', 'mainstream', 'party', 'openly', 'encouraging', 'supporters', 'join', '.', 'France', \"'s\", 'vaccine', 'rates', 'among', 'highest', 'Europe', ',', 'suggesting', 'even', 'countries', 'strong', 'vaccine', 'hesitancy', '--', 'France', 'even', 'pandemic', '--', 'far-right', 'populist', 'parties', \"'\", 'stance', 'vaccine', 'impact', '.', 'Elsewhere', 'Europe', ',', 'groups', 'clearly', 'fanning', 'anti-vaccination', 'flames', '.', 'In', 'Austria', ',', 'several', 'protests', 'planned', 'since', 'government', 'announced', 'nationwide', 'vaccine', 'mandate', 'last', 'month', 'planned', 'far-right', 'Freedom', 'Party', '.', 'The', 'mandate', 'due', 'come', 'force', 'February', '2022', '.', 'Even', 'announced', 'move', ',', 'Schallenberg', 'accused', 'Freedom', 'Party', 'responsible', 'country', \"'s\", 'low', 'vaccination', 'rates', 'stirred', 'vaccine', 'hesitancy', '.', '``', 'We', 'many', 'political', 'forces', 'country', 'fighting', '[', 'vaccination', ']', 'vehemently', ',', 'massively', 'publicly', '.', 'That', 'irresponsible', ',', \"''\", 'Schallenberg', 'said', ',', 'adding', ':', '``', 'Incited', 'radical', 'opponents', 'vaccination', ',', 'specious', 'fake', 'news', ',', 'unfortunately', 'many', 'us', 'vaccinated', '.', 'The', 'consequence', 'overcrowded', 'intensive', 'care', 'units', 'enormous', 'human', 'suffering', '.', \"''\", 'The', 'world', 'tools', 'end', 'coronavirus', 'pandemic', '.', 'They', '&', '#', '39', ';', 'used', 'properly', 'The', 'world', 'tools', 'end', 'coronavirus', 'pandemic', '.', 'They', \"'re\", 'used', 'properly', 'In', 'European', 'countries', ',', 'populist', 'parties', 'also', 'jumped', 'bandwagon', '.', 'And', 'divide', 'opinion', 'pandemic', 'measures', 'longer', 'extreme', 'left', 'extreme', 'right', ',', 'said', 'French', 'political', 'scientist', 'Jean-Yves', 'Camus', ',', '``', 'mainstream', 'periphery', '.', \"''\", '``', 'It', \"'s\", 'much', 'extreme', ',', \"''\", 'Camus', 'said', '.', '``', 'The', 'extreme', 'fringe', 'groups', 'taking', 'advantage', 'pandemic', 'say', ':', \"'This\", 'virus', 'fake', ',', 'pandemic', 'tricked', 'governments', '.', 'It', \"'s\", 'worldwide', 'conspiracy', 'national', 'governments', '.', 'They', 'using', 'pandemic', 'infringe', 'individual', 'rights', 'using', 'vaccination', 'passes', 'personal', 'data', ',', \"'\", '.', \"''\", 'In', 'parts', 'Eastern', 'Europe', ',', 'also', 'around', 'Germany', '--', 'Northern', 'Italy', 'Netherlands', 'Austria', '--', 'parties', 'focused', 'immigration', 'Europe', 'tapping', 'widespread', 'anger', 'opposed', 'vaccines', 'Covid-19', 'restrictions', ',', 'shifting', 'attention', 'issue', 'far', 'likely', 'appeal', 'apolitical', 'cut', 'across', 'traditional', 'party', 'political', 'lines', '.', 'Their', 'new', 'enemy', 'far', 'federating', ':', 'The', 'Covid-19', 'measures', 'vaccination', 'campaigns', 'say', 'threaten', 'freedom', '.', 'A', 'protester', 'wearing', 'mask', 'depicting', 'syringes', 'applauds', 'Geneva', ',', 'Switzerland', ',', 'October', '9', ',', '2021', ',', 'rally', 'coronavirus', 'measures', '.', 'A', 'protester', 'wearing', 'mask', 'depicting', 'syringes', 'applauds', 'Geneva', ',', 'Switzerland', ',', 'October', '9', ',', '2021', ',', 'rally', 'coronavirus', 'measures', '.', 'Vaccine', 'mandates', 'The', 'World', 'Health', 'Organization', 'cautioned', 'vaccine', 'mandates', ',', 'potential', 'impact', 'public', 'confidence', 'public', 'trust', '.', 'Dr', 'Hans', 'Kluge', ',', 'WHO', \"'s\", 'Europe', 'Director', ',', 'said', 'used', '``', 'absolute', 'last', 'resort', ',', 'applicable', 'feasible', 'options', 'improve', 'vaccine', 'uptake', 'exhausted', '.', \"''\", 'In', 'part', 'world', 'fight', 'pandemic', 'already', 'hampered', 'vaccine', 'hesitancy', ',', 'mandates', 'could', 'fuel', 'resistance', '.', '``', 'The', 'worry', 'anti-vaxxers', 'could', 'come', 'hold', 'even', 'extreme', 'positions', ',', \"''\", 'said', 'Russo', ',', 'University', 'Turin', '.', '``', 'That', \"'s\", 'one', 'risk', '.', 'But', 'also', 'consider', 'vaccines', 'become', 'mandatory', ',', 'need', 'controls', 'could', 'undermine', 'institutional', 'trust.', '``', 'In', 'words', ',', 'forced', 'vaccination', 'might', 'push', 'people', 'vaccination', 'centers', 'also', 'drive', 'streets', ',', 'confirming', 'fueling', 'deeply', 'held', 'suspicion', '``', 'system', '.', \"''\", 'The', 'fight', 'pandemic', 'may', 'one', 'day', 'come', 'end', ',', 'fight', 'populism', 'Europe', 'could', 'beginning', '.']\n"
     ]
    }
   ],
   "source": [
    "filtered_words=[]\n",
    "for w in tokenized_word:\n",
    "    if w not in stop_words:\n",
    "        filtered_words.append(w)\n",
    "print(\"Tokenized Word:\",filtered_words)"
   ]
  },
  {
   "cell_type": "code",
   "execution_count": 25,
   "id": "9159550e",
   "metadata": {
    "ExecuteTime": {
     "end_time": "2022-04-27T10:15:40.283177Z",
     "start_time": "2022-04-27T10:15:40.271645Z"
    }
   },
   "outputs": [
    {
     "name": "stdout",
     "output_type": "stream",
     "text": [
      "La llista inicial tenia 1562 elements i sense stop words en té 1005.\n"
     ]
    }
   ],
   "source": [
    "print(f'La llista inicial tenia {len(tokenized_word)} elements i sense stop words en té {len(filtered_words)}.')"
   ]
  },
  {
   "cell_type": "code",
   "execution_count": 26,
   "id": "51ac63cd",
   "metadata": {
    "ExecuteTime": {
     "end_time": "2022-04-27T10:15:40.375341Z",
     "start_time": "2022-04-27T10:15:40.287578Z"
    }
   },
   "outputs": [
    {
     "name": "stdout",
     "output_type": "stream",
     "text": [
      "Filtered Sentence: ['Paris', '(', 'CNN', ')', \"''\", 'Despite', 'months', 'persuasion', ',', 'despite', 'intensive', 'media', 'campaigns', ',', 'despite', 'discussions', 'various', 'media', 'succeeded', 'convincing', 'enough', 'people', 'get', 'vaccinated', '.', \"''\", 'Those', 'words', 'former', 'Austrian', 'Chancellor', 'Alexander', 'Schallenberg', 'last', 'month', 'announced', 'first', 'nationwide', 'vaccine', 'mandate', 'Europe', '.', 'Now', ',', 'Germany', 'looks', 'set', 'follow', 'Austria', 'led', '.', 'Others', 'made', 'vaccines', 'mandatory', 'parts', 'population', 'imposed', 'restrictions', 'increasingly', 'explicitly', 'target', 'unvaccinated', ',', 'Europe', 'battles', 'twin', 'challenges', 'sharply', 'rising', 'Covid', 'figures', 'plateauing', 'vaccination', 'rates', '.', 'Nearly', 'one', 'year', 'EU', \"'s\", 'vaccination', 'campaign', ',', 'around', 'one', 'three', 'Europeans', 'still', 'unvaccinated', ',', 'much', 'hesitancy', 'European', 'governments', 'facing', 'outright', 'opposition', ',', 'danger', 'governments', 'get', 'tougher', 'popular', 'anger', 'towards', '.', 'The', 'crucial', 'question', 'trust', 'Only', '19', '%', 'Europeans', 'include', 'government', 'among', 'trusted', 'sources', 'reliable', 'information', 'Covid-19', 'vaccines', ',', 'according', 'survey', 'conducted', 'May', '2021', 'European', 'Barometer', ',', 'collection', 'cross-country', 'public', 'opinion', 'surveys', 'conducted', 'regularly', 'behalf', 'EU', \"'s\", 'institutions', '.', 'Even', 'pandemic', ',', 'vaccine', 'hesitancy', 'Europe', 'strongly', 'correlated', 'populist', 'distrust', 'mainstream', 'parties', 'governments', '.', 'One', 'study', 'published', 'European', 'Journal', 'Public', 'Health', '2019', 'found', '``', 'highly', 'significant', 'positive', 'association', 'percentage', 'people', 'country', 'voted', 'populist', 'parties', 'percentage', 'believe', 'vaccines', 'important', 'effective', '.', \"''\", 'What', 'pandemic', 'provided', 'Europe-wide', 'real-time', 'test', 'correlation', '.', 'Nearly', 'two', 'years', 'countries', 'exhausted', 'means', 'encouraging', 'people', 'get', 'vaccinated', ',', 'map', 'remain', 'unvaccinated', 'shows', 'distrust', 'government', 'traditional', 'political', 'parties', '--', 'measured', 'strength', 'populist', 'movements', '--', 'many', 'people', 'yet', 'get', 'vaccinated', '.', 'Essentially', ',', 'people', 'trust', 'institutions', 'need', 'convincing', 'face', 'pandemic', ';', 'people', \"n't\", 'unlikely', 'influenced', '.', 'Bodies', 'pile', 'outside', 'hospital', 'morgue', 'Romania', 'struggles', 'fourth', 'wave', 'Covid', 'Bodies', 'pile', 'outside', 'hospital', 'morgue', 'Romania', 'struggles', 'fourth', 'wave', 'Covid', 'Eastern', 'Europe', 'vaccination', 'rates', 'lowest', '.', 'Bulgaria', 'lowest', 'rate', ',', '26.6', '%', 'total', 'population', 'vaccinated', ',', 'according', 'government', 'data', '.', 'The', 'country', 'also', 'going', 'major', 'political', 'crisis', 'three', 'parliamentary', 'elections', 'held', 'year', '.', 'Difficulties', 'vaccine', 'rollouts', 'reaching', 'remote', 'elderly', 'rural', 'populations', 'also', 'blame', 'Eastern', 'Europe', ',', 'countries', 'vaccine', 'take-up', 'lowest', ',', 'populist', 'parties', 'either', 'power', 'strong', 'electorally', '.', 'Further', 'west', ',', 'lower', 'vaccination', 'rates', 'also', 'found', 'countries', 'regions', 'either', 'popular', 'voluble', 'populist', 'extremist', 'movements', ',', 'Germany', ',', 'Austria', 'Northern', 'Italy', '.', 'In', 'paper', 'published', 'journal', 'Psychological', 'Medicine', 'October', ',', 'Michele', 'Roccato', 'Silvia', 'Russo', 'University', 'Turin', 'argue', 'study', 'shows', '``', 'people', 'populist', 'orientation', 'tend', 'refuse', 'Covid-19', 'vaccine', ',', 'line', 'previous', 'research', 'showing', 'vaccine', 'refusal', 'often', 'politicized', ',', 'politicization', 'limited', 'traditional', 'left-right', 'cleavage', '.', \"''\", 'A', 'new', 'common', 'enemy', 'Sophie', 'Tissier', ',', 'organizes', 'protests', 'Covid-19', 'restrictions', 'vaccines', 'France', ',', 'says', 'protests', 'created', 'new', 'political', 'force', 'radical', 'goes', 'beyond', 'party', 'political', 'lines', '.', 'She', 'says', 'group', 'seeks', '``', 'create', 'citizens', \"'\", 'opposition', 'beyond', 'electoral', 'considerations', 'much', 'like', 'watchdog', 'sits', 'outside', 'world', 'politics', 'able', 'tell', ':', \"'Look\", ',', 'longer', 'protecting', 'rights', ',', 'longer', 'protecting', 'rights', 'law', '.', \"'\", \"''\", 'Demonstrators', 'march', 'protest', 'coronavirus', 'measures', 'Brussels', ',', 'Belgium', ',', 'December', '5', ',', '2021', '.', 'Demonstrators', 'march', 'protest', 'coronavirus', 'measures', 'Brussels', ',', 'Belgium', ',', 'December', '5', ',', '2021', '.', 'In', 'August', ',', '230,000', 'people', 'took', 'streets', 'across', 'country', 'one', 'day', 'France', 'became', 'one', 'first', 'European', 'countries', 'announce', 'use', 'relatively', 'strict', 'vaccine', 'passes', '.', '``', 'It', 'really', 'set', 'things', 'alight', 'people', 'realized', 'life', ',', 'coming', 'end', ',', \"''\", 'said', '.', '``', 'People', 'would', 'longer', 'free', ',', 'able', 'go', '.', \"''\", 'Since', ',', 'protests', 'tapered', 'France', ',', 'partly', 'mainstream', 'party', 'openly', 'encouraging', 'supporters', 'join', '.', 'France', \"'s\", 'vaccine', 'rates', 'among', 'highest', 'Europe', ',', 'suggesting', 'even', 'countries', 'strong', 'vaccine', 'hesitancy', '--', 'France', 'even', 'pandemic', '--', 'far-right', 'populist', 'parties', \"'\", 'stance', 'vaccine', 'impact', '.', 'Elsewhere', 'Europe', ',', 'groups', 'clearly', 'fanning', 'anti-vaccination', 'flames', '.', 'In', 'Austria', ',', 'several', 'protests', 'planned', 'since', 'government', 'announced', 'nationwide', 'vaccine', 'mandate', 'last', 'month', 'planned', 'far-right', 'Freedom', 'Party', '.', 'The', 'mandate', 'due', 'come', 'force', 'February', '2022', '.', 'Even', 'announced', 'move', ',', 'Schallenberg', 'accused', 'Freedom', 'Party', 'responsible', 'country', \"'s\", 'low', 'vaccination', 'rates', 'stirred', 'vaccine', 'hesitancy', '.', '``', 'We', 'many', 'political', 'forces', 'country', 'fighting', '[', 'vaccination', ']', 'vehemently', ',', 'massively', 'publicly', '.', 'That', 'irresponsible', ',', \"''\", 'Schallenberg', 'said', ',', 'adding', ':', '``', 'Incited', 'radical', 'opponents', 'vaccination', ',', 'specious', 'fake', 'news', ',', 'unfortunately', 'many', 'us', 'vaccinated', '.', 'The', 'consequence', 'overcrowded', 'intensive', 'care', 'units', 'enormous', 'human', 'suffering', '.', \"''\", 'The', 'world', 'tools', 'end', 'coronavirus', 'pandemic', '.', 'They', '&', '#', '39', ';', 'used', 'properly', 'The', 'world', 'tools', 'end', 'coronavirus', 'pandemic', '.', 'They', \"'re\", 'used', 'properly', 'In', 'European', 'countries', ',', 'populist', 'parties', 'also', 'jumped', 'bandwagon', '.', 'And', 'divide', 'opinion', 'pandemic', 'measures', 'longer', 'extreme', 'left', 'extreme', 'right', ',', 'said', 'French', 'political', 'scientist', 'Jean-Yves', 'Camus', ',', '``', 'mainstream', 'periphery', '.', \"''\", '``', 'It', \"'s\", 'much', 'extreme', ',', \"''\", 'Camus', 'said', '.', '``', 'The', 'extreme', 'fringe', 'groups', 'taking', 'advantage', 'pandemic', 'say', ':', \"'This\", 'virus', 'fake', ',', 'pandemic', 'tricked', 'governments', '.', 'It', \"'s\", 'worldwide', 'conspiracy', 'national', 'governments', '.', 'They', 'using', 'pandemic', 'infringe', 'individual', 'rights', 'using', 'vaccination', 'passes', 'personal', 'data', ',', \"'\", '.', \"''\", 'In', 'parts', 'Eastern', 'Europe', ',', 'also', 'around', 'Germany', '--', 'Northern', 'Italy', 'Netherlands', 'Austria', '--', 'parties', 'focused', 'immigration', 'Europe', 'tapping', 'widespread', 'anger', 'opposed', 'vaccines', 'Covid-19', 'restrictions', ',', 'shifting', 'attention', 'issue', 'far', 'likely', 'appeal', 'apolitical', 'cut', 'across', 'traditional', 'party', 'political', 'lines', '.', 'Their', 'new', 'enemy', 'far', 'federating', ':', 'The', 'Covid-19', 'measures', 'vaccination', 'campaigns', 'say', 'threaten', 'freedom', '.', 'A', 'protester', 'wearing', 'mask', 'depicting', 'syringes', 'applauds', 'Geneva', ',', 'Switzerland', ',', 'October', '9', ',', '2021', ',', 'rally', 'coronavirus', 'measures', '.', 'A', 'protester', 'wearing', 'mask', 'depicting', 'syringes', 'applauds', 'Geneva', ',', 'Switzerland', ',', 'October', '9', ',', '2021', ',', 'rally', 'coronavirus', 'measures', '.', 'Vaccine', 'mandates', 'The', 'World', 'Health', 'Organization', 'cautioned', 'vaccine', 'mandates', ',', 'potential', 'impact', 'public', 'confidence', 'public', 'trust', '.', 'Dr', 'Hans', 'Kluge', ',', 'WHO', \"'s\", 'Europe', 'Director', ',', 'said', 'used', '``', 'absolute', 'last', 'resort', ',', 'applicable', 'feasible', 'options', 'improve', 'vaccine', 'uptake', 'exhausted', '.', \"''\", 'In', 'part', 'world', 'fight', 'pandemic', 'already', 'hampered', 'vaccine', 'hesitancy', ',', 'mandates', 'could', 'fuel', 'resistance', '.', '``', 'The', 'worry', 'anti-vaxxers', 'could', 'come', 'hold', 'even', 'extreme', 'positions', ',', \"''\", 'said', 'Russo', ',', 'University', 'Turin', '.', '``', 'That', \"'s\", 'one', 'risk', '.', 'But', 'also', 'consider', 'vaccines', 'become', 'mandatory', ',', 'need', 'controls', 'could', 'undermine', 'institutional', 'trust.', '``', 'In', 'words', ',', 'forced', 'vaccination', 'might', 'push', 'people', 'vaccination', 'centers', 'also', 'drive', 'streets', ',', 'confirming', 'fueling', 'deeply', 'held', 'suspicion', '``', 'system', '.', \"''\", 'The', 'fight', 'pandemic', 'may', 'one', 'day', 'come', 'end', ',', 'fight', 'populism', 'Europe', 'could', 'beginning', '.']\n",
      "Stemmed Sentence: ['pari', '(', 'cnn', ')', \"''\", 'despit', 'month', 'persuas', ',', 'despit', 'intens', 'media', 'campaign', ',', 'despit', 'discuss', 'variou', 'media', 'succeed', 'convinc', 'enough', 'peopl', 'get', 'vaccin', '.', \"''\", 'those', 'word', 'former', 'austrian', 'chancellor', 'alexand', 'schallenberg', 'last', 'month', 'announc', 'first', 'nationwid', 'vaccin', 'mandat', 'europ', '.', 'now', ',', 'germani', 'look', 'set', 'follow', 'austria', 'led', '.', 'other', 'made', 'vaccin', 'mandatori', 'part', 'popul', 'impos', 'restrict', 'increasingli', 'explicitli', 'target', 'unvaccin', ',', 'europ', 'battl', 'twin', 'challeng', 'sharpli', 'rise', 'covid', 'figur', 'plateau', 'vaccin', 'rate', '.', 'nearli', 'one', 'year', 'eu', \"'s\", 'vaccin', 'campaign', ',', 'around', 'one', 'three', 'european', 'still', 'unvaccin', ',', 'much', 'hesit', 'european', 'govern', 'face', 'outright', 'opposit', ',', 'danger', 'govern', 'get', 'tougher', 'popular', 'anger', 'toward', '.', 'the', 'crucial', 'question', 'trust', 'onli', '19', '%', 'european', 'includ', 'govern', 'among', 'trust', 'sourc', 'reliabl', 'inform', 'covid-19', 'vaccin', ',', 'accord', 'survey', 'conduct', 'may', '2021', 'european', 'baromet', ',', 'collect', 'cross-countri', 'public', 'opinion', 'survey', 'conduct', 'regularli', 'behalf', 'eu', \"'s\", 'institut', '.', 'even', 'pandem', ',', 'vaccin', 'hesit', 'europ', 'strongli', 'correl', 'populist', 'distrust', 'mainstream', 'parti', 'govern', '.', 'one', 'studi', 'publish', 'european', 'journal', 'public', 'health', '2019', 'found', '``', 'highli', 'signific', 'posit', 'associ', 'percentag', 'peopl', 'countri', 'vote', 'populist', 'parti', 'percentag', 'believ', 'vaccin', 'import', 'effect', '.', \"''\", 'what', 'pandem', 'provid', 'europe-wid', 'real-tim', 'test', 'correl', '.', 'nearli', 'two', 'year', 'countri', 'exhaust', 'mean', 'encourag', 'peopl', 'get', 'vaccin', ',', 'map', 'remain', 'unvaccin', 'show', 'distrust', 'govern', 'tradit', 'polit', 'parti', '--', 'measur', 'strength', 'populist', 'movement', '--', 'mani', 'peopl', 'yet', 'get', 'vaccin', '.', 'essenti', ',', 'peopl', 'trust', 'institut', 'need', 'convinc', 'face', 'pandem', ';', 'peopl', \"n't\", 'unlik', 'influenc', '.', 'bodi', 'pile', 'outsid', 'hospit', 'morgu', 'romania', 'struggl', 'fourth', 'wave', 'covid', 'bodi', 'pile', 'outsid', 'hospit', 'morgu', 'romania', 'struggl', 'fourth', 'wave', 'covid', 'eastern', 'europ', 'vaccin', 'rate', 'lowest', '.', 'bulgaria', 'lowest', 'rate', ',', '26.6', '%', 'total', 'popul', 'vaccin', ',', 'accord', 'govern', 'data', '.', 'the', 'countri', 'also', 'go', 'major', 'polit', 'crisi', 'three', 'parliamentari', 'elect', 'held', 'year', '.', 'difficulti', 'vaccin', 'rollout', 'reach', 'remot', 'elderli', 'rural', 'popul', 'also', 'blame', 'eastern', 'europ', ',', 'countri', 'vaccin', 'take-up', 'lowest', ',', 'populist', 'parti', 'either', 'power', 'strong', 'elector', '.', 'further', 'west', ',', 'lower', 'vaccin', 'rate', 'also', 'found', 'countri', 'region', 'either', 'popular', 'volubl', 'populist', 'extremist', 'movement', ',', 'germani', ',', 'austria', 'northern', 'itali', '.', 'in', 'paper', 'publish', 'journal', 'psycholog', 'medicin', 'octob', ',', 'michel', 'roccato', 'silvia', 'russo', 'univers', 'turin', 'argu', 'studi', 'show', '``', 'peopl', 'populist', 'orient', 'tend', 'refus', 'covid-19', 'vaccin', ',', 'line', 'previou', 'research', 'show', 'vaccin', 'refus', 'often', 'politic', ',', 'politic', 'limit', 'tradit', 'left-right', 'cleavag', '.', \"''\", 'a', 'new', 'common', 'enemi', 'sophi', 'tissier', ',', 'organ', 'protest', 'covid-19', 'restrict', 'vaccin', 'franc', ',', 'say', 'protest', 'creat', 'new', 'polit', 'forc', 'radic', 'goe', 'beyond', 'parti', 'polit', 'line', '.', 'she', 'say', 'group', 'seek', '``', 'creat', 'citizen', \"'\", 'opposit', 'beyond', 'elector', 'consider', 'much', 'like', 'watchdog', 'sit', 'outsid', 'world', 'polit', 'abl', 'tell', ':', \"'look\", ',', 'longer', 'protect', 'right', ',', 'longer', 'protect', 'right', 'law', '.', \"'\", \"''\", 'demonstr', 'march', 'protest', 'coronaviru', 'measur', 'brussel', ',', 'belgium', ',', 'decemb', '5', ',', '2021', '.', 'demonstr', 'march', 'protest', 'coronaviru', 'measur', 'brussel', ',', 'belgium', ',', 'decemb', '5', ',', '2021', '.', 'in', 'august', ',', '230,000', 'peopl', 'took', 'street', 'across', 'countri', 'one', 'day', 'franc', 'becam', 'one', 'first', 'european', 'countri', 'announc', 'use', 'rel', 'strict', 'vaccin', 'pass', '.', '``', 'it', 'realli', 'set', 'thing', 'alight', 'peopl', 'realiz', 'life', ',', 'come', 'end', ',', \"''\", 'said', '.', '``', 'peopl', 'would', 'longer', 'free', ',', 'abl', 'go', '.', \"''\", 'sinc', ',', 'protest', 'taper', 'franc', ',', 'partli', 'mainstream', 'parti', 'openli', 'encourag', 'support', 'join', '.', 'franc', \"'s\", 'vaccin', 'rate', 'among', 'highest', 'europ', ',', 'suggest', 'even', 'countri', 'strong', 'vaccin', 'hesit', '--', 'franc', 'even', 'pandem', '--', 'far-right', 'populist', 'parti', \"'\", 'stanc', 'vaccin', 'impact', '.', 'elsewher', 'europ', ',', 'group', 'clearli', 'fan', 'anti-vaccin', 'flame', '.', 'in', 'austria', ',', 'sever', 'protest', 'plan', 'sinc', 'govern', 'announc', 'nationwid', 'vaccin', 'mandat', 'last', 'month', 'plan', 'far-right', 'freedom', 'parti', '.', 'the', 'mandat', 'due', 'come', 'forc', 'februari', '2022', '.', 'even', 'announc', 'move', ',', 'schallenberg', 'accus', 'freedom', 'parti', 'respons', 'countri', \"'s\", 'low', 'vaccin', 'rate', 'stir', 'vaccin', 'hesit', '.', '``', 'we', 'mani', 'polit', 'forc', 'countri', 'fight', '[', 'vaccin', ']', 'vehement', ',', 'massiv', 'publicli', '.', 'that', 'irrespons', ',', \"''\", 'schallenberg', 'said', ',', 'ad', ':', '``', 'incit', 'radic', 'oppon', 'vaccin', ',', 'speciou', 'fake', 'news', ',', 'unfortun', 'mani', 'us', 'vaccin', '.', 'the', 'consequ', 'overcrowd', 'intens', 'care', 'unit', 'enorm', 'human', 'suffer', '.', \"''\", 'the', 'world', 'tool', 'end', 'coronaviru', 'pandem', '.', 'they', '&', '#', '39', ';', 'use', 'properli', 'the', 'world', 'tool', 'end', 'coronaviru', 'pandem', '.', 'they', \"'re\", 'use', 'properli', 'in', 'european', 'countri', ',', 'populist', 'parti', 'also', 'jump', 'bandwagon', '.', 'and', 'divid', 'opinion', 'pandem', 'measur', 'longer', 'extrem', 'left', 'extrem', 'right', ',', 'said', 'french', 'polit', 'scientist', 'jean-yv', 'camu', ',', '``', 'mainstream', 'peripheri', '.', \"''\", '``', 'it', \"'s\", 'much', 'extrem', ',', \"''\", 'camu', 'said', '.', '``', 'the', 'extrem', 'fring', 'group', 'take', 'advantag', 'pandem', 'say', ':', \"'thi\", 'viru', 'fake', ',', 'pandem', 'trick', 'govern', '.', 'it', \"'s\", 'worldwid', 'conspiraci', 'nation', 'govern', '.', 'they', 'use', 'pandem', 'infring', 'individu', 'right', 'use', 'vaccin', 'pass', 'person', 'data', ',', \"'\", '.', \"''\", 'in', 'part', 'eastern', 'europ', ',', 'also', 'around', 'germani', '--', 'northern', 'itali', 'netherland', 'austria', '--', 'parti', 'focus', 'immigr', 'europ', 'tap', 'widespread', 'anger', 'oppos', 'vaccin', 'covid-19', 'restrict', ',', 'shift', 'attent', 'issu', 'far', 'like', 'appeal', 'apolit', 'cut', 'across', 'tradit', 'parti', 'polit', 'line', '.', 'their', 'new', 'enemi', 'far', 'feder', ':', 'the', 'covid-19', 'measur', 'vaccin', 'campaign', 'say', 'threaten', 'freedom', '.', 'a', 'protest', 'wear', 'mask', 'depict', 'syring', 'applaud', 'geneva', ',', 'switzerland', ',', 'octob', '9', ',', '2021', ',', 'ralli', 'coronaviru', 'measur', '.', 'a', 'protest', 'wear', 'mask', 'depict', 'syring', 'applaud', 'geneva', ',', 'switzerland', ',', 'octob', '9', ',', '2021', ',', 'ralli', 'coronaviru', 'measur', '.', 'vaccin', 'mandat', 'the', 'world', 'health', 'organ', 'caution', 'vaccin', 'mandat', ',', 'potenti', 'impact', 'public', 'confid', 'public', 'trust', '.', 'dr', 'han', 'kluge', ',', 'who', \"'s\", 'europ', 'director', ',', 'said', 'use', '``', 'absolut', 'last', 'resort', ',', 'applic', 'feasibl', 'option', 'improv', 'vaccin', 'uptak', 'exhaust', '.', \"''\", 'in', 'part', 'world', 'fight', 'pandem', 'alreadi', 'hamper', 'vaccin', 'hesit', ',', 'mandat', 'could', 'fuel', 'resist', '.', '``', 'the', 'worri', 'anti-vaxx', 'could', 'come', 'hold', 'even', 'extrem', 'posit', ',', \"''\", 'said', 'russo', ',', 'univers', 'turin', '.', '``', 'that', \"'s\", 'one', 'risk', '.', 'but', 'also', 'consid', 'vaccin', 'becom', 'mandatori', ',', 'need', 'control', 'could', 'undermin', 'institut', 'trust.', '``', 'in', 'word', ',', 'forc', 'vaccin', 'might', 'push', 'peopl', 'vaccin', 'center', 'also', 'drive', 'street', ',', 'confirm', 'fuel', 'deepli', 'held', 'suspicion', '``', 'system', '.', \"''\", 'the', 'fight', 'pandem', 'may', 'one', 'day', 'come', 'end', ',', 'fight', 'popul', 'europ', 'could', 'begin', '.']\n"
     ]
    }
   ],
   "source": [
    "# Stemming\n",
    "ps = PorterStemmer()\n",
    "stemmed_words=[]\n",
    "for w in filtered_words:\n",
    "    stemmed_words.append(ps.stem(w))\n",
    "\n",
    "print(\"Filtered Sentence:\",filtered_words)\n",
    "print(\"Stemmed Sentence:\",stemmed_words)"
   ]
  },
  {
   "cell_type": "code",
   "execution_count": 27,
   "id": "0d764aad",
   "metadata": {
    "ExecuteTime": {
     "end_time": "2022-04-27T10:15:40.391492Z",
     "start_time": "2022-04-27T10:15:40.379332Z"
    }
   },
   "outputs": [
    {
     "name": "stdout",
     "output_type": "stream",
     "text": [
      "Al fer Stemming a la llista sense stop words es passa de 1005 a 1005 entrades.\n"
     ]
    }
   ],
   "source": [
    "print(f'Al fer Stemming a la llista sense stop words es passa de {len(filtered_words)} a {len(stemmed_words)} entrades.')"
   ]
  },
  {
   "cell_type": "markdown",
   "id": "b9e35253",
   "metadata": {},
   "source": [
    "No es borra cap entrada, si no que es transforma per la seva arrel. Es pot veure en les gràfiques de distribució:"
   ]
  },
  {
   "cell_type": "code",
   "execution_count": 28,
   "id": "e092e7ab",
   "metadata": {
    "ExecuteTime": {
     "end_time": "2022-04-27T10:15:40.423410Z",
     "start_time": "2022-04-27T10:15:40.403269Z"
    }
   },
   "outputs": [],
   "source": [
    "fdist_stemming = FreqDist(stemmed_words)\n",
    "fdist_filtered =FreqDist(filtered_words)"
   ]
  },
  {
   "cell_type": "code",
   "execution_count": 29,
   "id": "644223c0",
   "metadata": {
    "ExecuteTime": {
     "end_time": "2022-04-27T10:15:41.178408Z",
     "start_time": "2022-04-27T10:15:40.428201Z"
    }
   },
   "outputs": [
    {
     "data": {
      "image/png": "[encoded data removed]",
      "text/plain": [
       "<Figure size 432x288 with 1 Axes>"
      ]
     },
     "metadata": {
      "needs_background": "light"
     },
     "output_type": "display_data"
    }
   ],
   "source": [
    "fdist_filtered.plot(30,cumulative=False)\n",
    "plt.show()"
   ]
  },
  {
   "cell_type": "code",
   "execution_count": 30,
   "id": "355710b6",
   "metadata": {
    "ExecuteTime": {
     "end_time": "2022-04-27T10:15:41.722648Z",
     "start_time": "2022-04-27T10:15:41.192233Z"
    },
    "scrolled": true
   },
   "outputs": [
    {
     "data": {
      "image/png": "[encoded data removed]",
      "text/plain": [
       "<Figure size 432x288 with 1 Axes>"
      ]
     },
     "metadata": {
      "needs_background": "light"
     },
     "output_type": "display_data"
    }
   ],
   "source": [
    "fdist_stemming.plot(30,cumulative=False)\n",
    "plt.show()"
   ]
  },
  {
   "cell_type": "markdown",
   "id": "1d4a9e63",
   "metadata": {},
   "source": [
    "A la gràfica ja es pot veure les paraules amb la mateixa arrel (vaccine, vaccination, vaccines, vaccined) es transformen en la paraula arrel (vaccin) incrementant sensiblement la seva freqüència."
   ]
  },
  {
   "cell_type": "markdown",
   "id": "b68e6fbb",
   "metadata": {},
   "source": [
    "## Nivell 3"
   ]
  },
  {
   "cell_type": "markdown",
   "id": "295bac24",
   "metadata": {},
   "source": [
    " **- Exercici 4:** Realitza sentiment analysis al teu conjunt de dades."
   ]
  },
  {
   "cell_type": "markdown",
   "id": "c22b159d",
   "metadata": {},
   "source": [
    "Fem el sentiment anàlisis amb la llibreria VADEr (Valence Aware Dictionary and sEntiment Reasoner) de NLTK que és un  Pre-Trained Sentiment Analyzer:"
   ]
  },
  {
   "cell_type": "code",
   "execution_count": 31,
   "id": "02c92f48",
   "metadata": {
    "ExecuteTime": {
     "end_time": "2022-04-27T10:15:41.800398Z",
     "start_time": "2022-04-27T10:15:41.729590Z"
    }
   },
   "outputs": [],
   "source": [
    "sia = SentimentIntensityAnalyzer()"
   ]
  },
  {
   "cell_type": "code",
   "execution_count": 32,
   "id": "ff88a1dc",
   "metadata": {
    "ExecuteTime": {
     "end_time": "2022-04-27T10:15:41.892405Z",
     "start_time": "2022-04-27T10:15:41.804387Z"
    }
   },
   "outputs": [
    {
     "data": {
      "text/plain": [
       "{'neg': 0.097, 'neu': 0.794, 'pos': 0.108, 'compound': 0.9751}"
      ]
     },
     "execution_count": 32,
     "metadata": {},
     "output_type": "execute_result"
    }
   ],
   "source": [
    "sia = SentimentIntensityAnalyzer()\n",
    "sia.polarity_scores(text=text)"
   ]
  },
  {
   "cell_type": "markdown",
   "id": "4a989938",
   "metadata": {},
   "source": [
    "Al ser un article d'un medi de comunicació global es manté en un to neutre majoritariament. No hi ha opinions radicals ni punts de vista catastrofistres. L'article dóna la informació de forma objectiva i no transmet un sentiment ni clarament negatiu ni positiu, hauria de ser així per a la premsa que es considera objectiva."
   ]
  },
  {
   "cell_type": "markdown",
   "id": "8606d586",
   "metadata": {},
   "source": [
    "Font del Sprint 12: \n",
    "* https://www.datacamp.com/community/tutorials/text-analytics-beginners-nltk\n",
    "\n",
    "Altres webs consultades:\n",
    "* https://realpython.com/sentiment-analysis-python/\n",
    "* https://realpython.com/python-nltk-sentiment-analysis/"
   ]
  }
 ],
 "metadata": {
  "kernelspec": {
   "display_name": "Python 3 (ipykernel)",
   "language": "python",
   "name": "python3"
  },
  "language_info": {
   "codemirror_mode": {
    "name": "ipython",
    "version": 3
   },
   "file_extension": ".py",
   "mimetype": "text/x-python",
   "name": "python",
   "nbconvert_exporter": "python",
   "pygments_lexer": "ipython3",
   "version": "3.7.12"
  },
  "latex_envs": {
   "LaTeX_envs_menu_present": true,
   "autoclose": false,
   "autocomplete": true,
   "bibliofile": "biblio.bib",
   "cite_by": "apalike",
   "current_citInitial": 1,
   "eqLabelWithNumbers": true,
   "eqNumInitial": 1,
   "hotkeys": {
    "equation": "Ctrl-E",
    "itemize": "Ctrl-I"
   },
   "labels_anchors": false,
   "latex_user_defs": false,
   "report_style_numbering": false,
   "user_envs_cfg": false
  }
 },
 "nbformat": 4,
 "nbformat_minor": 5
}
